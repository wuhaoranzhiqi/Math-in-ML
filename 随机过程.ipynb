{
 "cells": [
  {
   "cell_type": "markdown",
   "id": "d58cff7a-18a7-4b65-a10c-a4b1bbae5fda",
   "metadata": {},
   "source": [
    "# 随机过程"
   ]
  },
  {
   "cell_type": "markdown",
   "id": "fe352739-a2f9-4038-8f50-193a6f42b8f8",
   "metadata": {},
   "source": [
    "## 马尔科夫过程"
   ]
  },
  {
   "cell_type": "code",
   "execution_count": 1,
   "id": "dcad3a9a-bc23-4b0e-ba3c-50f80e19c162",
   "metadata": {},
   "outputs": [],
   "source": [
    "# 随机过程: 随时间和空间的变化"
   ]
  },
  {
   "cell_type": "markdown",
   "id": "9d5ed3c2-f660-4166-a5ad-65ca832925e6",
   "metadata": {},
   "source": [
    "### 马尔科夫性"
   ]
  },
  {
   "cell_type": "code",
   "execution_count": 2,
   "id": "add5c1dc-91ca-4999-b6e4-a558c54a9edb",
   "metadata": {},
   "outputs": [],
   "source": [
    "# 马尔科夫假设: 当前时刻的状态值只与上一个时刻的状态值有关, 与更早的时刻无关\n",
    "# 序列的联合概率由各个时刻的条件概率值p(Xt|Xt-1)以及初始概率p(X0)决定"
   ]
  },
  {
   "cell_type": "markdown",
   "id": "6053b4cf-e2bc-4b71-b017-cd22b0514a7e",
   "metadata": {},
   "source": [
    "### 马尔科夫链的基本概念"
   ]
  },
  {
   "cell_type": "code",
   "execution_count": 3,
   "id": "a539a4ce-1464-408f-af3d-e204b550095c",
   "metadata": {},
   "outputs": [],
   "source": [
    "# 离散时间, 有限状态空间的马尔科夫链\n",
    "## 状态转移方程: 他的任意一行元素之和为1."
   ]
  },
  {
   "cell_type": "code",
   "execution_count": 7,
   "id": "7288b5ae-9e01-46c7-9877-7fa34b50a712",
   "metadata": {},
   "outputs": [],
   "source": [
    "# 离散时间, 状态连续的马尔科夫链\n",
    "# 状态转移图: "
   ]
  },
  {
   "cell_type": "code",
   "execution_count": 1,
   "id": "b664beae-70cc-47e8-964d-bf3b01c6a7b2",
   "metadata": {},
   "outputs": [],
   "source": [
    "# 马尔科夫链的联合概率\n",
    "# 马尔科夫链的全概率公式\n",
    "# 状态的时间线递推公式"
   ]
  },
  {
   "cell_type": "code",
   "execution_count": 2,
   "id": "4d464ef9-22cb-4a1f-96b1-49cfc463ac52",
   "metadata": {},
   "outputs": [],
   "source": [
    "# n步状态转移矩阵(C-K方程)\n",
    "# P^(n+l) = P^(n)P^(l)\n",
    "# P^(n) = P^n"
   ]
  },
  {
   "cell_type": "markdown",
   "id": "21c37c5f-8e9a-419d-9151-942497c0d811",
   "metadata": {},
   "source": [
    "### 状态的性质与分类"
   ]
  },
  {
   "cell_type": "code",
   "execution_count": 3,
   "id": "97481992-6b2f-4d91-ab22-ece8e6b62477",
   "metadata": {},
   "outputs": [],
   "source": [
    "# 可达\n",
    "# 互通"
   ]
  },
  {
   "cell_type": "code",
   "execution_count": null,
   "id": "076385eb-a302-497e-8f91-351f92e64cae",
   "metadata": {},
   "outputs": [],
   "source": [
    "# 不可约的: 任意两个状态都是互通的\n",
    "# 互通子集\n",
    "# 如果两个状态相通, 他们的周期相同"
   ]
  },
  {
   "cell_type": "code",
   "execution_count": null,
   "id": "32929d60-4af7-4b0b-9159-12e20d4c8e37",
   "metadata": {},
   "outputs": [],
   "source": [
    "# fij表示从状态i出发迟早将转移到状态j的概率\n",
    "# 常返\n",
    "# 非常返"
   ]
  },
  {
   "cell_type": "code",
   "execution_count": null,
   "id": "2c04612d-90a8-4afd-86d8-0ee801edb3cf",
   "metadata": {},
   "outputs": [],
   "source": [
    "# 常返态的充要条件\n",
    "# 不可约的马尔科夫链所有状态的常反性相同"
   ]
  },
  {
   "cell_type": "code",
   "execution_count": null,
   "id": "8f8a00f6-cd22-40a5-adba-c521633919cb",
   "metadata": {},
   "outputs": [],
   "source": [
    "# 如果i<=>j, 且j是常返的, 则fij=1\n",
    "# 如果状态j是非常返的, 那么任意状态i出发到达j的次数的数学期望是有限的"
   ]
  },
  {
   "cell_type": "code",
   "execution_count": null,
   "id": "d3e2f331-ec57-47bf-8af5-3d44cb8337c6",
   "metadata": {},
   "outputs": [],
   "source": [
    "# 平均转移次数uii\n",
    "## 假设i是常返的, 如果uii < 无穷, 则是正常返的; 如果uii是无穷, 则是零常返的\n",
    "## 正常返说明, 不但以概率1返回该状态, 而且返回该状态的平均时间是有限的, 此时pii^(n)极限>0\n",
    "## 零常返说明, 平均返回时间是无穷, 此时pii^(n)极限为0"
   ]
  },
  {
   "cell_type": "code",
   "execution_count": null,
   "id": "8059d102-f169-42c8-9970-f78751c76d50",
   "metadata": {},
   "outputs": [],
   "source": [
    "# 有限状态 不可约马尔科夫链的所有状态都是正常返的"
   ]
  },
  {
   "cell_type": "markdown",
   "id": "7e336ac6-b883-4cc9-b6a2-59125d26d153",
   "metadata": {},
   "source": [
    "### 平稳分布与极限分布"
   ]
  },
  {
   "cell_type": "code",
   "execution_count": null,
   "id": "cb4d20c5-87df-44f5-90ab-5b08786f01a9",
   "metadata": {},
   "outputs": [],
   "source": [
    "# 平稳分布: 如果对概率向量进行不断迭代, 最终可以收敛"
   ]
  },
  {
   "cell_type": "code",
   "execution_count": 6,
   "id": "cecaf29d-b90e-4773-9553-b2a58ebae3f3",
   "metadata": {},
   "outputs": [
    {
     "name": "stdout",
     "output_type": "stream",
     "text": [
      "[[0.5535715  0.32142863 0.12500003]]\n"
     ]
    },
    {
     "data": {
      "image/png": "[encoded data removed]",
      "text/plain": [
       "<Figure size 432x288 with 1 Axes>"
      ]
     },
     "metadata": {
      "needs_background": "light"
     },
     "output_type": "display_data"
    }
   ],
   "source": [
    "import random\n",
    "import math\n",
    "import matplotlib.pyplot as plt\n",
    "import numpy as np\n",
    "%matplotlib inline\n",
    "P = np.array([[0.7, 0.2, 0.1], [0.4, 0.5, 0.1], [0.3, 0.4, 0.3]], dtype='float32')\n",
    "pi = np.array([[0.5, 0.4, 0.1]], dtype='float32')\n",
    "value1 = []\n",
    "value2 = []\n",
    "value3 = []\n",
    "for i in range(50):\n",
    "    pi = np.dot(pi, P)\n",
    "    value1.append(pi[0][0])\n",
    "    value2.append(pi[0][1])\n",
    "    value3.append(pi[0][2])\n",
    "print(pi)\n",
    "x = np.arange(50)\n",
    "plt.plot(x, value1, label='sunshine')\n",
    "plt.plot(x, value2, label='cloudy')\n",
    "plt.plot(x, value3, label='rainy')\n",
    "plt.legend()\n",
    "plt.show()"
   ]
  },
  {
   "cell_type": "code",
   "execution_count": 6,
   "id": "763d8803-3052-4c4a-b906-7335fc6ce1f7",
   "metadata": {},
   "outputs": [
    {
     "name": "stdout",
     "output_type": "stream",
     "text": [
      "[1.  0.3 0.2] [[-8.48757801e-01 -7.07106781e-01  4.08248290e-01]\n",
      " [-4.92827110e-01  7.07106781e-01 -8.16496581e-01]\n",
      " [-1.91654987e-01 -4.12386835e-17  4.08248290e-01]]\n"
     ]
    }
   ],
   "source": [
    "# 计算所有可能的平稳分布\n",
    "import numpy as np\n",
    "A = np.array([[0.7, 0.4, 0.3], [0.2, 0.5, 0.4], [0.1, 0.1, 0.3]])\n",
    "V, U = np.linalg.eig(A)  # 特征值分解\n",
    "print(V, U)"
   ]
  },
  {
   "cell_type": "code",
   "execution_count": 8,
   "id": "fba2c845-88ee-41bc-8ddd-81c74451881a",
   "metadata": {},
   "outputs": [],
   "source": [
    "# 马尔科夫链平稳分布的存在性和唯一性\n",
    "## 如果一个马尔科夫链式非周期 不可约的, 当且仅当所有状态都是正常返的, 那么存在且唯一\n",
    "## 如果一个马尔科夫链是非周期 不可约的, 且他的所有状态全是非常返的, 或全是零常返的, 则极限为0, 平稳分布不存在\n",
    "## 如果一个马尔科夫链是可约的, 通常情况下存在多个平稳分布"
   ]
  },
  {
   "cell_type": "code",
   "execution_count": 9,
   "id": "99d883bd-0ccd-4a83-a271-d69ae921e687",
   "metadata": {},
   "outputs": [],
   "source": [
    "# 极限分布是时间趋向于无穷时, 每个状态j出现的概率\n",
    "# 极限分布的各个状态概率与初始状态无关"
   ]
  },
  {
   "cell_type": "code",
   "execution_count": 10,
   "id": "dd5bcee8-0f4c-4de1-b958-378c26b4febb",
   "metadata": {},
   "outputs": [],
   "source": [
    "# 如果平稳分布存在, 则状态转移矩阵幂的极限也存在, 且每一列的元素均等于状态j的平稳分布 派j"
   ]
  },
  {
   "cell_type": "markdown",
   "id": "634226c1-1be2-4e9e-80f8-7a3a42f70791",
   "metadata": {},
   "source": [
    "### 细致平衡条件"
   ]
  },
  {
   "cell_type": "code",
   "execution_count": null,
   "id": "ef321b8b-490d-453f-acb4-d596082149ce",
   "metadata": {},
   "outputs": [],
   "source": [
    "# 对于给定状态概率分布 派的条件下, 构造出状态转移矩阵P, 使得其平稳分布是派\n",
    "# 如果满足派i Pij = 派j Pji, 那么派是马尔科夫链的平稳分布"
   ]
  },
  {
   "cell_type": "markdown",
   "id": "f954b1f7-4f15-4bba-bc24-93f56428e02b",
   "metadata": {},
   "source": [
    "### 应用: 隐马尔科夫模型"
   ]
  },
  {
   "cell_type": "code",
   "execution_count": 11,
   "id": "bc9a35b2-a9d7-4ab3-9450-4bda6389310f",
   "metadata": {},
   "outputs": [],
   "source": [
    "# HMM"
   ]
  },
  {
   "cell_type": "code",
   "execution_count": 12,
   "id": "40774611-558a-4fe2-aeb3-2996945c0e8b",
   "metadata": {},
   "outputs": [],
   "source": [
    "# 通过观测值推断出状态值, 从而识别出动作"
   ]
  },
  {
   "cell_type": "markdown",
   "id": "02493f3c-5e0e-4d37-a267-87cfabb78fdb",
   "metadata": {},
   "source": [
    "### 应用: 强化学习"
   ]
  },
  {
   "cell_type": "code",
   "execution_count": 13,
   "id": "92bd3c00-859f-4bd4-ad62-3ba2986cbebd",
   "metadata": {},
   "outputs": [],
   "source": [
    "# 马尔科夫决策过程(MDP)是增加动作和奖励机制之后的马尔科夫过程"
   ]
  },
  {
   "cell_type": "markdown",
   "id": "d7bcda01-91d1-464b-bcd2-c9dcbef342cf",
   "metadata": {},
   "source": [
    "## 马尔科夫链采样算法"
   ]
  },
  {
   "cell_type": "markdown",
   "id": "de8ab737-6399-482d-a3c0-22b3a4d24b90",
   "metadata": {},
   "source": [
    "### 基本马尔科夫链采样"
   ]
  },
  {
   "cell_type": "code",
   "execution_count": 14,
   "id": "9aa764ba-680a-4636-9ff9-5cf005b17768",
   "metadata": {},
   "outputs": [],
   "source": [
    "# MCMC算法的思路就是构造平稳分布为派的马尔科夫链, 从中产生样本"
   ]
  },
  {
   "cell_type": "markdown",
   "id": "6145729c-8301-4ad2-b21d-3ae7be91831b",
   "metadata": {},
   "source": [
    "### MCMC采样算法"
   ]
  },
  {
   "cell_type": "code",
   "execution_count": 15,
   "id": "4a080ca5-f9bb-4ac5-af47-d6667676403b",
   "metadata": {},
   "outputs": [],
   "source": [
    "# 首先使用任意设定的状态转移矩阵A(aij 提议分布)对当前时刻样本xt进行采样, 生成候选状态x*\n",
    "# 然后用另外一个概率qij对候选状态进行接受, 生成下一个采样样本, 否则拒绝该候选值"
   ]
  },
  {
   "cell_type": "markdown",
   "id": "46aca9d1-6b4d-4979-a450-bea662c96bbd",
   "metadata": {},
   "source": [
    "### Metropolis-Hastings算法"
   ]
  },
  {
   "cell_type": "code",
   "execution_count": 16,
   "id": "7d6a7e4c-d074-4290-aa1e-b987e249bb1f",
   "metadata": {},
   "outputs": [],
   "source": [
    "# 该算法旨在解决MCMC采样效率问题, 保证x' 和 x互相转换一定可以发生"
   ]
  },
  {
   "cell_type": "markdown",
   "id": "f849c464-45aa-4597-980c-a18b2b1c097d",
   "metadata": {},
   "source": [
    "### Gibbs算法"
   ]
  },
  {
   "cell_type": "code",
   "execution_count": 1,
   "id": "091db9b7-ae5d-4692-98bc-f4b34dc4c150",
   "metadata": {},
   "outputs": [],
   "source": [
    "# 使用和之前MCMC方法不同的思路构造满足细致平衡条件的状态转移概率, 通过使用随机变量各分量之间的条件概率而实现"
   ]
  },
  {
   "cell_type": "code",
   "execution_count": 2,
   "id": "9a6a35c9-4e89-478b-a1eb-435a6caa038d",
   "metadata": {},
   "outputs": [],
   "source": [
    "# Gibbs采样算法至少是二维的, 而Metropolis采样没有这个问题\n",
    "# Gibbs采样算法特别适合用于高维问题"
   ]
  },
  {
   "cell_type": "markdown",
   "id": "bbb5b25e-9e36-461e-b666-7e515be5d2ef",
   "metadata": {},
   "source": [
    "## 高斯问题"
   ]
  },
  {
   "cell_type": "markdown",
   "id": "9f599bc3-b770-4f61-afa0-dc2963c4b643",
   "metadata": {},
   "source": [
    "### 高斯过程性质"
   ]
  },
  {
   "cell_type": "code",
   "execution_count": 3,
   "id": "f2d3557b-be32-47bf-9f78-f2fbf2aefe60",
   "metadata": {},
   "outputs": [],
   "source": [
    "# 高斯过程: 用于对一组随着时间增长的随机向量进行建模, 随机向量的所有字向量均服从高斯分布"
   ]
  },
  {
   "cell_type": "markdown",
   "id": "ec20e284-ec3a-4f9e-8b23-913e5d82fefb",
   "metadata": {},
   "source": [
    "### 高斯过程回归"
   ]
  },
  {
   "cell_type": "code",
   "execution_count": 4,
   "id": "8f6d0760-e7c1-40de-a616-2c4cedd0ef2f",
   "metadata": {},
   "outputs": [],
   "source": [
    "# 拟合出黑盒函数, 给出的f(x)的概率分布\n",
    "# 假设函数值y构成的随机向量服从多维正态分布\n",
    "# 计算: 均值使用采样点x的均值求得; 协方差使用核函数去近似"
   ]
  },
  {
   "cell_type": "markdown",
   "id": "0f7ae3ac-634b-4bb7-8537-20d8930cbeb0",
   "metadata": {},
   "source": [
    "### 应用: 贝叶斯优化"
   ]
  },
  {
   "cell_type": "code",
   "execution_count": 5,
   "id": "7a62a881-54b3-4fe9-84ec-8b2aca802544",
   "metadata": {},
   "outputs": [],
   "source": [
    "# 解决黑盒优化问题的三类方法: 网格搜索, 随机搜索, 贝叶斯优化"
   ]
  },
  {
   "cell_type": "code",
   "execution_count": 6,
   "id": "dc060193-eaa0-4e4d-aaa5-cb6adb6c8119",
   "metadata": {},
   "outputs": [],
   "source": [
    "# 贝叶斯优化:\n",
    "## 1.高斯过程回归: 计算每个点处函数值的均值和方差\n",
    "## 2.根据均值和方差构造采集函数, 用于决定每次迭代时在哪个点处进行采样\n",
    "# 采集函数的构造: \n",
    "## 期望改进方法"
   ]
  },
  {
   "cell_type": "code",
   "execution_count": null,
   "id": "3f5e93f3-d0c1-43c9-8d70-51df5685ca04",
   "metadata": {},
   "outputs": [],
   "source": []
  }
 ],
 "metadata": {
  "kernelspec": {
   "display_name": "Python 3",
   "language": "python",
   "name": "python3"
  },
  "language_info": {
   "codemirror_mode": {
    "name": "ipython",
    "version": 3
   },
   "file_extension": ".py",
   "mimetype": "text/x-python",
   "name": "python",
   "nbconvert_exporter": "python",
   "pygments_lexer": "ipython3",
   "version": "3.7.6"
  },
  "toc-autonumbering": true
 },
 "nbformat": 4,
 "nbformat_minor": 5
}
