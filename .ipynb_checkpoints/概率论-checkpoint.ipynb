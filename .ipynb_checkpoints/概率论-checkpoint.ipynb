{
 "cells": [
  {
   "cell_type": "markdown",
   "id": "872f6e75-abc1-4ff0-8990-246ed4ebe25c",
   "metadata": {},
   "source": [
    "# 概率论"
   ]
  },
  {
   "cell_type": "markdown",
   "id": "4ff92a1b-66ce-4e93-98c0-179276ab0869",
   "metadata": {},
   "source": [
    "## 随机事件与概率"
   ]
  },
  {
   "cell_type": "markdown",
   "id": "e46defc2-3730-40c5-86d3-51b28f50fc98",
   "metadata": {},
   "source": [
    "### 随机事件概率"
   ]
  },
  {
   "cell_type": "code",
   "execution_count": 3,
   "id": "fb91854b-c892-408a-930a-3014d5431a69",
   "metadata": {},
   "outputs": [],
   "source": [
    "# 样本空间\n",
    "# 离散型随机事件(有限空间, 无限可数), 连续性随机事件(无限不可数)"
   ]
  },
  {
   "cell_type": "code",
   "execution_count": 4,
   "id": "12fccaa2-fc96-481a-912a-1b96e4ec1fc3",
   "metadata": {},
   "outputs": [],
   "source": [
    "# 加法公式\n",
    "# 完备事件组"
   ]
  },
  {
   "cell_type": "code",
   "execution_count": 1,
   "id": "052ac499-4b8c-4441-b25e-8abfdd892c1a",
   "metadata": {},
   "outputs": [],
   "source": [
    "# 几何型概率(无限不可数): 长度, 面积, 体积"
   ]
  },
  {
   "cell_type": "markdown",
   "id": "20500cad-c383-4dd9-8a4b-eaeb221787c4",
   "metadata": {},
   "source": [
    "### 条件概率"
   ]
  },
  {
   "cell_type": "code",
   "execution_count": null,
   "id": "65f2b72a-b9a3-4bda-acda-feb45e168302",
   "metadata": {},
   "outputs": [],
   "source": [
    "# 乘法公式\n",
    "# 独立性"
   ]
  },
  {
   "cell_type": "markdown",
   "id": "d4dc7930-ed81-48b5-a77e-c638f1bdd59f",
   "metadata": {},
   "source": [
    "### 全概率公式"
   ]
  },
  {
   "cell_type": "code",
   "execution_count": null,
   "id": "f2d9ca0e-22df-4300-ab18-d14d49731c6f",
   "metadata": {},
   "outputs": [],
   "source": [
    "# P(B) = P(BA1) + P(BA2) +... = P(A1)P(B|A1) + ..."
   ]
  },
  {
   "cell_type": "markdown",
   "id": "18089fdd-df27-495b-8cd9-a5da1f16ab25",
   "metadata": {},
   "source": [
    "### 贝叶斯公式"
   ]
  },
  {
   "cell_type": "code",
   "execution_count": null,
   "id": "a442c717-36c4-48fc-b705-d848d9ae1223",
   "metadata": {},
   "outputs": [],
   "source": [
    "# P(A)是初始概率, 是根据之前的经验得知的概率\n",
    "# P(A|B)是后验概率, 是根据B修正过后的概率"
   ]
  },
  {
   "cell_type": "markdown",
   "id": "c76da519-86bb-438b-a269-35bdf3b6da71",
   "metadata": {},
   "source": [
    "### 条件独立"
   ]
  },
  {
   "cell_type": "code",
   "execution_count": null,
   "id": "ceed0f74-094d-4e01-8c19-552c75583628",
   "metadata": {},
   "outputs": [],
   "source": [
    "# P(A| B,C) = P(A|C)\n",
    "# P(A,B |C) = P(A|C) P(B|C)"
   ]
  },
  {
   "cell_type": "markdown",
   "id": "a5772a00-7370-40c5-b00f-92ad84fbcc7b",
   "metadata": {},
   "source": [
    "## 随机变量"
   ]
  },
  {
   "cell_type": "markdown",
   "id": "bfaa4318-3880-446f-973f-bed6e03437bd",
   "metadata": {},
   "source": [
    "### 离散型随机变量"
   ]
  },
  {
   "cell_type": "code",
   "execution_count": 2,
   "id": "6df1ec2e-2e5f-42b8-a432-d74e1cb3481a",
   "metadata": {},
   "outputs": [],
   "source": [
    "# 分布律P(xi) 概率质量函数\n",
    "# 分布函数F(x)"
   ]
  },
  {
   "cell_type": "markdown",
   "id": "c6242abf-af9f-41a7-9e73-f375ede88ace",
   "metadata": {},
   "source": [
    "### 连续性随机变量"
   ]
  },
  {
   "cell_type": "code",
   "execution_count": 3,
   "id": "dd1287a4-9564-42cd-8cff-3c443c6c9dc0",
   "metadata": {},
   "outputs": [],
   "source": [
    "# 累积分布函数F(x) = P(X<=x)\n",
    "# 概率密度函数f(x): 其值表示随机变量取该值的可能性"
   ]
  },
  {
   "cell_type": "code",
   "execution_count": 4,
   "id": "4bbb4e4b-ae39-4c6f-9d6f-696bff2a6556",
   "metadata": {},
   "outputs": [],
   "source": [
    "# logistic函数是分布函数(变上限积分的极限的1)\n",
    "# 其概率密度函数F(x)(1-F(x))"
   ]
  },
  {
   "cell_type": "code",
   "execution_count": null,
   "id": "49db35d6-7418-4227-8531-d3ba52d10ab1",
   "metadata": {},
   "outputs": [],
   "source": [
    "# 机器学习中的分类, 其实就是线性映射+概率映射\n",
    "# 如果机器学习激活函数的不可导点是无限可数的或者有限集, 那么是可以用的"
   ]
  },
  {
   "cell_type": "markdown",
   "id": "541d5072-1c16-4b12-b8e3-b11edcf958c9",
   "metadata": {},
   "source": [
    "### 数学期望"
   ]
  },
  {
   "cell_type": "code",
   "execution_count": 6,
   "id": "7f2acdd5-a389-4de9-aa06-601813522e1d",
   "metadata": {},
   "outputs": [],
   "source": [
    "# 是随机变量(在概率意义下)的均值\n",
    "# 对于连续性变量, 数学期望使用定积分定义, 他是一个泛函"
   ]
  },
  {
   "cell_type": "markdown",
   "id": "cff840fb-fcd3-4395-8316-b0d87109190a",
   "metadata": {},
   "source": [
    "### 方差与标准差"
   ]
  },
  {
   "cell_type": "code",
   "execution_count": 7,
   "id": "0ddcbbcc-90e1-4386-a403-e17e30432d03",
   "metadata": {},
   "outputs": [],
   "source": [
    "# 方差反映的是随机变量偏离均值的程度\n",
    "# 化简的计算公式: var(X) = E[X2] - E2[X] 平方的期望-期望的平方"
   ]
  },
  {
   "cell_type": "markdown",
   "id": "6b2fa08c-4294-4c6e-8f7a-21b2eb422922",
   "metadata": {},
   "source": [
    "### Jensen不等式"
   ]
  },
  {
   "cell_type": "code",
   "execution_count": 1,
   "id": "c71fbd9f-c8ea-4aae-ae72-fb02c6bd2331",
   "metadata": {},
   "outputs": [],
   "source": [
    "# 关于数学期望的不等式\n",
    "# f(E[x]) <= E[f(x)], 对于凸函数而言"
   ]
  },
  {
   "cell_type": "code",
   "execution_count": null,
   "id": "2bab7898-b4d5-4c07-909c-5ececaa61234",
   "metadata": {},
   "outputs": [],
   "source": [
    "# f(x)是严格凸函数, 不等式取等号, 当且仅当x是常数"
   ]
  },
  {
   "cell_type": "markdown",
   "id": "c7a3d5c7-90f2-4771-8a12-b49fc22a6b46",
   "metadata": {},
   "source": [
    "## 常用概率分布"
   ]
  },
  {
   "cell_type": "code",
   "execution_count": 2,
   "id": "9ea3873a-c2dd-4fe8-b186-6743b86866e0",
   "metadata": {},
   "outputs": [],
   "source": [
    "# 离散型概率分布: 均匀分布, 伯努利分布, 二项分布, 多项分布, 几何分布\n",
    "# 连续性概率分布: 均匀分布, 正太分布, t分布"
   ]
  },
  {
   "cell_type": "markdown",
   "id": "f0ff56b7-9b08-44ef-a3f5-d3c36b58b433",
   "metadata": {},
   "source": [
    "### 均匀分布"
   ]
  },
  {
   "cell_type": "code",
   "execution_count": 5,
   "id": "8cb028b1-5914-4081-ab4f-ce1e368684aa",
   "metadata": {},
   "outputs": [],
   "source": [
    "# 默认生成区间为[0, 1]上的均匀分布随机数\n",
    "import numpy as np\n",
    "a = np.random.rand()"
   ]
  },
  {
   "cell_type": "markdown",
   "id": "819e7de5-9177-49c4-9b48-45ef5ac4ccfd",
   "metadata": {},
   "source": [
    "### 伯努利分布"
   ]
  },
  {
   "cell_type": "code",
   "execution_count": 7,
   "id": "2c5c97f6-f611-4d08-8382-7cbd01530546",
   "metadata": {},
   "outputs": [],
   "source": [
    "# 0-1分布"
   ]
  },
  {
   "cell_type": "markdown",
   "id": "86773879-9952-419e-a6ac-b35a7e5856fd",
   "metadata": {},
   "source": [
    "### 二项分布"
   ]
  },
  {
   "cell_type": "code",
   "execution_count": 8,
   "id": "879a3610-f387-4999-98f1-eb2d02403775",
   "metadata": {},
   "outputs": [],
   "source": [
    "# n个伯努利分布 "
   ]
  },
  {
   "cell_type": "markdown",
   "id": "5e5561d9-6199-4c12-b2cb-c2c65be2af42",
   "metadata": {},
   "source": [
    "### 多项分布"
   ]
  },
  {
   "cell_type": "code",
   "execution_count": null,
   "id": "2a35121e-b1da-4d66-9ddf-d9f0b138bb71",
   "metadata": {},
   "outputs": [],
   "source": [
    "# 随机变量的取值X有k种情况"
   ]
  },
  {
   "cell_type": "markdown",
   "id": "307de95b-6967-4663-98ca-14ef5b35ced9",
   "metadata": {},
   "source": [
    "### 几何分布"
   ]
  },
  {
   "cell_type": "code",
   "execution_count": 9,
   "id": "9e8d3969-67be-4a8e-b247-d9d60b920386",
   "metadata": {},
   "outputs": [],
   "source": [
    "# 随机变量X表示第一次取得成功所需要的试验次数"
   ]
  },
  {
   "cell_type": "markdown",
   "id": "72ca561f-0b53-47fb-814e-81be579bd4c5",
   "metadata": {},
   "source": [
    "### 正态分布"
   ]
  },
  {
   "cell_type": "code",
   "execution_count": 10,
   "id": "4ce749e0-c7a5-4fbd-9b52-1c05e8eaa23a",
   "metadata": {},
   "outputs": [],
   "source": [
    "# 方差越大, 曲线越宽"
   ]
  },
  {
   "cell_type": "markdown",
   "id": "433c0830-6f7c-4532-8681-27c7abe94b9a",
   "metadata": {},
   "source": [
    "### t分布"
   ]
  },
  {
   "cell_type": "markdown",
   "id": "b83eb792-d2d4-4f81-b2af-3394b66bd064",
   "metadata": {},
   "source": [
    "## 分布变换"
   ]
  },
  {
   "cell_type": "markdown",
   "id": "258bea1c-566e-4b9d-9c5e-1e063f7cc8e8",
   "metadata": {},
   "source": [
    "### 随机变量函数"
   ]
  },
  {
   "cell_type": "code",
   "execution_count": null,
   "id": "65547f7a-9b00-48bc-bf80-cc33975b802c",
   "metadata": {},
   "outputs": [],
   "source": [
    "# fY(y) = fX(h(y))|h'(y)|\n",
    "# h(y)是X的反函数, 是关于y的函数"
   ]
  },
  {
   "cell_type": "markdown",
   "id": "da177959-0c0a-4ab7-9009-02831414ffac",
   "metadata": {},
   "source": [
    "### 逆变换采样算法"
   ]
  },
  {
   "cell_type": "code",
   "execution_count": 1,
   "id": "b915eb47-eb65-47a4-b829-e131778886f6",
   "metadata": {},
   "outputs": [],
   "source": [
    "# 采样: 生成某种概率分布的随机数"
   ]
  },
  {
   "cell_type": "code",
   "execution_count": null,
   "id": "68133b1d-8cec-4763-aa6d-b2ec31e72fc0",
   "metadata": {},
   "outputs": [],
   "source": [
    "# 根据一个已知概率分布的随机数构造均匀分布随机数的方法: Y = g(X) = FX(X)\n",
    "# 根据均匀分布随机数构造出某一分布函数已知的概率分布随机数的方法: Y = g(X) = FY-1(X)"
   ]
  },
  {
   "cell_type": "markdown",
   "id": "d92667ad-d93c-4acc-98db-1b85d4ba7440",
   "metadata": {},
   "source": [
    "## 随机向量"
   ]
  },
  {
   "cell_type": "markdown",
   "id": "630dec9e-5e8a-4817-9c45-7b22047a053d",
   "metadata": {},
   "source": [
    "### 离散型随机向量"
   ]
  },
  {
   "cell_type": "markdown",
   "id": "a0e37f3e-fbd7-446b-b21e-98651ac3ec0a",
   "metadata": {},
   "source": [
    "### 连续型随机变量"
   ]
  },
  {
   "cell_type": "code",
   "execution_count": 1,
   "id": "b40f7875-4eee-4821-aead-b9e9ea88f996",
   "metadata": {},
   "outputs": [],
   "source": [
    "# 联合概率密度函数\n",
    "# 分布函数\n",
    "# 边缘概率密度函数\n",
    "# 边缘累积分布函数\n",
    "# 条件概率密度函数\n",
    "# 条件分布函数"
   ]
  },
  {
   "cell_type": "code",
   "execution_count": 3,
   "id": "bc11295b-31f0-4ab9-a46e-29117f580a8b",
   "metadata": {},
   "outputs": [],
   "source": [
    "# 独立同分布"
   ]
  },
  {
   "cell_type": "code",
   "execution_count": 4,
   "id": "b684cdfa-fd50-4980-bb47-08d73ea92174",
   "metadata": {},
   "outputs": [],
   "source": [
    "# 贝叶斯公式"
   ]
  },
  {
   "cell_type": "markdown",
   "id": "b18fa7ec-c7f5-4a5e-a401-72a2c36de56b",
   "metadata": {},
   "source": [
    "### 数学期望"
   ]
  },
  {
   "cell_type": "code",
   "execution_count": 2,
   "id": "0f9d6d35-d0c4-485a-9ccb-dfe775f5ea48",
   "metadata": {},
   "outputs": [],
   "source": [
    "# 随机向量分量的线性组合的期望, 等于, 分量期望的线性组合"
   ]
  },
  {
   "cell_type": "markdown",
   "id": "f9d4cebf-b364-4d51-930d-3ffd8b4653cd",
   "metadata": {},
   "source": [
    "### 协方差"
   ]
  },
  {
   "cell_type": "code",
   "execution_count": 5,
   "id": "d155a596-e972-4303-bcfa-9ac3b0081bc4",
   "metadata": {},
   "outputs": [],
   "source": [
    "# 协方差是方差对两个随机变量的推广\n",
    "# cov(X, Y) = E[ (X-E[X]) (Y-E[Y]) ]  两个随机变量各自的偏差之积的数学期望\n",
    "# cov(X, Y) = E[XY] - E[X]E[Y]\n",
    "# cov(X, X) = E[X2] - E2[X]"
   ]
  },
  {
   "cell_type": "code",
   "execution_count": 6,
   "id": "fdac65be-4cb9-494a-955f-e4493d31a32d",
   "metadata": {},
   "outputs": [],
   "source": [
    "# 相互独立地两个随机变量的cov= 0, 不相关"
   ]
  },
  {
   "cell_type": "code",
   "execution_count": 8,
   "id": "0cc19d17-e360-4cae-b346-f0b5b139343b",
   "metadata": {},
   "outputs": [],
   "source": [
    "# 两个随机变量的协方差为0, 不能推导出相互独立\n",
    "# 协方差只能描述随机变量之间的线性相关性, 不能描述非线性关系\n",
    "# 如果两个随机变量服从正态分布, 则不相关与独立等价"
   ]
  },
  {
   "cell_type": "code",
   "execution_count": 10,
   "id": "643dca27-03d7-41c5-9019-492164388dac",
   "metadata": {},
   "outputs": [],
   "source": [
    "# var[X + Y] = var[X] + var[Y] + 2cov(X, Y)\n",
    "# 如果两个变量相互独立, 则var[X + Y] = var[X] + var[Y]"
   ]
  },
  {
   "cell_type": "code",
   "execution_count": 12,
   "id": "67d91e37-b799-42d8-bc5f-13b6a66a9fb6",
   "metadata": {},
   "outputs": [],
   "source": [
    "# 协方差矩阵: 任意两个分量之间的协方差\n",
    "# 协方差是半正定矩阵"
   ]
  },
  {
   "cell_type": "markdown",
   "id": "dc8f65f8-d92b-41a4-80a6-74fbc4d5d0a2",
   "metadata": {},
   "source": [
    "### 常用的概率分布"
   ]
  },
  {
   "cell_type": "code",
   "execution_count": 13,
   "id": "89a47ee5-c72f-489a-a4bf-20562fe0329a",
   "metadata": {},
   "outputs": [],
   "source": [
    "# 多维均匀分布"
   ]
  },
  {
   "cell_type": "code",
   "execution_count": 19,
   "id": "1337e6c6-a185-4755-9c0c-6680d9410917",
   "metadata": {},
   "outputs": [
    {
     "data": {
      "text/plain": [
       "array([-0.31597656,  0.17902913])"
      ]
     },
     "execution_count": 19,
     "metadata": {},
     "output_type": "execute_result"
    }
   ],
   "source": [
    "# 多维正态分布\n",
    "# python实现生成多维正态分布\n",
    "import numpy as np\n",
    "np.random.randn(2) # 二维"
   ]
  },
  {
   "cell_type": "code",
   "execution_count": 22,
   "id": "296bf73c-a6f6-46c8-867b-72a9132cf5b2",
   "metadata": {},
   "outputs": [],
   "source": [
    "# 二维正态分布\n",
    "## X服从正态分布 N(均值1, 方差1) N(均值2, 方差2)\n",
    "## 条件概率密度函数也是正态分布\n",
    "\n",
    "# 二维推广到多维的情况"
   ]
  },
  {
   "cell_type": "markdown",
   "id": "a7210020-ac57-41a9-90b2-5f3f9d0aa8bd",
   "metadata": {},
   "source": [
    "### 分布变换"
   ]
  },
  {
   "cell_type": "code",
   "execution_count": null,
   "id": "cbb71710-8661-4933-8e69-69bac99598a1",
   "metadata": {},
   "outputs": [],
   "source": [
    "# fy(y1, y2, y3...) = fx(h(y1), h(y2)...) |det(偏导(x1, x2...)\\(y1, y2...))|\n",
    "# y是x的函数, 变成y的函数 h(y)\n",
    "# 雅克比行列式是 对新的变量求偏导"
   ]
  },
  {
   "cell_type": "markdown",
   "id": "98de0d2e-1d15-40ee-b1be-309cd9969b9a",
   "metadata": {},
   "source": [
    "### 应用: 高斯混合模型"
   ]
  },
  {
   "cell_type": "code",
   "execution_count": 2,
   "id": "0f2165c0-765d-4b40-9728-bbbcc5c6fa72",
   "metadata": {},
   "outputs": [],
   "source": [
    "# 高斯混合模型(GMM): 是多个正态分布的混合\n",
    "# 他是一个连续性概率分布的\"万能\"逼近器"
   ]
  },
  {
   "cell_type": "code",
   "execution_count": 4,
   "id": "768be8d4-c39c-4447-8d8a-d2e975a9eb81",
   "metadata": {},
   "outputs": [],
   "source": [
    "# 高斯分布可以看成是多项分布与高斯分布的结合 \n",
    "# 高斯混合模型的概率分布"
   ]
  },
  {
   "cell_type": "markdown",
   "id": "aa792a36-00a7-472c-9a6c-6731b3cd7593",
   "metadata": {},
   "source": [
    "## 极限定理"
   ]
  },
  {
   "cell_type": "markdown",
   "id": "c4497ea2-8a10-4f1c-a0d1-c8612f220dbd",
   "metadata": {},
   "source": [
    "### 切比雪夫不等式"
   ]
  },
  {
   "cell_type": "code",
   "execution_count": 5,
   "id": "23744155-627a-45a0-87d6-6000737fb0e3",
   "metadata": {},
   "outputs": [],
   "source": [
    "# 描述了随机变量离数学期望越远, 则落入该区间的概率越小"
   ]
  },
  {
   "cell_type": "markdown",
   "id": "26cf3995-2ae1-455d-8328-58ad4126f810",
   "metadata": {},
   "source": [
    "### 大数定理"
   ]
  },
  {
   "cell_type": "code",
   "execution_count": 6,
   "id": "26bc00fb-156e-422c-ba37-df858cbf994a",
   "metadata": {},
   "outputs": [],
   "source": [
    "# 当随机变量增多时, 这些随机变量的均值与他们数学期望的均值(均值的数学期望)无限接近"
   ]
  },
  {
   "cell_type": "code",
   "execution_count": 9,
   "id": "9fddd20c-9a33-4eb8-9a1b-d439ee1608ae",
   "metadata": {},
   "outputs": [],
   "source": [
    "# 切比雪夫大数定理\n",
    "# 伯努利大数定理\n",
    "# 辛钦大数定理"
   ]
  },
  {
   "cell_type": "markdown",
   "id": "8767a25f-cb8c-442b-b100-ac7bc7fa1b0f",
   "metadata": {},
   "source": [
    "### 中心极限定理 "
   ]
  },
  {
   "cell_type": "code",
   "execution_count": 10,
   "id": "b7d8dd60-252b-408c-b08b-c8db3c84bfbd",
   "metadata": {},
   "outputs": [],
   "source": [
    "# 归一化: X-均值/标准差"
   ]
  },
  {
   "cell_type": "markdown",
   "id": "c1177985-b9ae-4a45-9dbc-a5fc277e8c1f",
   "metadata": {},
   "source": [
    "## 参数估计"
   ]
  },
  {
   "cell_type": "markdown",
   "id": "41da3915-9e02-4bf1-8f22-d3b594f24713",
   "metadata": {},
   "source": [
    "### 最大似然估计"
   ]
  },
  {
   "cell_type": "code",
   "execution_count": 13,
   "id": "e91d2397-ea7a-4cb1-a5e1-4d040f2283ad",
   "metadata": {},
   "outputs": [],
   "source": [
    "# 似然函数 ==> 对数似然函数\n",
    "# 此时样本总数量和各个不同取值的样本数量已知, 只有参数没有确定"
   ]
  },
  {
   "cell_type": "markdown",
   "id": "b21bcba0-bdb7-4b35-980b-d69c4f5af6e8",
   "metadata": {},
   "source": [
    "### 最大后验概率估计"
   ]
  },
  {
   "cell_type": "code",
   "execution_count": 14,
   "id": "3531b747-efad-4675-8fb2-dedb187f9067",
   "metadata": {},
   "outputs": [],
   "source": [
    "# argmax p(x|e)p(e)"
   ]
  },
  {
   "cell_type": "markdown",
   "id": "3b0136b6-a0d3-4835-a252-8902f126c0f4",
   "metadata": {},
   "source": [
    "### 贝叶斯估计"
   ]
  },
  {
   "cell_type": "code",
   "execution_count": 15,
   "id": "1dec6bd6-0f44-4cf6-87bc-e4b8be76a1a2",
   "metadata": {},
   "outputs": [],
   "source": [
    "# 与最大后验概率估计有点类似, 区别在于不求出参数的具体值, 而是求出参数所服从的概率分布\n",
    "# 得到概率分布之后, 他的数学期望作为参数的估计值"
   ]
  },
  {
   "cell_type": "markdown",
   "id": "7b1a7936-4c1e-4abe-b593-8401269ca236",
   "metadata": {},
   "source": [
    "### 核密度估计"
   ]
  },
  {
   "cell_type": "code",
   "execution_count": 16,
   "id": "6106b53d-0ffb-4d20-a677-919958efc4cd",
   "metadata": {},
   "outputs": [],
   "source": [
    "# 我们不知道随机变量服从的概率密度函数\n",
    "# 可以使用一组标准函数的叠加表示概率密度函数"
   ]
  },
  {
   "cell_type": "code",
   "execution_count": 17,
   "id": "26360dd1-649d-4608-bc8b-2fb3c720da5d",
   "metadata": {},
   "outputs": [],
   "source": [
    "# 保证如果x附近的样本点密集, 那么在该点处的概率密度函数估计值更大\n",
    "# 那么核函数要保证待估计点x离样本点xi的距离增加而递减\n",
    "# 常见的核函数: 径向对称核\n",
    "# 核函数中的剖面函数: Epanechnikov核, Epane函数\n",
    "# 高斯核: 高斯剖面函数的积分为标准多维正态分布"
   ]
  },
  {
   "cell_type": "code",
   "execution_count": 18,
   "id": "1e6855ed-d45d-4cc4-b5a9-7600acfc19fe",
   "metadata": {},
   "outputs": [],
   "source": [
    "# 利用核密度函数极大值的计算: 可以实现视觉目标跟踪, 聚类算法"
   ]
  },
  {
   "cell_type": "markdown",
   "id": "635269e1-1bc4-4400-8241-40ec588dfe0e",
   "metadata": {},
   "source": [
    "### 应用: logistics回归"
   ]
  },
  {
   "cell_type": "markdown",
   "id": "5754d985-3f58-4b30-898e-7f782a77131f",
   "metadata": {},
   "source": [
    "### 应用: EM算法"
   ]
  },
  {
   "cell_type": "markdown",
   "id": "2c55e5e4-698d-484b-8582-e64dbd07bdc7",
   "metadata": {},
   "source": [
    "### 应用: Mean Shift算法"
   ]
  },
  {
   "cell_type": "markdown",
   "id": "34e32c4c-6482-4aec-996e-714039069c2f",
   "metadata": {},
   "source": [
    "## 随机算法"
   ]
  },
  {
   "cell_type": "markdown",
   "id": "576ca7aa-c333-4bfd-b85d-af2aae0dea5c",
   "metadata": {},
   "source": [
    "### 基本随机数生成算法"
   ]
  },
  {
   "cell_type": "code",
   "execution_count": 19,
   "id": "7e58ca98-fadb-4f9f-97c3-98b765b8dabf",
   "metadata": {},
   "outputs": [],
   "source": [
    "# 均匀分布随机数的生成\n",
    "## 线性同余法: xi+1 = (axi + b)mod m    只有当a, b, m取得值合适, 才能保证所有值的取值概率相同\n",
    "## 可以使用逆变换算法生成所有概率分布的随机数"
   ]
  },
  {
   "cell_type": "code",
   "execution_count": 22,
   "id": "a73f2129-06d3-42fe-96c6-2e5c15e33cd8",
   "metadata": {},
   "outputs": [],
   "source": [
    "# 正态分布随机数的生成\n",
    "## Box-Muller算法: 只能生成标准正态分布的随机数\n",
    "## 一维非标准正态分布: 利用标准正态分布z, x = 标准差z + 均值\n",
    "## 多维非标准正态分布: 利用n个标准正态分布z, 服从多维标准正态分布, x = 协方差的A z + 多维均值"
   ]
  },
  {
   "cell_type": "markdown",
   "id": "6c0cc913-c97f-4d19-a9cd-4dd22d452242",
   "metadata": {},
   "source": [
    "### 遗传算法"
   ]
  },
  {
   "cell_type": "code",
   "execution_count": 25,
   "id": "1bbca0f2-a614-4f4e-a42a-71df163a6165",
   "metadata": {},
   "outputs": [],
   "source": [
    "# 基因: \n",
    "# 染色体: 是基因组成的聚合体, 通常是优化变量x, 是最优化问题的候选解\n",
    "# 适应度函数: 用于给染色体(候选解)评分"
   ]
  },
  {
   "cell_type": "code",
   "execution_count": 26,
   "id": "5ec6a0f5-67d0-49fc-ad71-866024d39a78",
   "metadata": {},
   "outputs": [],
   "source": [
    "# 1. 首先初始化若干可行解(染色体)\n",
    "# 2. 然后随机对这些染色体进行交叉, 变异, 得到新的染色体\n",
    "# 3. 对染色体进行评估, 也就是计算它们的适应度函数值\n",
    "# 4. 保留适应度高的染色体继续繁衍\n",
    "# 5. 直至收敛"
   ]
  },
  {
   "cell_type": "code",
   "execution_count": 27,
   "id": "bee8d343-9440-44a4-ac7d-04238d64f12f",
   "metadata": {},
   "outputs": [],
   "source": [
    "# 染色体选择: 遗传算法每次有n个候选解, 他们的适应度值是被抽中的概率, 每次从这些样本中有放回的抽取n个解, 所以会有重复"
   ]
  },
  {
   "cell_type": "code",
   "execution_count": 28,
   "id": "2ea00c6c-889d-44ed-8cc2-7a3e2239c58d",
   "metadata": {},
   "outputs": [],
   "source": [
    "# 交叉: 对于两个染色体, 互相交换基因\n",
    "# 变异: 对于一个染色体的基因进行改变"
   ]
  },
  {
   "cell_type": "code",
   "execution_count": 29,
   "id": "b89c8971-96d6-497a-a6bc-21a48f1ec79e",
   "metadata": {},
   "outputs": [],
   "source": [
    "# 终止条件: 1.达到max_iter的迭代次数    2.k次迭代后, 目标函数值没有很大的变化"
   ]
  },
  {
   "cell_type": "code",
   "execution_count": 30,
   "id": "91189a1f-0b70-4468-a7b4-26b9db7cec71",
   "metadata": {},
   "outputs": [],
   "source": [
    "# 目标函数值的收敛由马尔科夫链的遍历性保证"
   ]
  },
  {
   "cell_type": "code",
   "execution_count": 31,
   "id": "7188fc36-4f4d-4486-a3e7-946c7cfdeaf2",
   "metadata": {},
   "outputs": [],
   "source": [
    "# 用途: 常用于解决某些组合优化或难以优化的目标函数的极值问题"
   ]
  },
  {
   "cell_type": "markdown",
   "id": "09227816-9fdc-4823-8952-3f677b4e1211",
   "metadata": {},
   "source": [
    "### 蒙特卡洛算法"
   ]
  },
  {
   "cell_type": "code",
   "execution_count": null,
   "id": "9ec68c30-0bbf-40fa-863a-55566b1a29f9",
   "metadata": {},
   "outputs": [],
   "source": []
  },
  {
   "cell_type": "markdown",
   "id": "6046008f-96bd-48a3-a50b-2f137469c892",
   "metadata": {},
   "source": [
    "### 采样算法"
   ]
  },
  {
   "cell_type": "code",
   "execution_count": null,
   "id": "772342b6-ea4f-4cf1-b225-5d8e603d86e6",
   "metadata": {},
   "outputs": [],
   "source": []
  }
 ],
 "metadata": {
  "kernelspec": {
   "display_name": "Python 3",
   "language": "python",
   "name": "python3"
  },
  "language_info": {
   "codemirror_mode": {
    "name": "ipython",
    "version": 3
   },
   "file_extension": ".py",
   "mimetype": "text/x-python",
   "name": "python",
   "nbconvert_exporter": "python",
   "pygments_lexer": "ipython3",
   "version": "3.7.6"
  },
  "toc-autonumbering": true
 },
 "nbformat": 4,
 "nbformat_minor": 5
}
