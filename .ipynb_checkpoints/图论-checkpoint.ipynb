{
 "cells": [
  {
   "cell_type": "markdown",
   "id": "f5f578cf-a551-45e7-a73d-7d5d5c29f38c",
   "metadata": {},
   "source": [
    "# 图论"
   ]
  },
  {
   "cell_type": "markdown",
   "id": "488de7cd-24e1-4129-bf5c-ba78c51a1e2b",
   "metadata": {},
   "source": [
    "## 图的基本概念"
   ]
  },
  {
   "cell_type": "markdown",
   "id": "bcdf8812-eec7-43ee-9d0e-44e296458344",
   "metadata": {},
   "source": [
    "### 图定义及相关术语"
   ]
  },
  {
   "cell_type": "code",
   "execution_count": 2,
   "id": "57c3f3e1-0a51-47ad-8e60-566f5a76fc1e",
   "metadata": {},
   "outputs": [],
   "source": [
    "# 无向图: 所有顶点的度之和 对于 边的数量的两倍\n",
    "# 有向图: 所有顶点的入度之和 + 出度之和 = 边的数量"
   ]
  },
  {
   "cell_type": "markdown",
   "id": "509c3a24-aae0-4b49-825e-67f41d12aff5",
   "metadata": {},
   "source": [
    "### 应用: 计算图与自动微分"
   ]
  },
  {
   "cell_type": "code",
   "execution_count": 4,
   "id": "720e02eb-ce4d-44b9-900c-863bb7251c8c",
   "metadata": {},
   "outputs": [],
   "source": [
    "# 自动微分(前向, 反向)\n",
    "# 前向只能计算对一个自变量的偏导数, 所以对于n元函数, 需要运行n次算法才能求出结果\n",
    "# 反向\n"
   ]
  },
  {
   "cell_type": "code",
   "execution_count": null,
   "id": "ad3b6541-142f-4bcf-b3a1-ccc0bb879abd",
   "metadata": {},
   "outputs": [],
   "source": []
  }
 ],
 "metadata": {
  "kernelspec": {
   "display_name": "Python 3",
   "language": "python",
   "name": "python3"
  },
  "language_info": {
   "codemirror_mode": {
    "name": "ipython",
    "version": 3
   },
   "file_extension": ".py",
   "mimetype": "text/x-python",
   "name": "python",
   "nbconvert_exporter": "python",
   "pygments_lexer": "ipython3",
   "version": "3.7.6"
  },
  "toc-autonumbering": true
 },
 "nbformat": 4,
 "nbformat_minor": 5
}
