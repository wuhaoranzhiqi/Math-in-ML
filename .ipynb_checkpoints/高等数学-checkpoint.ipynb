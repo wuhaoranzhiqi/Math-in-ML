{
 "cells": [
  {
   "cell_type": "markdown",
   "id": "adbfc650-5ec4-4e7f-8f2b-7608a785da6d",
   "metadata": {},
   "source": [
    "# 一元函数微积分"
   ]
  },
  {
   "cell_type": "markdown",
   "id": "559ef42d-5b18-4cb1-9f06-dea7145d7262",
   "metadata": {},
   "source": [
    "## 极限与连续"
   ]
  },
  {
   "cell_type": "markdown",
   "id": "c079fba1-2b04-4348-98df-43cfdac9889a",
   "metadata": {},
   "source": [
    "### 可数集和不可数集"
   ]
  },
  {
   "cell_type": "code",
   "execution_count": null,
   "id": "18f4a5c0-09cb-421e-ab32-ce6a279350ad",
   "metadata": {},
   "outputs": [],
   "source": [
    "# 基数\n",
    "# 有限集与无限集\n",
    "# 基数相等\n",
    "# sigmod函数\n",
    "# 不可数集和可数集"
   ]
  },
  {
   "cell_type": "markdown",
   "id": "9cc2b9d6-8928-4ead-83a6-a9562bad5933",
   "metadata": {},
   "source": [
    "### 数列的极限"
   ]
  },
  {
   "cell_type": "code",
   "execution_count": 2,
   "id": "7b83e5c3-03d4-4bf0-843c-f465d10fa109",
   "metadata": {},
   "outputs": [],
   "source": [
    "# 极限存在, 必唯一\n",
    "# 单调有界性\n",
    "# 夹逼定理"
   ]
  },
  {
   "cell_type": "markdown",
   "id": "ca1e97f3-5d3e-4096-b1d5-95f19b294c8d",
   "metadata": {},
   "source": [
    "### 函数的极限"
   ]
  },
  {
   "cell_type": "code",
   "execution_count": 3,
   "id": "2d27714c-8a47-44b6-b27c-fa0ea6d2adf3",
   "metadata": {},
   "outputs": [],
   "source": [
    "# 极限存在条件是左右极限存在且相等"
   ]
  },
  {
   "cell_type": "markdown",
   "id": "dbea70f4-8770-4b6c-b3dc-da0ce17a2cc9",
   "metadata": {},
   "source": [
    "### 函数的连续性与间断点"
   ]
  },
  {
   "cell_type": "code",
   "execution_count": 4,
   "id": "a77095f5-20f5-49b9-8808-cf5b6c3f4cf0",
   "metadata": {},
   "outputs": [],
   "source": [
    "# 第一类间断点: 跳跃间断点, 可去间断点\n",
    "# 第二类间断点: 无穷间断点"
   ]
  },
  {
   "cell_type": "code",
   "execution_count": 6,
   "id": "91b4cfab-916c-4454-aea4-c6bd414fb22d",
   "metadata": {},
   "outputs": [],
   "source": [
    "# 连续函数的性质: \n",
    "# 1. 极值存在性\n",
    "# 2. 介值定理"
   ]
  },
  {
   "cell_type": "markdown",
   "id": "25a2d953-550c-40bb-842e-d6e4d06226d7",
   "metadata": {},
   "source": [
    "### 上确界和下确界"
   ]
  },
  {
   "cell_type": "code",
   "execution_count": 7,
   "id": "db0017ac-0d48-43e0-89a6-b1eaaa4ea4b2",
   "metadata": {},
   "outputs": [],
   "source": [
    "# 类似于最大值和最小值"
   ]
  },
  {
   "cell_type": "markdown",
   "id": "57b2cb20-d96f-46d8-ab12-1e64f981ba61",
   "metadata": {},
   "source": [
    "### Lipschitz连续"
   ]
  },
  {
   "cell_type": "code",
   "execution_count": 8,
   "id": "f4e919c0-16d4-4b93-bc63-6d5a3cd51e8b",
   "metadata": {},
   "outputs": [],
   "source": [
    "# 要求函数在区间上不能拥有超过线性的变化速度"
   ]
  },
  {
   "cell_type": "markdown",
   "id": "6686fca1-2bbc-4099-9580-e1bc700fd4ff",
   "metadata": {},
   "source": [
    "### 无穷小量"
   ]
  },
  {
   "cell_type": "markdown",
   "id": "5caf3b9b-c4d9-4021-a1e4-3f792921bbc8",
   "metadata": {},
   "source": [
    "## 导数与微分"
   ]
  },
  {
   "cell_type": "markdown",
   "id": "49f5bae9-6684-45b7-970a-4fff6b630cde",
   "metadata": {},
   "source": [
    "### 一阶导数"
   ]
  },
  {
   "cell_type": "code",
   "execution_count": 11,
   "id": "a1a61ea2-10eb-4636-a6ba-22f01d07fdf9",
   "metadata": {},
   "outputs": [],
   "source": [
    "# 函数可导的条件是左右导数存在且相等\n",
    "\n",
    "# 单侧差分公式\n",
    "# 中心差分公式\n",
    "\n",
    "# 链式法则(sigmod函数求导)\n",
    "\n",
    "# 反函数求导"
   ]
  },
  {
   "cell_type": "markdown",
   "id": "ba041464-3207-4f6f-8910-5930ad7f6090",
   "metadata": {},
   "source": [
    "### 机器学习中常用函数"
   ]
  },
  {
   "cell_type": "code",
   "execution_count": 1,
   "id": "a8f23ccc-958e-4171-a218-70c6e67e47f6",
   "metadata": {},
   "outputs": [],
   "source": [
    "# sigmod函数\n",
    "# softplus函数\n",
    "# ReLU函数\n",
    "# 绝对值函数\n",
    "# 符号函数"
   ]
  },
  {
   "cell_type": "markdown",
   "id": "92da6edd-62de-4583-8e18-945d1a19060f",
   "metadata": {},
   "source": [
    "### 高阶函数"
   ]
  },
  {
   "cell_type": "code",
   "execution_count": 10,
   "id": "fd49b223-558b-418b-9c65-5d1fea879bfe",
   "metadata": {},
   "outputs": [
    {
     "name": "stdout",
     "output_type": "stream",
     "text": [
      "-cos(x)\n"
     ]
    }
   ],
   "source": [
    "# 求导的实现\n",
    "from sympy import *\n",
    "x = symbols('x')\n",
    "r = diff(cos(x), x, 2)\n",
    "print(r)"
   ]
  },
  {
   "cell_type": "markdown",
   "id": "5783ba2f-3684-4d6b-be50-79ba1ebb6e5a",
   "metadata": {},
   "source": [
    "### 微分"
   ]
  },
  {
   "cell_type": "markdown",
   "id": "97c849af-64a3-4135-88f5-12e5c40acd7d",
   "metadata": {},
   "source": [
    "### 导数与函数的单调性"
   ]
  },
  {
   "cell_type": "code",
   "execution_count": 11,
   "id": "42d82811-81c0-45f9-8c9b-81210c421498",
   "metadata": {},
   "outputs": [],
   "source": [
    "# 利用导数判断函数单调性"
   ]
  },
  {
   "cell_type": "markdown",
   "id": "dc45a239-8afa-4a71-a8f5-0a6ef05627a7",
   "metadata": {},
   "source": [
    "### 极值判别法则"
   ]
  },
  {
   "cell_type": "code",
   "execution_count": 12,
   "id": "a7bcf9f7-b559-4040-876c-660d815edbdd",
   "metadata": {},
   "outputs": [],
   "source": [
    "# 费马(Fermat)定理: 极值点处, 导数为0, 称为驻点\n",
    "# 一阶导数判别极值\n",
    "# 二阶导数判别极值: 对于二阶导数等于0的情况, 要继续讨论."
   ]
  },
  {
   "cell_type": "markdown",
   "id": "23c15a5f-f92b-44e4-a5ba-3778599eae56",
   "metadata": {},
   "source": [
    "### 导数与函数的凹凸性"
   ]
  },
  {
   "cell_type": "code",
   "execution_count": 13,
   "id": "b86b1559-6ad8-432f-af23-7625fbd144f5",
   "metadata": {},
   "outputs": [],
   "source": [
    "# 凸函数和严格凸函数\n",
    "# 二阶导数和凸函数的关系"
   ]
  },
  {
   "cell_type": "markdown",
   "id": "664c40ac-4f10-42ef-a0b9-6250d23d051d",
   "metadata": {},
   "source": [
    "## 微分中值定理"
   ]
  },
  {
   "cell_type": "markdown",
   "id": "1aac5a77-c8b6-4b9c-9c9d-e28112e96a3b",
   "metadata": {},
   "source": [
    "### 罗尔中值定理"
   ]
  },
  {
   "cell_type": "code",
   "execution_count": 14,
   "id": "0145dec5-b655-4244-abea-62f7b460b431",
   "metadata": {},
   "outputs": [],
   "source": [
    "# 端点值相同, 必有中间一点的导数为0"
   ]
  },
  {
   "cell_type": "markdown",
   "id": "31b1ddc1-891e-4f8b-83d3-df76d74ee7ab",
   "metadata": {},
   "source": [
    "### 拉格朗日中值定理"
   ]
  },
  {
   "cell_type": "code",
   "execution_count": 15,
   "id": "1f95c712-e09e-41a8-a6cf-e055a1cabc1f",
   "metadata": {},
   "outputs": [],
   "source": [
    "# 几何意义: 区间(a, b)内至少存在一点, 这点的切线与两点之间的割线平行"
   ]
  },
  {
   "cell_type": "markdown",
   "id": "778c6029-5b61-4f7d-a9d2-53bc5b985379",
   "metadata": {},
   "source": [
    "### 柯西中值定理"
   ]
  },
  {
   "cell_type": "markdown",
   "id": "9c26fea5-4360-493a-afb7-f27ee6e01207",
   "metadata": {},
   "source": [
    "## 泰勒公式"
   ]
  },
  {
   "cell_type": "code",
   "execution_count": 17,
   "id": "8ab96ec6-057d-4680-addb-b4f99f5094e1",
   "metadata": {},
   "outputs": [],
   "source": [
    "# 带皮亚诺余项的泰勒公式\n",
    "# 带拉格朗日余项的泰勒公式\n",
    "# 麦克劳林公式(常见公式)"
   ]
  },
  {
   "cell_type": "markdown",
   "id": "9c5133bc-ff57-46cf-91a2-1565bbd4597c",
   "metadata": {},
   "source": [
    "## 不定积分"
   ]
  },
  {
   "cell_type": "markdown",
   "id": "4ee082bc-b89c-491a-b155-28b3866ba2cb",
   "metadata": {},
   "source": [
    "### 定义与性质"
   ]
  },
  {
   "cell_type": "code",
   "execution_count": 21,
   "id": "cd5e3f1a-5828-467b-bb5a-7ae41a8324fc",
   "metadata": {},
   "outputs": [],
   "source": [
    "# 连续一定可积"
   ]
  },
  {
   "cell_type": "markdown",
   "id": "de53b7bc-4132-4582-9a67-19b2f1bbcf1c",
   "metadata": {},
   "source": [
    "### 换元积分法"
   ]
  },
  {
   "cell_type": "code",
   "execution_count": null,
   "id": "c4a8676f-e711-4882-a8ff-ce341471f224",
   "metadata": {},
   "outputs": [],
   "source": [
    "# 凑微分法, 第一类换元法\n",
    "# 变量替换法, 第二类换元法"
   ]
  },
  {
   "cell_type": "markdown",
   "id": "d9274d2b-2aa2-4cd9-a300-0bd57c099b37",
   "metadata": {},
   "source": [
    "### 分部积分法"
   ]
  },
  {
   "cell_type": "markdown",
   "id": "dcb12906-f92f-4ce8-bd5f-01abcdccb6bc",
   "metadata": {},
   "source": [
    "### 代码实现不定积分"
   ]
  },
  {
   "cell_type": "code",
   "execution_count": 22,
   "id": "6da50a13-c30f-4945-b626-acbc419dd825",
   "metadata": {},
   "outputs": [
    {
     "name": "stdout",
     "output_type": "stream",
     "text": [
      "sin(x)\n"
     ]
    }
   ],
   "source": [
    "from sympy import *\n",
    "x = symbols('x')\n",
    "r = integrate(cos(x), x)\n",
    "print(r)"
   ]
  },
  {
   "cell_type": "markdown",
   "id": "3b06194e-1ffc-45b5-bee6-568ee7b77259",
   "metadata": {},
   "source": [
    "## 定积分"
   ]
  },
  {
   "cell_type": "markdown",
   "id": "21e62bc0-81dd-4946-8c53-ad0fc270759d",
   "metadata": {},
   "source": [
    "### 定义与性质"
   ]
  },
  {
   "cell_type": "markdown",
   "id": "809627eb-f502-4bbe-8c38-f947db9d0b19",
   "metadata": {},
   "source": [
    "### 牛顿-莱布尼兹公式"
   ]
  },
  {
   "cell_type": "code",
   "execution_count": 23,
   "id": "7c473464-deb0-4e67-8cdc-10e436348c40",
   "metadata": {},
   "outputs": [],
   "source": [
    "# 使用原函数的差值计算定积分"
   ]
  },
  {
   "cell_type": "code",
   "execution_count": 25,
   "id": "e07a45a5-8b24-49bf-bf55-0ebd05babc04",
   "metadata": {},
   "outputs": [
    {
     "name": "stdout",
     "output_type": "stream",
     "text": [
      "2\n"
     ]
    }
   ],
   "source": [
    "# 代码实现定积分\n",
    "from sympy import *\n",
    "x = symbols('x')\n",
    "r = integrate(sin(x), (x, 0, pi))\n",
    "print(r)"
   ]
  },
  {
   "cell_type": "markdown",
   "id": "d157228b-ceda-4998-9901-18b3379a83f9",
   "metadata": {},
   "source": [
    "### 定积分的计算"
   ]
  },
  {
   "cell_type": "code",
   "execution_count": 26,
   "id": "167910cc-fc4e-4bdf-8fd2-3f8167816348",
   "metadata": {},
   "outputs": [],
   "source": [
    "# 使用第二类换元法的时候, 需要更换积分上下限"
   ]
  },
  {
   "cell_type": "markdown",
   "id": "9431d223-ba6f-4b71-b85c-a10928e36cad",
   "metadata": {},
   "source": [
    "### 变上限函数"
   ]
  },
  {
   "cell_type": "code",
   "execution_count": 27,
   "id": "b8b1cdfe-7db9-479e-8bff-241171a56ea4",
   "metadata": {},
   "outputs": [],
   "source": [
    "# 根据牛顿莱布尼兹公式求得该函数\n",
    "# 导数"
   ]
  },
  {
   "cell_type": "markdown",
   "id": "1a8599f9-e21c-4c4b-a8ec-660459ca1469",
   "metadata": {},
   "source": [
    "### 定积分的应用"
   ]
  },
  {
   "cell_type": "code",
   "execution_count": 28,
   "id": "b1a85be0-969e-44e9-a3c3-de7d172435a6",
   "metadata": {},
   "outputs": [],
   "source": [
    "# 曲线围成的面积\n",
    "# 曲线的长度(直角坐标系, 参数方程)"
   ]
  },
  {
   "cell_type": "markdown",
   "id": "19f9d51c-2da3-444d-b367-843654137729",
   "metadata": {},
   "source": [
    "### 广义积分"
   ]
  },
  {
   "cell_type": "code",
   "execution_count": 29,
   "id": "cb5fae75-05c0-404d-8064-333064da80ee",
   "metadata": {},
   "outputs": [],
   "source": [
    "# 积分区间无限: 推广牛顿莱布尼兹公式\n",
    "# 函数值无限: 依然如上"
   ]
  },
  {
   "cell_type": "markdown",
   "id": "61d35092-15ee-451b-9547-408aa2f2862b",
   "metadata": {},
   "source": [
    "## 常微分方程"
   ]
  },
  {
   "cell_type": "markdown",
   "id": "6f3c7e07-a9f9-4182-9d57-962260e57af1",
   "metadata": {},
   "source": [
    "### 基本概念"
   ]
  },
  {
   "cell_type": "code",
   "execution_count": 30,
   "id": "8940cc26-ae36-4e26-9fdf-d818a0ae36c0",
   "metadata": {},
   "outputs": [],
   "source": [
    "# 包含各阶导数, 函数, 变量的方程\n",
    "# 阶数\n",
    "# 线性微分方程(导数都是一次的方程)\n",
    "# 常系数线性微分方程(导数是一次的, 并且函数项和导数项都是常数)\n",
    "# 初值问题"
   ]
  },
  {
   "cell_type": "markdown",
   "id": "fe21b1d8-c993-4472-98c3-266c183abf42",
   "metadata": {},
   "source": [
    "### 一阶线性微分方程"
   ]
  },
  {
   "cell_type": "code",
   "execution_count": 1,
   "id": "2ed1117b-9d56-4e1b-9e6d-0e225cc3d9f3",
   "metadata": {},
   "outputs": [],
   "source": [
    "# 一阶常系数线性微分方程(齐次, 非齐次)\n",
    "# 一阶线性微分方程"
   ]
  },
  {
   "cell_type": "markdown",
   "id": "3c763e6f-d594-4c2c-a8fa-187378d88848",
   "metadata": {},
   "source": [
    "# 多元函数微积分"
   ]
  },
  {
   "cell_type": "markdown",
   "id": "e9c0dd66-eda0-4967-b7c4-f2877adc5efe",
   "metadata": {},
   "source": [
    "## 偏导数"
   ]
  },
  {
   "cell_type": "markdown",
   "id": "e0872a19-0495-4334-93da-6ff7bd7c5c7e",
   "metadata": {},
   "source": [
    "### 一阶偏导数"
   ]
  },
  {
   "cell_type": "code",
   "execution_count": 2,
   "id": "01c8f8eb-bc3c-44c2-8b20-3d3140f6b4f6",
   "metadata": {},
   "outputs": [],
   "source": [
    "# 偏导数是只从某个坐标轴去逼近的, 所有是问题的简化\n",
    "# 几何意义: "
   ]
  },
  {
   "cell_type": "markdown",
   "id": "4b5e86a5-a5af-4927-8522-0c8503d87286",
   "metadata": {},
   "source": [
    "### 高阶偏导数"
   ]
  },
  {
   "cell_type": "code",
   "execution_count": 4,
   "id": "b64982c7-f360-456a-b210-e1d6e9a9c8ad",
   "metadata": {},
   "outputs": [],
   "source": [
    "# 如果二阶偏导数连续, 那么可以交换求导次序\n",
    "# 多元函数的拉布拉斯算子(所有非混合二阶偏导数之和)"
   ]
  },
  {
   "cell_type": "code",
   "execution_count": 7,
   "id": "90adfed7-d6d0-4ad6-b136-0aa54e53c898",
   "metadata": {},
   "outputs": [
    {
     "name": "stdout",
     "output_type": "stream",
     "text": [
      "y*exp(x*y)\n"
     ]
    }
   ],
   "source": [
    "# python实现偏导\n",
    "from sympy import *\n",
    "x, y = symbols('x y')\n",
    "expr = exp(x*y)\n",
    "r = diff(expr, x)\n",
    "print(r)"
   ]
  },
  {
   "cell_type": "markdown",
   "id": "1667123f-4c09-4047-a799-8f0033cbe6cb",
   "metadata": {},
   "source": [
    "### 全微分"
   ]
  },
  {
   "cell_type": "markdown",
   "id": "b173b112-0adf-4206-9267-a55ccba90c2a",
   "metadata": {},
   "source": [
    "### 链式法则"
   ]
  },
  {
   "cell_type": "code",
   "execution_count": 9,
   "id": "a88871b6-35df-4c96-81ba-3a7ed01def66",
   "metadata": {},
   "outputs": [],
   "source": [
    "# 多元函数微分形式不变性\n",
    "# 全导数"
   ]
  },
  {
   "cell_type": "markdown",
   "id": "394307cf-bf5f-480c-b91e-b75a635495b5",
   "metadata": {},
   "source": [
    "## 梯度和方向导数"
   ]
  },
  {
   "cell_type": "markdown",
   "id": "7cd15716-3d4d-476e-b14f-907ed693725b",
   "metadata": {},
   "source": [
    "### 梯度"
   ]
  },
  {
   "cell_type": "code",
   "execution_count": 11,
   "id": "8af81509-7e34-4eae-9c9d-4114afe5357c",
   "metadata": {},
   "outputs": [],
   "source": [
    "# 梯度与多元函数的单调性与极值的关系\n",
    "##梯度方向与变化方向不超过90度, 函数值单调增加\n",
    "##超过90度, 单调递减\n",
    "# 梯度为0的点称为多元函数的驻点"
   ]
  },
  {
   "cell_type": "markdown",
   "id": "de0cb8bf-f8ce-4037-b0d4-8d6cf0fedf26",
   "metadata": {},
   "source": [
    "### 方向导数"
   ]
  },
  {
   "cell_type": "code",
   "execution_count": 12,
   "id": "6c25e4a7-9c4b-4ae4-8fd7-628101a84770",
   "metadata": {},
   "outputs": [],
   "source": [
    "# df/dt = v 內积 f梯度"
   ]
  },
  {
   "cell_type": "markdown",
   "id": "f4cc3cc7-dea1-4d9a-8f6d-afd25d786034",
   "metadata": {},
   "source": [
    "### 应用: 边缘检测与HOG特征"
   ]
  },
  {
   "cell_type": "markdown",
   "id": "d47e0c92-1ad4-4045-9d28-8d1d04225a65",
   "metadata": {},
   "source": [
    "## 黑塞矩阵"
   ]
  },
  {
   "cell_type": "markdown",
   "id": "9d891150-83c8-4cc2-83ab-9e99f4b4ec53",
   "metadata": {},
   "source": [
    "### 黑塞矩阵的定义与性质"
   ]
  },
  {
   "cell_type": "code",
   "execution_count": 13,
   "id": "23d3c1e2-6eb0-4f37-ae72-0b3e550ba661",
   "metadata": {},
   "outputs": [],
   "source": [
    "# 事实上, 它是由梯度向量的每个分量再次求梯度得到的"
   ]
  },
  {
   "cell_type": "markdown",
   "id": "6599a1c6-94a5-447d-9839-1c3072f867c1",
   "metadata": {},
   "source": [
    "### 凹凸性"
   ]
  },
  {
   "cell_type": "code",
   "execution_count": null,
   "id": "9fdd65d1-f1d4-4f54-92cb-c25005ec6abb",
   "metadata": {},
   "outputs": [],
   "source": []
  }
 ],
 "metadata": {
  "kernelspec": {
   "display_name": "Python 3",
   "language": "python",
   "name": "python3"
  },
  "language_info": {
   "codemirror_mode": {
    "name": "ipython",
    "version": 3
   },
   "file_extension": ".py",
   "mimetype": "text/x-python",
   "name": "python",
   "nbconvert_exporter": "python",
   "pygments_lexer": "ipython3",
   "version": "3.7.6"
  },
  "toc-autonumbering": true,
  "toc-showmarkdowntxt": false
 },
 "nbformat": 4,
 "nbformat_minor": 5
}
