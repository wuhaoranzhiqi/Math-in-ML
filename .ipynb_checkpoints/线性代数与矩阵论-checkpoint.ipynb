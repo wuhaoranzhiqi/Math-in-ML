{
 "cells": [
  {
   "cell_type": "markdown",
   "id": "1346dc97-4817-4577-abfb-85902e0af1ce",
   "metadata": {},
   "source": [
    "# 线性代数与矩阵论"
   ]
  },
  {
   "cell_type": "markdown",
   "id": "180a01ba-7229-4fd9-8a01-97dd494fbb4c",
   "metadata": {},
   "source": [
    "## 向量及其运算"
   ]
  },
  {
   "cell_type": "markdown",
   "id": "08a8c278-8d70-4b51-a317-5b0a65e8d0aa",
   "metadata": {},
   "source": [
    "### 基本概念"
   ]
  },
  {
   "cell_type": "code",
   "execution_count": 1,
   "id": "5e902b93-c803-43d3-a671-07aed38cd19e",
   "metadata": {},
   "outputs": [],
   "source": [
    "# 特征向量"
   ]
  },
  {
   "cell_type": "markdown",
   "id": "f743a50d-676a-4891-aeaf-b638bf6dd212",
   "metadata": {},
   "source": [
    "### 基本运算"
   ]
  },
  {
   "cell_type": "code",
   "execution_count": null,
   "id": "56a9acbb-34b8-4882-8e9f-4c6ce5f545c1",
   "metadata": {},
   "outputs": [],
   "source": [
    "# 向量的内积\n",
    "# 内积为0, 表示正交\n",
    "# 向量的阿达马积, 对应分量相乘"
   ]
  },
  {
   "cell_type": "markdown",
   "id": "fa218909-887a-419b-b474-72fdb1f3ef5b",
   "metadata": {},
   "source": [
    "### 向量的范数"
   ]
  },
  {
   "cell_type": "code",
   "execution_count": 2,
   "id": "61aee70d-a6ac-4a9e-80e2-24f4dfc8a24e",
   "metadata": {},
   "outputs": [],
   "source": [
    "# L1范数\n",
    "# L2范数\n",
    "# L-无穷范数 max|x|\n",
    "# 柯西-施瓦茨不等式, 当且仅当两个向量成比例时, 取等号\n",
    "# 向量内积等于向量模✖️ cos, 向量之间的夹角大于90度, 内积为负数\n",
    "# 范数满足三角不等式"
   ]
  },
  {
   "cell_type": "markdown",
   "id": "95d7e343-efb0-4970-b6c5-25fd54ea799d",
   "metadata": {},
   "source": [
    "### 解析几何"
   ]
  },
  {
   "cell_type": "code",
   "execution_count": 3,
   "id": "1ca4093e-58aa-4686-94d8-1b6d238712ce",
   "metadata": {},
   "outputs": [],
   "source": [
    "# 超平面方程以及他的法向量\n",
    "# 点到超平面的距离"
   ]
  },
  {
   "cell_type": "markdown",
   "id": "8cb2a04e-9c24-403e-818e-f2117cf9de1c",
   "metadata": {},
   "source": [
    "### 线性相关性"
   ]
  },
  {
   "cell_type": "code",
   "execution_count": 4,
   "id": "159d58d5-7006-4187-a26c-b3e11fc44889",
   "metadata": {},
   "outputs": [],
   "source": [
    "# 可以线性表达\n",
    "# 线性相关与线性无关\n",
    "# 极大线性无关组"
   ]
  },
  {
   "cell_type": "markdown",
   "id": "a5991c0a-1ced-40bb-a5e9-380d18586b49",
   "metadata": {},
   "source": [
    "### 向量空间"
   ]
  },
  {
   "cell_type": "code",
   "execution_count": 5,
   "id": "352b1c71-7f2f-4ac5-94f2-6043cb3532f7",
   "metadata": {},
   "outputs": [],
   "source": [
    "# 线性空间\n",
    "# 子空间\n",
    "# 向量的基: 向量空间的极大线性无关组, 基的数量为空间的维数\n",
    "# 正交基, 标准正交基\n",
    "# 空间的基和标准正交基都不是唯一的"
   ]
  },
  {
   "cell_type": "code",
   "execution_count": 6,
   "id": "4513f62a-51c3-45a3-8a2d-b73e83618b7f",
   "metadata": {},
   "outputs": [],
   "source": [
    "# 制造标准正交基: 使用格拉姆-施密特正交化"
   ]
  },
  {
   "cell_type": "markdown",
   "id": "46b29b4d-813a-443b-bc42-5774350f7f18",
   "metadata": {},
   "source": [
    "### 应用举例: 线性回归"
   ]
  },
  {
   "cell_type": "code",
   "execution_count": 7,
   "id": "4da026d3-ec83-448c-83cc-fdce294dba3b",
   "metadata": {},
   "outputs": [],
   "source": [
    "# 最小化均分误差: MSE\n",
    "# 目标函数"
   ]
  },
  {
   "cell_type": "markdown",
   "id": "8f5e1521-956a-49c3-a0cb-a1f649c06d30",
   "metadata": {},
   "source": [
    "### 应用举例: 线性分类器与支持向量机"
   ]
  },
  {
   "cell_type": "code",
   "execution_count": 8,
   "id": "361c42f2-670e-4a2c-a8d5-6a4ab5995a24",
   "metadata": {},
   "outputs": [],
   "source": [
    "# 怎么理解支撑平面"
   ]
  },
  {
   "cell_type": "markdown",
   "id": "8fc1badd-66b9-4044-a13b-e7bd54b732a1",
   "metadata": {},
   "source": [
    "## 矩阵及其运算"
   ]
  },
  {
   "cell_type": "code",
   "execution_count": 9,
   "id": "8947b2de-ec16-4ca4-a821-4fa7b67a7836",
   "metadata": {},
   "outputs": [],
   "source": [
    "# 对称矩阵\n",
    "# 对角矩阵\n",
    "# 单位矩阵\n",
    "# 格拉姆矩阵: 为转置 与其 向量组按列组成的矩阵乘积"
   ]
  },
  {
   "cell_type": "markdown",
   "id": "58834fa9-c097-4c70-881f-26f850f5cab1",
   "metadata": {},
   "source": [
    "### 基本运算"
   ]
  },
  {
   "cell_type": "code",
   "execution_count": 10,
   "id": "e82a0173-0f6e-4a6c-93c7-01502856de2f",
   "metadata": {},
   "outputs": [],
   "source": [
    "# 转置\n",
    "# 数乘\n",
    "# 矩阵相乘\n",
    "# 矩阵的阿达马积"
   ]
  },
  {
   "cell_type": "code",
   "execution_count": 11,
   "id": "c33ff0d0-777f-4308-8d97-ff7e96301ee1",
   "metadata": {},
   "outputs": [],
   "source": [
    "# 线性方程组的矩阵表示\n",
    "# 系数矩阵\n",
    "# 常数向量\n",
    "# 增广矩阵"
   ]
  },
  {
   "cell_type": "code",
   "execution_count": 12,
   "id": "86ee77df-0e8c-4681-9d12-d682be8f5322",
   "metadata": {},
   "outputs": [],
   "source": [
    "# 矩阵乘法的代码实现\n",
    "import numpy as np\n",
    "A = np.array([[1, 1, 0], [0, 0, 1]])\n",
    "B = np.array([[0, 1], [0, 0], [1, 0]])\n",
    "C = np.dot(A, B)"
   ]
  },
  {
   "cell_type": "code",
   "execution_count": 14,
   "id": "c989224a-7ba0-4f0b-8b7e-a605d43f5f17",
   "metadata": {},
   "outputs": [],
   "source": [
    "# 矩阵初等变换\n",
    "# 实现行或列的乘某个数: 左乘对角, 实现行"
   ]
  },
  {
   "cell_type": "code",
   "execution_count": 15,
   "id": "51f87585-ef53-4b0d-a886-055aaee6885d",
   "metadata": {},
   "outputs": [],
   "source": [
    "# 矩阵乘法不满足交换律"
   ]
  },
  {
   "cell_type": "code",
   "execution_count": 16,
   "id": "ab4728ad-b8f9-4f67-b21c-20963fe33314",
   "metadata": {},
   "outputs": [],
   "source": [
    "# 矩阵的分块"
   ]
  },
  {
   "cell_type": "markdown",
   "id": "b24622a9-934b-409c-85a8-2a00b9f254a5",
   "metadata": {},
   "source": [
    "### 逆矩阵"
   ]
  },
  {
   "cell_type": "code",
   "execution_count": 1,
   "id": "1106893d-61f4-4134-b7eb-4ad0aedc4ffb",
   "metadata": {},
   "outputs": [],
   "source": [
    "# 可逆矩阵也称为非奇异矩阵, 不可逆为奇异\n",
    "# 矩阵可逆, 则其逆矩阵唯一\n",
    "# 对角矩阵的逆矩阵为对角元素的倒数, 但是对角元素不能为0"
   ]
  },
  {
   "cell_type": "code",
   "execution_count": 2,
   "id": "89ba6479-9e24-4854-a2fa-abceaae3aca9",
   "metadata": {},
   "outputs": [],
   "source": [
    "# 矩阵的秩\n",
    "# 定义为线性无关的最大数量\n",
    "# 矩阵可逆的充要条件是满秩"
   ]
  },
  {
   "cell_type": "code",
   "execution_count": 4,
   "id": "d5030492-0fd4-48da-827d-8fdf8a0d0bc8",
   "metadata": {},
   "outputs": [],
   "source": [
    "# 矩阵的初等行变换\n",
    "# 三种初等行变换对应三种初等矩阵, 以及初等矩阵的逆矩阵\n",
    "# 对矩阵做初等行变换, 等价于左乘对应的初等矩阵"
   ]
  },
  {
   "cell_type": "code",
   "execution_count": 5,
   "id": "5922c08a-834e-4d2b-b49d-7adfaed3e293",
   "metadata": {},
   "outputs": [],
   "source": [
    "# 用初等行变换求矩阵的逆矩阵\n",
    "# P[A I] = [I A-1]"
   ]
  },
  {
   "cell_type": "code",
   "execution_count": 7,
   "id": "cbe770ea-c2e4-4885-83bf-8be2b650a1cb",
   "metadata": {},
   "outputs": [
    {
     "name": "stdout",
     "output_type": "stream",
     "text": [
      "[[1.  0.  0. ]\n",
      " [0.  1.  0. ]\n",
      " [0.  0.  0.2]]\n"
     ]
    }
   ],
   "source": [
    "# python实现矩阵的求逆\n",
    "import numpy as np\n",
    "A = np.array([[1, 0, 0], [0, 1, 0], [0, 0, 5]])\n",
    "B = np.linalg.inv(A)\n",
    "print(B)"
   ]
  },
  {
   "cell_type": "code",
   "execution_count": 11,
   "id": "ad925290-b8e2-4544-9b13-d7395dc67260",
   "metadata": {},
   "outputs": [],
   "source": [
    "# 正交矩阵\n",
    "# A AT = AT A = I\n",
    "# A-1 = AT"
   ]
  },
  {
   "cell_type": "code",
   "execution_count": 13,
   "id": "45c10828-f6bc-40a7-a7e8-508d9825c566",
   "metadata": {},
   "outputs": [],
   "source": [
    "# 正交矩阵的行列向量均为单位向量且相互正交, 构成标准正交基\n",
    "# 正交矩阵的乘积仍然是正交矩阵\n",
    "# 正交矩阵的逆矩阵仍然是正交矩阵\n",
    "# 正交矩阵的转置仍然是正交矩阵"
   ]
  },
  {
   "cell_type": "markdown",
   "id": "05adeef9-baf9-4005-9268-71d2747221bd",
   "metadata": {},
   "source": [
    "### 矩阵的范数"
   ]
  },
  {
   "cell_type": "code",
   "execution_count": 14,
   "id": "a6e4538e-fef1-458b-ac87-d0a7d1af6252",
   "metadata": {},
   "outputs": [],
   "source": [
    "# 诱导范数的几何意义是矩阵所代表的线性变换对向量进行变换后, 向量长度的最大拉伸倍数\n",
    "# 如果p=2, 则称为谱范数"
   ]
  },
  {
   "cell_type": "code",
   "execution_count": 15,
   "id": "80bb6b09-5a3f-49e1-8ce7-6d02a5939651",
   "metadata": {},
   "outputs": [],
   "source": [
    "# 矩阵的F范数\n",
    "# F范数是谱范数的一个上界"
   ]
  },
  {
   "cell_type": "markdown",
   "id": "5ac86df7-d532-403e-a5b2-2aae58604fdc",
   "metadata": {},
   "source": [
    "### 应用: 人工神经网络"
   ]
  },
  {
   "cell_type": "code",
   "execution_count": 16,
   "id": "2236f2b3-2d57-4be4-a2bc-7e9c13480979",
   "metadata": {},
   "outputs": [],
   "source": [
    "# 激活函数的作用是什么: \n",
    "# 我感觉是为了标准化数据"
   ]
  },
  {
   "cell_type": "markdown",
   "id": "ac3743a1-07b0-443b-b92a-cbd1ef3712c1",
   "metadata": {},
   "source": [
    "### 线性变换"
   ]
  },
  {
   "cell_type": "code",
   "execution_count": 17,
   "id": "19cee9cd-a24c-4e5f-8ff3-1b472ec72683",
   "metadata": {},
   "outputs": [],
   "source": [
    "# 对于线性空间, 加法和数乘都具有线性关系\n",
    "# 矩阵乘法就是线性变换\n",
    "# 旋转变换也是\n",
    "# 正交变换也是, 它能保持向量的长度不变. 对两个向量变换, 他们之间的角度不变. 对应的矩阵是正交矩阵"
   ]
  },
  {
   "cell_type": "code",
   "execution_count": 18,
   "id": "7a7d4e93-97e4-470d-8790-0c22861e0c9d",
   "metadata": {},
   "outputs": [],
   "source": [
    "# 旋转变换是正交变换, 可以证明旋转变换矩阵是正交矩阵, 所以是正交变换"
   ]
  },
  {
   "cell_type": "code",
   "execution_count": 19,
   "id": "92969fcc-6ccf-4a36-9896-2ccb0ee42a6a",
   "metadata": {},
   "outputs": [],
   "source": [
    "# 缩放变换也是线性变换"
   ]
  },
  {
   "cell_type": "markdown",
   "id": "92f23d82-8876-4c42-a018-af14183d6ef5",
   "metadata": {},
   "source": [
    "## 行列式"
   ]
  },
  {
   "cell_type": "code",
   "execution_count": 21,
   "id": "df1b03a7-b28c-4897-90fb-e6c74775e890",
   "metadata": {},
   "outputs": [],
   "source": [
    "# 二阶和三阶的公式"
   ]
  },
  {
   "cell_type": "code",
   "execution_count": 22,
   "id": "705e4cd4-9722-4f36-a030-6255070585a9",
   "metadata": {},
   "outputs": [],
   "source": [
    "# 行列式的拉普拉斯(laplace expansion)展开\n",
    "# 代数余子式"
   ]
  },
  {
   "cell_type": "code",
   "execution_count": 23,
   "id": "350a6de3-975d-46db-ab08-06c923e5bfb7",
   "metadata": {},
   "outputs": [],
   "source": [
    "# 行列式具有多线性"
   ]
  },
  {
   "cell_type": "code",
   "execution_count": 24,
   "id": "0fc59fe0-c93e-42a7-ae78-46f66a8dd5b4",
   "metadata": {},
   "outputs": [],
   "source": [
    "# 伴随矩阵: 通过代数余子式的转置构成\n",
    "# A A* = |A| I\n",
    "# A-1 = A* / |A| (|A|不等于0)"
   ]
  },
  {
   "cell_type": "code",
   "execution_count": 25,
   "id": "497bf066-cd34-4dcb-9db2-771dff349fdd",
   "metadata": {},
   "outputs": [],
   "source": [
    "# |AB| = |A||B|, 如果是尺寸相同"
   ]
  },
  {
   "cell_type": "code",
   "execution_count": 26,
   "id": "28e9d9f1-aaf8-49b3-9b56-b8af7ef4586d",
   "metadata": {},
   "outputs": [],
   "source": [
    "# 正交矩阵的行列式绝对值为1"
   ]
  },
  {
   "cell_type": "code",
   "execution_count": 30,
   "id": "b38a4c89-0d17-446f-9f93-fdaca8e496d5",
   "metadata": {},
   "outputs": [
    {
     "name": "stdout",
     "output_type": "stream",
     "text": [
      "4.999999999999999\n"
     ]
    }
   ],
   "source": [
    "# python实现行列式的计算\n",
    "import numpy as np\n",
    "A = np.array([[1, 0, 0], [0, 1, 0], [0, 0, 5]])\n",
    "d = np.linalg.det(A)\n",
    "print(d)"
   ]
  },
  {
   "cell_type": "code",
   "execution_count": 32,
   "id": "e62635cb-1f11-41d3-9f31-01f6799310d7",
   "metadata": {},
   "outputs": [
    {
     "name": "stdout",
     "output_type": "stream",
     "text": [
      "-9.51619735392994e-16\n"
     ]
    }
   ],
   "source": [
    "import numpy as np\n",
    "A = np.array([[1, 2, 3], [4, 5, 6], [7, 8, 9]])\n",
    "d = np.linalg.det(A)\n",
    "print(d)"
   ]
  },
  {
   "cell_type": "markdown",
   "id": "13268c59-7a8f-4094-a994-fb777813f061",
   "metadata": {},
   "source": [
    "## 线性方程组"
   ]
  },
  {
   "cell_type": "markdown",
   "id": "d9410641-82d2-48d1-92f4-3b98fa69000a",
   "metadata": {},
   "source": [
    "### 高斯消元法"
   ]
  },
  {
   "cell_type": "code",
   "execution_count": 34,
   "id": "e3c84485-694c-489b-8bf6-09e47a6fdf93",
   "metadata": {},
   "outputs": [],
   "source": [
    "# 交换方程位置\n",
    "# 用非0的常数乘以方程两端\n",
    "# 将一个方程的常数倍加到另一个方程上去"
   ]
  },
  {
   "cell_type": "markdown",
   "id": "80f8520c-7473-4d7e-b549-6a711e400169",
   "metadata": {},
   "source": [
    "### 齐次方程组"
   ]
  },
  {
   "cell_type": "code",
   "execution_count": 35,
   "id": "cc58d95c-5e22-40d4-91e1-d06322aec3dc",
   "metadata": {},
   "outputs": [],
   "source": [
    "# 判断条件:\n",
    "# 如果r(A) = n, 方程组只有0解\n",
    "# 如果r(A) < n, 方程组有非0解, 如果A是方阵, 也就是A不可逆 "
   ]
  },
  {
   "cell_type": "code",
   "execution_count": 37,
   "id": "f60678cd-7995-493a-8a63-96b3c1bba8f0",
   "metadata": {},
   "outputs": [],
   "source": [
    "# 解的性质与结构\n",
    "##基础解系: 线性无关且方程组的任意一个解都可以由这组解线性表示\n",
    "##基础解系包含n-r(A)个解, 他们的线性组合为最终的通解"
   ]
  },
  {
   "cell_type": "markdown",
   "id": "9885dea9-e6f7-4591-98de-9b86e10d960e",
   "metadata": {},
   "source": [
    "### 非齐次方程组"
   ]
  },
  {
   "cell_type": "code",
   "execution_count": 38,
   "id": "cc5ce8a7-9d3a-4c2c-ba23-83d4f8ac9bd4",
   "metadata": {},
   "outputs": [],
   "source": [
    "# 判定条件:\n",
    "# 如果r(A) = r(B), 那么方程组的解存在, 并且如果r(A) = n, 那么有唯一解; 如果r(A) < n, 那么有无穷解\n",
    "# 如果r(A) < r(B), 那么方程组的解不存在"
   ]
  },
  {
   "cell_type": "code",
   "execution_count": 39,
   "id": "6a9a6cf9-3eab-4b33-9191-1eacee9db7ee",
   "metadata": {},
   "outputs": [],
   "source": [
    "# 解的性质与结构\n",
    "##基础解系: 齐次方程组的通解 + 非齐次方程组的一个特解"
   ]
  },
  {
   "cell_type": "code",
   "execution_count": 40,
   "id": "4b9f0703-51db-45e7-a545-106a1cadb1a7",
   "metadata": {},
   "outputs": [
    {
     "name": "stdout",
     "output_type": "stream",
     "text": [
      "[2. 3.]\n"
     ]
    }
   ],
   "source": [
    "# python实现非齐次方程组\n",
    "import numpy as np\n",
    "A = np.array([[3, 1], [1, 2]])\n",
    "b = np.array([9, 8])\n",
    "x = np.linalg.solve(A, b)\n",
    "print(x)"
   ]
  },
  {
   "cell_type": "markdown",
   "id": "8225e41f-dbcb-41ed-b810-747e8be2653c",
   "metadata": {},
   "source": [
    "## 特征值和特征向量"
   ]
  },
  {
   "cell_type": "markdown",
   "id": "98d0382c-10f3-476f-b67e-2d79c4798172",
   "metadata": {},
   "source": [
    "### 特征值和特征向量"
   ]
  },
  {
   "cell_type": "code",
   "execution_count": 42,
   "id": "2ec148c7-0b0a-42cf-a769-bbb8adbf9b98",
   "metadata": {},
   "outputs": [],
   "source": [
    "# 特征向量是 经过这个矩阵的线性变换之后仍然处在同一条直线上的向量\n",
    "# 特征值, 特征向量\n",
    "# 特征矩阵, 特征方程\n",
    "# 矩阵的特征多项式"
   ]
  },
  {
   "cell_type": "code",
   "execution_count": 44,
   "id": "fe3c8289-2f51-4a51-b979-5b167684514a",
   "metadata": {},
   "outputs": [],
   "source": [
    "# 对角矩阵的特征值为其主对角线的元素"
   ]
  },
  {
   "cell_type": "code",
   "execution_count": 45,
   "id": "391fd03e-30f0-4bde-8fca-256dc3c163a2",
   "metadata": {},
   "outputs": [],
   "source": [
    "# 代数重数\n",
    "# 矩阵的谱: 特征值构成的集合\n",
    "# 矩阵的谱半径: 所有特征值绝对值的最大值"
   ]
  },
  {
   "cell_type": "code",
   "execution_count": 46,
   "id": "2f5c0b63-c10a-4e3d-ae68-4cd500152de1",
   "metadata": {},
   "outputs": [],
   "source": [
    "# 矩阵A不可逆, 则0是它的特征值; 矩阵A可逆, 则0不是他的特征值"
   ]
  },
  {
   "cell_type": "code",
   "execution_count": 47,
   "id": "e4784cce-43d6-4e06-99d6-8a2d931ac586",
   "metadata": {},
   "outputs": [],
   "source": [
    "# 几何重数\n",
    "# 特征子空间: 维度为m = n - r(A - xI)"
   ]
  },
  {
   "cell_type": "code",
   "execution_count": 48,
   "id": "eee0fb18-928d-4eb1-9d9e-7a22e756ed11",
   "metadata": {},
   "outputs": [],
   "source": [
    "# 对于超过四阶的矩阵, 求解的是高次方程, 并且没有公式解, 只能求近似解"
   ]
  },
  {
   "cell_type": "code",
   "execution_count": 50,
   "id": "84bdc05d-9b6b-4a15-b317-018178814197",
   "metadata": {},
   "outputs": [
    {
     "name": "stdout",
     "output_type": "stream",
     "text": [
      "[1. 1. 5.]\n",
      "[[1. 0. 0.]\n",
      " [0. 1. 0.]\n",
      " [0. 0. 1.]]\n"
     ]
    }
   ],
   "source": [
    "# python实现矩阵的特征值和特征向量\n",
    "import numpy as np \n",
    "A = np.array([[1, 0, 0], [0, 1, 0], [0, 0, 5]])\n",
    "eigvalues, eigvectors = np.linalg.eig(A)\n",
    "print(eigvalues)\n",
    "print(eigvectors)\n"
   ]
  },
  {
   "cell_type": "code",
   "execution_count": 51,
   "id": "15831103-4455-4bfa-881f-dac949ecbfc7",
   "metadata": {},
   "outputs": [],
   "source": [
    "# 特征值与矩阵的迹以及行列式的关系"
   ]
  },
  {
   "cell_type": "code",
   "execution_count": 52,
   "id": "75aeb97f-fbcb-4acc-ae98-ca1757437546",
   "metadata": {},
   "outputs": [],
   "source": [
    "# 矩阵迹 是 矩阵特征值的和\n",
    "# 矩阵的行列式的结果 是 矩阵特征值的积"
   ]
  },
  {
   "cell_type": "code",
   "execution_count": 53,
   "id": "62b376c8-8086-4ee5-a7d9-d1c82f2c7bd5",
   "metadata": {},
   "outputs": [],
   "source": [
    "# 特征值的重要性质\n",
    "# 1. 矩阵可逆, 逆矩阵的特征值是倒数, 特征向量不变\n",
    "# 2. 矩阵的n次方的特征值是n次方, 特征值的k倍是k倍\n",
    "# 3. 特征值的多项式==A的多项式\n",
    "# 4. A与AT有相同的特征值"
   ]
  },
  {
   "cell_type": "code",
   "execution_count": 54,
   "id": "e7783038-3c03-491f-a3cb-8bcfa487c92d",
   "metadata": {},
   "outputs": [],
   "source": [
    "# 特征向量的重要性质\n",
    "# 1. 同一个特征值的特征向量的非0特征组合仍然是关于特征值的特征向量\n",
    "# 2. 矩阵属于不同特征值的特征向量线性无关\n",
    "# 3. 实对称矩阵的特征值都是实数\n",
    "# 4. 共轭计算\n",
    "# 5. 实对称矩阵属于不同特征值的特征向量相互正交"
   ]
  },
  {
   "cell_type": "markdown",
   "id": "93ad2019-b925-4e5e-aa54-b8ced2ae638e",
   "metadata": {},
   "source": [
    "### 相似变换"
   ]
  },
  {
   "cell_type": "code",
   "execution_count": 55,
   "id": "0b0fb292-7c54-4661-86d1-42b76b22ce52",
   "metadata": {},
   "outputs": [],
   "source": [
    "# 相似变换, 相似变换矩阵"
   ]
  },
  {
   "cell_type": "code",
   "execution_count": 56,
   "id": "2fd842d5-15f8-4e18-b20d-b431e5e14457",
   "metadata": {},
   "outputs": [],
   "source": [
    "# 相似矩阵具有相同的特征值"
   ]
  },
  {
   "cell_type": "code",
   "execution_count": 59,
   "id": "da7d41d5-c14a-4aee-90de-1a6a51d3e3c5",
   "metadata": {},
   "outputs": [],
   "source": [
    "# 矩阵的相似对角化\n",
    "# P-1 A P = 对角矩阵, P为特征向量的排列, 对角矩阵为特征值. 前提是P可逆, 有n个特征值\n",
    "# 实对称矩阵一定可以对角化\n",
    "# n阶实对称矩阵有n个线性无关的特征向量"
   ]
  },
  {
   "cell_type": "markdown",
   "id": "78be00fb-8e9f-4a69-995f-636a1d75306d",
   "metadata": {},
   "source": [
    "### 正交变换"
   ]
  },
  {
   "cell_type": "code",
   "execution_count": 60,
   "id": "1d6bc3ed-70ed-4e23-b65c-b5cc866730cc",
   "metadata": {},
   "outputs": [],
   "source": [
    "# 前提是实对称矩阵\n",
    "# 实对称矩阵的特征向量已经是正交的, 可以让他们再单位化就可以构成正交矩阵\n",
    "# 正交矩阵又有A AT = I, 所以PT A P = 对角矩阵"
   ]
  },
  {
   "cell_type": "code",
   "execution_count": null,
   "id": "7520d63e-2a42-4f38-a62a-9104250e09f4",
   "metadata": {},
   "outputs": [],
   "source": [
    "# 正交变换可以保证矩阵的对称性, P是正交矩阵, A是对称矩阵"
   ]
  }
 ],
 "metadata": {
  "kernelspec": {
   "display_name": "Python 3",
   "language": "python",
   "name": "python3"
  },
  "language_info": {
   "codemirror_mode": {
    "name": "ipython",
    "version": 3
   },
   "file_extension": ".py",
   "mimetype": "text/x-python",
   "name": "python",
   "nbconvert_exporter": "python",
   "pygments_lexer": "ipython3",
   "version": "3.7.6"
  },
  "toc-autonumbering": true
 },
 "nbformat": 4,
 "nbformat_minor": 5
}
