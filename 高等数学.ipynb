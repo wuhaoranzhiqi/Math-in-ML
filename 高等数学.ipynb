{
 "cells": [
  {
   "cell_type": "markdown",
   "id": "adbfc650-5ec4-4e7f-8f2b-7608a785da6d",
   "metadata": {},
   "source": [
    "# 一元函数微积分"
   ]
  },
  {
   "cell_type": "markdown",
   "id": "559ef42d-5b18-4cb1-9f06-dea7145d7262",
   "metadata": {},
   "source": [
    "## 极限与连续"
   ]
  },
  {
   "cell_type": "markdown",
   "id": "c079fba1-2b04-4348-98df-43cfdac9889a",
   "metadata": {},
   "source": [
    "### 可数集和不可数集"
   ]
  },
  {
   "cell_type": "code",
   "execution_count": null,
   "id": "18f4a5c0-09cb-421e-ab32-ce6a279350ad",
   "metadata": {},
   "outputs": [],
   "source": [
    "# 基数\n",
    "# 有限集与无限集\n",
    "# 基数相等\n",
    "# sigmod函数\n",
    "# 不可数集和可数集"
   ]
  },
  {
   "cell_type": "markdown",
   "id": "9cc2b9d6-8928-4ead-83a6-a9562bad5933",
   "metadata": {},
   "source": [
    "### 数列的极限"
   ]
  },
  {
   "cell_type": "code",
   "execution_count": 2,
   "id": "7b83e5c3-03d4-4bf0-843c-f465d10fa109",
   "metadata": {},
   "outputs": [],
   "source": [
    "# 极限存在, 必唯一\n",
    "# 单调有界性\n",
    "# 夹逼定理"
   ]
  },
  {
   "cell_type": "markdown",
   "id": "ca1e97f3-5d3e-4096-b1d5-95f19b294c8d",
   "metadata": {},
   "source": [
    "### 函数的极限"
   ]
  },
  {
   "cell_type": "code",
   "execution_count": 3,
   "id": "2d27714c-8a47-44b6-b27c-fa0ea6d2adf3",
   "metadata": {},
   "outputs": [],
   "source": [
    "# 极限存在条件是左右极限存在且相等"
   ]
  },
  {
   "cell_type": "markdown",
   "id": "dbea70f4-8770-4b6c-b3dc-da0ce17a2cc9",
   "metadata": {},
   "source": [
    "### 函数的连续性与间断点"
   ]
  },
  {
   "cell_type": "code",
   "execution_count": 4,
   "id": "a77095f5-20f5-49b9-8808-cf5b6c3f4cf0",
   "metadata": {},
   "outputs": [],
   "source": [
    "# 第一类间断点: 跳跃间断点, 可去间断点\n",
    "# 第二类间断点: 无穷间断点"
   ]
  },
  {
   "cell_type": "code",
   "execution_count": 6,
   "id": "91b4cfab-916c-4454-aea4-c6bd414fb22d",
   "metadata": {},
   "outputs": [],
   "source": [
    "# 连续函数的性质: \n",
    "# 1. 极值存在性\n",
    "# 2. 介值定理"
   ]
  },
  {
   "cell_type": "markdown",
   "id": "25a2d953-550c-40bb-842e-d6e4d06226d7",
   "metadata": {},
   "source": [
    "### 上确界和下确界"
   ]
  },
  {
   "cell_type": "code",
   "execution_count": 7,
   "id": "db0017ac-0d48-43e0-89a6-b1eaaa4ea4b2",
   "metadata": {},
   "outputs": [],
   "source": [
    "# 类似于最大值和最小值"
   ]
  },
  {
   "cell_type": "markdown",
   "id": "57b2cb20-d96f-46d8-ab12-1e64f981ba61",
   "metadata": {},
   "source": [
    "### Lipschitz连续"
   ]
  },
  {
   "cell_type": "code",
   "execution_count": 8,
   "id": "f4e919c0-16d4-4b93-bc63-6d5a3cd51e8b",
   "metadata": {},
   "outputs": [],
   "source": [
    "# 要求函数在区间上不能拥有超过线性的变化速度"
   ]
  },
  {
   "cell_type": "markdown",
   "id": "6686fca1-2bbc-4099-9580-e1bc700fd4ff",
   "metadata": {},
   "source": [
    "### 无穷小量"
   ]
  },
  {
   "cell_type": "markdown",
   "id": "5caf3b9b-c4d9-4021-a1e4-3f792921bbc8",
   "metadata": {},
   "source": [
    "## 导数与微分"
   ]
  },
  {
   "cell_type": "markdown",
   "id": "49f5bae9-6684-45b7-970a-4fff6b630cde",
   "metadata": {},
   "source": [
    "### 一阶导数"
   ]
  },
  {
   "cell_type": "code",
   "execution_count": 11,
   "id": "a1a61ea2-10eb-4636-a6ba-22f01d07fdf9",
   "metadata": {},
   "outputs": [],
   "source": [
    "# 函数可导的条件是左右导数存在且相等\n",
    "\n",
    "# 单侧差分公式\n",
    "# 中心差分公式\n",
    "\n",
    "# 链式法则(sigmod函数求导)\n",
    "\n",
    "# 反函数求导"
   ]
  },
  {
   "cell_type": "code",
   "execution_count": null,
   "id": "69a1455b-d757-4b0f-bc24-6d1d70f18996",
   "metadata": {},
   "outputs": [],
   "source": []
  }
 ],
 "metadata": {
  "kernelspec": {
   "display_name": "Python 3",
   "language": "python",
   "name": "python3"
  },
  "language_info": {
   "codemirror_mode": {
    "name": "ipython",
    "version": 3
   },
   "file_extension": ".py",
   "mimetype": "text/x-python",
   "name": "python",
   "nbconvert_exporter": "python",
   "pygments_lexer": "ipython3",
   "version": "3.8.8"
  },
  "toc-autonumbering": true,
  "toc-showmarkdowntxt": false
 },
 "nbformat": 4,
 "nbformat_minor": 5
}
