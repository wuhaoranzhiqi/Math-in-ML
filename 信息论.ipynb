{
 "cells": [
  {
   "cell_type": "markdown",
   "id": "52aa8780-7356-4596-b64a-05f84959e09b",
   "metadata": {},
   "source": [
    "# 信息论"
   ]
  },
  {
   "cell_type": "markdown",
   "id": "a1b29715-5fb9-4c14-9e87-d09828015871",
   "metadata": {},
   "source": [
    "## 熵与联合熵"
   ]
  },
  {
   "cell_type": "code",
   "execution_count": 1,
   "id": "5fdd11de-84f9-4521-b429-268deb02cc8e",
   "metadata": {},
   "outputs": [],
   "source": [
    "# 熵用于对概率分布的随机性程度进行度量, 反映了一组数据所包含的信息量大小"
   ]
  },
  {
   "cell_type": "markdown",
   "id": "6ad8b4ca-bf2f-4221-a859-735707b2eefa",
   "metadata": {},
   "source": [
    "### 信息量与熵"
   ]
  },
  {
   "cell_type": "code",
   "execution_count": 2,
   "id": "4b5c2ae5-0937-47fc-a742-f64b3dc22c4c",
   "metadata": {},
   "outputs": [],
   "source": [
    "# 概率越低, 信息量越大\n",
    "# 熵: 计算随机变量在各个值时, 信息量的数学期望\n",
    "# 随机变量越接近于均匀分布, 他的随机性越大, 熵越大"
   ]
  },
  {
   "cell_type": "code",
   "execution_count": 3,
   "id": "d47209e0-7dc5-4ef5-b192-93b3fee9ad7f",
   "metadata": {},
   "outputs": [],
   "source": [
    "# 对于连续性随机变量的熵: 微分熵"
   ]
  },
  {
   "cell_type": "markdown",
   "id": "b56259f4-c56b-4df0-94d1-d6188404e4a7",
   "metadata": {},
   "source": [
    "### 熵的性质"
   ]
  },
  {
   "cell_type": "code",
   "execution_count": 4,
   "id": "13a22903-9eec-4cfa-bd83-e6279c460592",
   "metadata": {},
   "outputs": [],
   "source": [
    "# 熵的取值范围: 0<=H(p)<=Inn\n",
    "# 正态分布的方差只有方差有关, 与均值无关"
   ]
  },
  {
   "cell_type": "markdown",
   "id": "8a98bae7-1d1d-4935-ae7e-2e3528d3374b",
   "metadata": {},
   "source": [
    "### 应用: 决策树"
   ]
  },
  {
   "cell_type": "code",
   "execution_count": 6,
   "id": "f4046259-2316-42d1-b561-1020c3158991",
   "metadata": {},
   "outputs": [],
   "source": [
    "# 如果一个样本集的熵越大, 则说明他里面的样本越纯\n",
    "# 信息增益(Gain)指标"
   ]
  },
  {
   "cell_type": "markdown",
   "id": "1c38395e-4925-4e5d-a0f3-752fa63a844e",
   "metadata": {},
   "source": [
    "### 联合熵"
   ]
  },
  {
   "cell_type": "code",
   "execution_count": 7,
   "id": "8a8be1c0-95e7-4552-b87f-2467a8661c79",
   "metadata": {},
   "outputs": [],
   "source": [
    "# 联合熵是熵对多维概率分布的推广\n",
    "# 同样只与方差有关, 与均值无关\n",
    "# 随机变量X和Y相互独立, 则他们的联合熵等于各自边缘分布的熵之和. H(X, Y) = H(X) + H(Y)\n",
    "# H(X, Y): 多维的概率分布"
   ]
  },
  {
   "cell_type": "markdown",
   "id": "f8d1cdac-f128-4bdf-b512-214d57d6f099",
   "metadata": {},
   "source": [
    "## 交叉熵"
   ]
  },
  {
   "cell_type": "code",
   "execution_count": 2,
   "id": "65c76ca6-d18c-4ac7-8f6b-da93910190a0",
   "metadata": {},
   "outputs": [],
   "source": [
    "# 描述两个概率分布之间的差异程度, 机器学习有时候就是训练目标使得模型拟合出的概率分布尽量接近于目标概率分布."
   ]
  },
  {
   "cell_type": "markdown",
   "id": "602b1a83-975a-4dd2-8b91-91e10258a93a",
   "metadata": {},
   "source": [
    "### 交叉熵的定义"
   ]
  },
  {
   "cell_type": "code",
   "execution_count": 4,
   "id": "11626188-0081-42fa-bab4-3c159c1680bc",
   "metadata": {},
   "outputs": [],
   "source": [
    "# 衡量了两个概率分布之间的差异, 其值越大, 两个分布的差异越大\n",
    "# 两个概率分布相同时, 交叉熵具有最小值, 并且退化成熵"
   ]
  },
  {
   "cell_type": "markdown",
   "id": "2918ee29-17d0-42a1-8612-3c7b758e8d96",
   "metadata": {},
   "source": [
    "### 交叉熵的性质"
   ]
  },
  {
   "cell_type": "code",
   "execution_count": 5,
   "id": "61d6e8d6-2f5c-4e43-ac3a-cd70bf667e33",
   "metadata": {},
   "outputs": [],
   "source": [
    "# 交叉熵不具有对称性"
   ]
  },
  {
   "cell_type": "markdown",
   "id": "f97b1113-bcc7-44b1-a35e-e586bcdc31e1",
   "metadata": {},
   "source": [
    "### 应用: softmax回归"
   ]
  },
  {
   "cell_type": "code",
   "execution_count": null,
   "id": "8c51ec90-f586-4049-be3b-3fa53d7972ff",
   "metadata": {},
   "outputs": [],
   "source": [
    "# 交叉熵通常用于构造机器学习的目标函数\n",
    "# softmax回归是逻辑回归的扩展, 是多分类问题\n",
    "# softmax变换: 使得输出的k维向量元素之和为1"
   ]
  },
  {
   "cell_type": "code",
   "execution_count": 1,
   "id": "efd62de9-4514-473c-a58a-c072316f19b7",
   "metadata": {},
   "outputs": [],
   "source": [
    "# 在机器学习中通常已知一个概率分布p, 算法要拟合一个概率分布q, 可以通过最小化二者的交叉熵实现"
   ]
  },
  {
   "cell_type": "markdown",
   "id": "130e5dc1-43b1-4654-a342-6c56c7900a1f",
   "metadata": {},
   "source": [
    "## KL散度"
   ]
  },
  {
   "cell_type": "code",
   "execution_count": 2,
   "id": "d103a1a9-3580-46b2-a621-e79a8c3eeb56",
   "metadata": {},
   "outputs": [],
   "source": [
    "# 也是度量两个概率分布之间的差异, 通常用于构造目标函数以及对算法进行分析"
   ]
  },
  {
   "cell_type": "markdown",
   "id": "ffdec9c2-09a2-4948-95d1-256d45188f4a",
   "metadata": {},
   "source": [
    "### KL散度的定义"
   ]
  },
  {
   "cell_type": "code",
   "execution_count": 3,
   "id": "84fcfb2a-721b-4d44-948f-3197e02dc8a3",
   "metadata": {},
   "outputs": [],
   "source": [
    "# KL散度也称为相对熵, 值越大, 说明差异越大; 当两个概率分布完全相等时, KL散度值为0."
   ]
  },
  {
   "cell_type": "code",
   "execution_count": 4,
   "id": "43c41158-8c0d-4f37-bb24-e76eae614dc1",
   "metadata": {},
   "outputs": [],
   "source": [
    "# 对交叉熵的改进, 在两个概率分布相同时, KL散度为0"
   ]
  },
  {
   "cell_type": "code",
   "execution_count": 5,
   "id": "a2f2d120-85ab-4f8d-8865-f3ca925d82e8",
   "metadata": {},
   "outputs": [],
   "source": [
    "# 伯努利分布, 二维正态分布, 多维正态分布的KL散度"
   ]
  },
  {
   "cell_type": "markdown",
   "id": "89bf6b47-fca9-440b-9caf-4b22abe028f9",
   "metadata": {},
   "source": [
    "### KL散度的性质"
   ]
  },
  {
   "cell_type": "code",
   "execution_count": 6,
   "id": "ba14b84a-c793-4ec8-92e5-e7c83b3ddd10",
   "metadata": {},
   "outputs": [],
   "source": [
    "# KL散度的值大于等于0, Gibbs不等式\n",
    "# 两个概率分布相同是, KL散度有极小值0\n",
    "# 任意概率分布p的熵不大于p与其他概率分布q的交叉熵"
   ]
  },
  {
   "cell_type": "code",
   "execution_count": 7,
   "id": "a06c6983-ac5e-4df2-8098-b61711d64eb1",
   "metadata": {},
   "outputs": [],
   "source": [
    "# KL散度具有数学期望的形式, 因此可以使用采样算法来近似计算"
   ]
  },
  {
   "cell_type": "markdown",
   "id": "dd2785ec-9c74-404e-8243-1a00b29f2a56",
   "metadata": {},
   "source": [
    "### 与交叉熵的关系"
   ]
  },
  {
   "cell_type": "code",
   "execution_count": 9,
   "id": "0f7548ba-bf89-428a-8625-78c944f1e79f",
   "metadata": {},
   "outputs": [],
   "source": [
    "# Dkl(p||q) = H(p,q) - H(p)\n",
    "# KL散度就是交叉熵和熵的差"
   ]
  },
  {
   "cell_type": "code",
   "execution_count": 10,
   "id": "7f076b47-bf31-49cd-a282-383c9e1558f6",
   "metadata": {},
   "outputs": [],
   "source": [
    "# 机器学习中的p(x)分布通常是已知的, 需要拟合出一个概率分布q(x)去近似他\n",
    "## 此时H(p)是不变的, 可以直接使用交叉熵H(p,q)来作为优化目标"
   ]
  },
  {
   "cell_type": "markdown",
   "id": "2bd8735f-3dbd-41ab-a68e-307a360a5eb8",
   "metadata": {},
   "source": [
    "### 应用: 流形降维"
   ]
  },
  {
   "cell_type": "code",
   "execution_count": 11,
   "id": "3cc7245c-8647-457c-a7a4-6888540411d1",
   "metadata": {},
   "outputs": [],
   "source": [
    "# 流形\n",
    "## 举例: 三维空间中的球面是一个二维流形, 给定半径之后其方程可以用两个参数表示."
   ]
  },
  {
   "cell_type": "code",
   "execution_count": 12,
   "id": "b630ab57-a743-4685-a107-0a6e98adef24",
   "metadata": {},
   "outputs": [],
   "source": [
    "# 随机近邻嵌入\n",
    "## 在高维空间中距离很近的点投影到地位空间之后, 仍然保持某种近邻关系"
   ]
  },
  {
   "cell_type": "markdown",
   "id": "c0796046-b00e-4317-9ae6-89a1c2445114",
   "metadata": {},
   "source": [
    "### 应用: 变分推断"
   ]
  },
  {
   "cell_type": "code",
   "execution_count": 13,
   "id": "4b23ef36-e87b-4ef3-a5d0-e3eb2fafe216",
   "metadata": {},
   "outputs": [],
   "source": [
    "# 变分贝叶斯\n",
    "## 他不依赖于随机数的推断方法"
   ]
  },
  {
   "cell_type": "markdown",
   "id": "7070c9fc-2687-461e-a4f0-fb74ede034d5",
   "metadata": {},
   "source": [
    "## Jensen-Shannon散度"
   ]
  },
  {
   "cell_type": "code",
   "execution_count": 15,
   "id": "cdeabf93-7f51-452c-ae66-3870fd7ce104",
   "metadata": {},
   "outputs": [],
   "source": [
    "# JS散度是定义于两个概率分布之上, 根据KL散度构造, 也是描述两个概率分布之间的差异\n",
    "# 他具有对称性"
   ]
  },
  {
   "cell_type": "markdown",
   "id": "f1404a48-75aa-4fbe-a2c6-c20da3b07819",
   "metadata": {},
   "source": [
    "### JS散度的定义"
   ]
  },
  {
   "cell_type": "code",
   "execution_count": null,
   "id": "4b8eddae-0fc6-4213-aa80-4d68dc13617f",
   "metadata": {},
   "outputs": [],
   "source": [
    "# JS散度是KL散度的均值\n",
    "# 当两个概率分布相同时, 他们的JS散度为0"
   ]
  },
  {
   "cell_type": "markdown",
   "id": "ac90abcb-1048-4759-bfa2-dc3c85f26431",
   "metadata": {},
   "source": [
    "### JS散度的性质"
   ]
  },
  {
   "cell_type": "markdown",
   "id": "1cd6ccb1-f614-4ee2-9fb4-7f102fa437b3",
   "metadata": {},
   "source": [
    "### 应用: 生成对抗网络"
   ]
  },
  {
   "cell_type": "code",
   "execution_count": 16,
   "id": "632eb750-52b6-4546-80e3-124ae824f9d5",
   "metadata": {},
   "outputs": [],
   "source": [
    "# 使用逆变换采样算法, 可以通过简单概率分布随机数进行变换得到目标概率分布的随机数\n",
    "# 但是在比较复杂随机数据的生成问题中, 这种方法存在问题:\n",
    "##要生成的概率分布未知; 假设已知,但是x维度很高且服从的概率分布非常复杂"
   ]
  },
  {
   "cell_type": "code",
   "execution_count": null,
   "id": "fe1cf637-0655-41f4-82dc-775691579491",
   "metadata": {},
   "outputs": [],
   "source": [
    "# 可以使用机器学习方法解决数据生成问题, 分布变换函数g通过训练决定"
   ]
  },
  {
   "cell_type": "code",
   "execution_count": 17,
   "id": "9ae60d6e-30c6-4465-8c2f-1bc3206cab54",
   "metadata": {},
   "outputs": [],
   "source": [
    "# 使用生成对抗网络可以学习出想要映射函数."
   ]
  },
  {
   "cell_type": "code",
   "execution_count": 18,
   "id": "7ae4d0b3-7477-4dfc-9545-d345dd5dac5f",
   "metadata": {},
   "outputs": [],
   "source": [
    "# 主流的深度生成模型: 变分自动编码器, 生成对抗网络"
   ]
  },
  {
   "cell_type": "code",
   "execution_count": 19,
   "id": "aeba8b2d-3a94-4fda-bd1c-0d401d15eafe",
   "metadata": {},
   "outputs": [],
   "source": [
    "# 生成对抗网络: 生成模型, 判别模型\n",
    "# 生成模型: 学习真实样本数据的概率分布, 并生成符合这种分布的数据\n",
    "# 判别模型: 判断一个输入样本数据是真实样本还是由生成模型生成的"
   ]
  },
  {
   "cell_type": "code",
   "execution_count": 20,
   "id": "bbacbf02-ecdc-4610-b912-04ca3a426f63",
   "metadata": {},
   "outputs": [],
   "source": [
    "# 生成模型是为了最小化判别模型的准确率\n",
    "# 判别模型是为了最大化判别模型的准确率"
   ]
  },
  {
   "cell_type": "code",
   "execution_count": 21,
   "id": "e5bc8fc4-5002-45c4-b5a5-1552c332c79c",
   "metadata": {},
   "outputs": [],
   "source": [
    "# GAN训练时的目标是最小化生成样本的概率分布与真实样本的概率分布的JS散度"
   ]
  },
  {
   "cell_type": "markdown",
   "id": "5472698a-c4af-4a15-b56e-11f0772ac165",
   "metadata": {},
   "source": [
    "## 互信息"
   ]
  },
  {
   "cell_type": "code",
   "execution_count": 24,
   "id": "2faf0d7c-43e4-42a8-ac86-6148e80bf32c",
   "metadata": {},
   "outputs": [],
   "source": [
    "# 反映两个随机变量之间的依赖程度, 即相关性程度\n",
    "# 可用于机器学习中的特征选择以及目标函数的构造"
   ]
  },
  {
   "cell_type": "markdown",
   "id": "cd86e9b4-c48f-4f0d-b482-fb224fe6a2c5",
   "metadata": {},
   "source": [
    "### 互信息的定义"
   ]
  },
  {
   "cell_type": "code",
   "execution_count": 25,
   "id": "6c0e6fc0-629e-4c66-9834-cd20d14b5788",
   "metadata": {},
   "outputs": [],
   "source": [
    "# 互信息反映了联合概率p(x,y)与边缘概率之积p(x)p(y)的差异程度\n",
    "# 如果互信息的值越小, 那么他们的依赖程度就越小, 趋向于独立"
   ]
  },
  {
   "cell_type": "markdown",
   "id": "66bbe637-0a74-4878-936e-722b83d7744d",
   "metadata": {},
   "source": [
    "### 互信息的性质"
   ]
  },
  {
   "cell_type": "code",
   "execution_count": 26,
   "id": "3acd0124-d897-414a-9715-12b4e9971ede",
   "metadata": {},
   "outputs": [],
   "source": [
    "# 如果两个随机变量相互独立, 他们的互信息为0\n",
    "# 互信息是非负的"
   ]
  },
  {
   "cell_type": "code",
   "execution_count": 27,
   "id": "79a5786d-4437-4d1f-bdeb-560b44557730",
   "metadata": {},
   "outputs": [],
   "source": [
    "# 两个随机变量之间的依赖程度越高, 则互信息值越大, 反之则越小"
   ]
  },
  {
   "cell_type": "markdown",
   "id": "3a00860a-3d57-405d-bdd5-e425f30e905b",
   "metadata": {},
   "source": [
    "### 与熵的关系"
   ]
  },
  {
   "cell_type": "code",
   "execution_count": 30,
   "id": "909ae389-064a-473f-8b78-ea999857ad0e",
   "metadata": {},
   "outputs": [],
   "source": [
    "# H(X, Y) = H(X) + H(Y) - I(X, Y)\n",
    "# 两个随机变量的联合熵等于他们各自的熵的和减去互信息"
   ]
  },
  {
   "cell_type": "code",
   "execution_count": 32,
   "id": "510f3328-38ce-4e88-b04e-b8e6a55a659b",
   "metadata": {},
   "outputs": [],
   "source": [
    "# I(X, Y) <= H(X)\n",
    "# 两个随机变量之间的互信息不大于其中任意一个随机变量的熵"
   ]
  },
  {
   "cell_type": "markdown",
   "id": "bfcb639e-f618-415c-ab21-36a2c8029985",
   "metadata": {},
   "source": [
    "### 应用: 特征选择"
   ]
  },
  {
   "cell_type": "code",
   "execution_count": 33,
   "id": "149f967c-a52a-4ff7-a643-94456ee1005b",
   "metadata": {},
   "outputs": [],
   "source": [
    "# 如果把Y看做样本的类别标签值, X看作样本的特征值, 互信息可以描绘他们之间的相关程度"
   ]
  },
  {
   "cell_type": "markdown",
   "id": "a560607b-2114-4571-a1ad-0867f95ee3e2",
   "metadata": {},
   "source": [
    "## 条件熵"
   ]
  },
  {
   "cell_type": "markdown",
   "id": "b502bb43-51e8-49cf-a656-f7107e51c21b",
   "metadata": {},
   "source": [
    "### 条件熵定义"
   ]
  },
  {
   "cell_type": "code",
   "execution_count": 34,
   "id": "9d275a66-0f90-4503-898a-2684d38225c1",
   "metadata": {},
   "outputs": [],
   "source": [
    "# 定义于两个随机变量之间, 用于衡量在已知一个随机变量的取值的条件下, 另外一个随机变量的信息量"
   ]
  },
  {
   "cell_type": "code",
   "execution_count": 35,
   "id": "dae67908-ccdf-4613-bb9f-fdada17e947c",
   "metadata": {},
   "outputs": [],
   "source": [
    "# 条件熵: 在给定X的条件下Y的条件概率p的熵H对X的数学期望"
   ]
  },
  {
   "cell_type": "markdown",
   "id": "6d3ca95b-a61c-4698-ad8d-e9f7c8f1c413",
   "metadata": {},
   "source": [
    "### 条件熵的性质"
   ]
  },
  {
   "cell_type": "code",
   "execution_count": 37,
   "id": "7dc47b9c-01da-4cb8-9189-43c1dff65629",
   "metadata": {},
   "outputs": [],
   "source": [
    "# 当且仅当Y完全由X确定时, H(Y|X)=0. 此时p(y|x)=1\n",
    "# 如果两个随机变量相互独立时, 那么有H(Y|X) = H(Y), 此时p(y|x) = p(y)"
   ]
  },
  {
   "cell_type": "markdown",
   "id": "50a517f6-164f-4abe-890e-25a50f90a17d",
   "metadata": {},
   "source": [
    "### 与熵以及互信息的关系"
   ]
  },
  {
   "cell_type": "code",
   "execution_count": 38,
   "id": "28e55da2-28d7-4e1a-90e6-f5c0422719ee",
   "metadata": {},
   "outputs": [],
   "source": [
    "# H(Y|X) = H(X, Y) - H(X)\n",
    "# X对Y的条件熵是他们的联合熵与熵的差值"
   ]
  },
  {
   "cell_type": "code",
   "execution_count": 39,
   "id": "cd0e14c8-c0d5-45f0-8549-95bd356af99e",
   "metadata": {},
   "outputs": [],
   "source": [
    "# I(X,Y) = H(X) - H(X|Y)"
   ]
  },
  {
   "cell_type": "markdown",
   "id": "d7ad480b-28a9-412e-8d2a-a18f6924f22e",
   "metadata": {},
   "source": [
    "## 总结"
   ]
  },
  {
   "cell_type": "code",
   "execution_count": 1,
   "id": "101cda38-79fc-4292-98b7-1af50aab9972",
   "metadata": {},
   "outputs": [],
   "source": [
    "# 熵和联合熵是最基本的量"
   ]
  },
  {
   "cell_type": "code",
   "execution_count": 2,
   "id": "028ffcbc-0eda-4ef6-9385-4e8dde7a6f19",
   "metadata": {},
   "outputs": [],
   "source": [
    "# 互信息是联合熵以及各边缘分布的熵决定\n",
    "# 条件熵是联合熵－边缘分布的熵\n",
    "# KL散度是交叉熵－熵"
   ]
  },
  {
   "cell_type": "code",
   "execution_count": null,
   "id": "37d99dbe-10c0-48e8-b1a0-0238e64e103e",
   "metadata": {},
   "outputs": [],
   "source": []
  }
 ],
 "metadata": {
  "kernelspec": {
   "display_name": "Python 3",
   "language": "python",
   "name": "python3"
  },
  "language_info": {
   "codemirror_mode": {
    "name": "ipython",
    "version": 3
   },
   "file_extension": ".py",
   "mimetype": "text/x-python",
   "name": "python",
   "nbconvert_exporter": "python",
   "pygments_lexer": "ipython3",
   "version": "3.7.6"
  },
  "toc-autonumbering": true
 },
 "nbformat": 4,
 "nbformat_minor": 5
}
