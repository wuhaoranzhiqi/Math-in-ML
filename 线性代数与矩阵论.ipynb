{
 "cells": [
  {
   "cell_type": "markdown",
   "id": "1346dc97-4817-4577-abfb-85902e0af1ce",
   "metadata": {},
   "source": [
    "# 线性代数与矩阵论"
   ]
  },
  {
   "cell_type": "markdown",
   "id": "180a01ba-7229-4fd9-8a01-97dd494fbb4c",
   "metadata": {},
   "source": [
    "## 向量及其运算"
   ]
  },
  {
   "cell_type": "markdown",
   "id": "08a8c278-8d70-4b51-a317-5b0a65e8d0aa",
   "metadata": {},
   "source": [
    "### 基本概念"
   ]
  },
  {
   "cell_type": "code",
   "execution_count": 1,
   "id": "5e902b93-c803-43d3-a671-07aed38cd19e",
   "metadata": {},
   "outputs": [],
   "source": [
    "# 特征向量"
   ]
  },
  {
   "cell_type": "markdown",
   "id": "f743a50d-676a-4891-aeaf-b638bf6dd212",
   "metadata": {},
   "source": [
    "### 基本运算"
   ]
  },
  {
   "cell_type": "code",
   "execution_count": null,
   "id": "56a9acbb-34b8-4882-8e9f-4c6ce5f545c1",
   "metadata": {},
   "outputs": [],
   "source": [
    "# 向量的内积\n",
    "# 内积为0, 表示正交\n",
    "# 向量的阿达马积, 对应分量相乘"
   ]
  },
  {
   "cell_type": "markdown",
   "id": "fa218909-887a-419b-b474-72fdb1f3ef5b",
   "metadata": {},
   "source": [
    "### 向量的范数"
   ]
  },
  {
   "cell_type": "code",
   "execution_count": 2,
   "id": "61aee70d-a6ac-4a9e-80e2-24f4dfc8a24e",
   "metadata": {},
   "outputs": [],
   "source": [
    "# L1范数\n",
    "# L2范数\n",
    "# L-无穷范数 max|x|\n",
    "# 柯西-施瓦茨不等式, 当且仅当两个向量成比例时, 取等号\n",
    "# 向量内积等于向量模✖️ cos, 向量之间的夹角大于90度, 内积为负数\n",
    "# 范数满足三角不等式"
   ]
  },
  {
   "cell_type": "markdown",
   "id": "95d7e343-efb0-4970-b6c5-25fd54ea799d",
   "metadata": {},
   "source": [
    "### 解析几何"
   ]
  },
  {
   "cell_type": "code",
   "execution_count": 3,
   "id": "1ca4093e-58aa-4686-94d8-1b6d238712ce",
   "metadata": {},
   "outputs": [],
   "source": [
    "# 超平面方程以及他的法向量\n",
    "# 点到超平面的距离"
   ]
  },
  {
   "cell_type": "markdown",
   "id": "8cb2a04e-9c24-403e-818e-f2117cf9de1c",
   "metadata": {},
   "source": [
    "### 线性相关性"
   ]
  },
  {
   "cell_type": "code",
   "execution_count": 4,
   "id": "159d58d5-7006-4187-a26c-b3e11fc44889",
   "metadata": {},
   "outputs": [],
   "source": [
    "# 可以线性表达\n",
    "# 线性相关与线性无关\n",
    "# 极大线性无关组"
   ]
  },
  {
   "cell_type": "markdown",
   "id": "a5991c0a-1ced-40bb-a5e9-380d18586b49",
   "metadata": {},
   "source": [
    "### 向量空间"
   ]
  },
  {
   "cell_type": "code",
   "execution_count": 5,
   "id": "352b1c71-7f2f-4ac5-94f2-6043cb3532f7",
   "metadata": {},
   "outputs": [],
   "source": [
    "# 线性空间\n",
    "# 子空间\n",
    "# 向量的基: 向量空间的极大线性无关组, 基的数量为空间的维数\n",
    "# 正交基, 标准正交基\n",
    "# 空间的基和标准正交基都不是唯一的"
   ]
  },
  {
   "cell_type": "code",
   "execution_count": 6,
   "id": "4513f62a-51c3-45a3-8a2d-b73e83618b7f",
   "metadata": {},
   "outputs": [],
   "source": [
    "# 制造标准正交基: 使用格拉姆-施密特正交化"
   ]
  },
  {
   "cell_type": "markdown",
   "id": "46b29b4d-813a-443b-bc42-5774350f7f18",
   "metadata": {},
   "source": [
    "### 应用举例: 线性回归"
   ]
  },
  {
   "cell_type": "code",
   "execution_count": 7,
   "id": "4da026d3-ec83-448c-83cc-fdce294dba3b",
   "metadata": {},
   "outputs": [],
   "source": [
    "# 最小化均分误差: MSE\n",
    "# 目标函数"
   ]
  },
  {
   "cell_type": "markdown",
   "id": "8f5e1521-956a-49c3-a0cb-a1f649c06d30",
   "metadata": {},
   "source": [
    "### 应用举例: 线性分类器与支持向量机"
   ]
  },
  {
   "cell_type": "code",
   "execution_count": 8,
   "id": "361c42f2-670e-4a2c-a8d5-6a4ab5995a24",
   "metadata": {},
   "outputs": [],
   "source": [
    "# 怎么理解支撑平面"
   ]
  },
  {
   "cell_type": "markdown",
   "id": "8fc1badd-66b9-4044-a13b-e7bd54b732a1",
   "metadata": {},
   "source": [
    "## 矩阵及其运算"
   ]
  },
  {
   "cell_type": "code",
   "execution_count": 9,
   "id": "8947b2de-ec16-4ca4-a821-4fa7b67a7836",
   "metadata": {},
   "outputs": [],
   "source": [
    "# 对称矩阵\n",
    "# 对角矩阵\n",
    "# 单位矩阵\n",
    "# 格拉姆矩阵: 为转置 与其 向量组按列组成的矩阵乘积"
   ]
  },
  {
   "cell_type": "markdown",
   "id": "58834fa9-c097-4c70-881f-26f850f5cab1",
   "metadata": {},
   "source": [
    "### 基本运算"
   ]
  },
  {
   "cell_type": "code",
   "execution_count": 10,
   "id": "e82a0173-0f6e-4a6c-93c7-01502856de2f",
   "metadata": {},
   "outputs": [],
   "source": [
    "# 转置\n",
    "# 数乘\n",
    "# 矩阵相乘\n",
    "# 矩阵的阿达马积"
   ]
  },
  {
   "cell_type": "code",
   "execution_count": 11,
   "id": "c33ff0d0-777f-4308-8d97-ff7e96301ee1",
   "metadata": {},
   "outputs": [],
   "source": [
    "# 线性方程组的矩阵表示\n",
    "# 系数矩阵\n",
    "# 常数向量\n",
    "# 增广矩阵"
   ]
  },
  {
   "cell_type": "code",
   "execution_count": 12,
   "id": "86ee77df-0e8c-4681-9d12-d682be8f5322",
   "metadata": {},
   "outputs": [],
   "source": [
    "# 矩阵乘法的代码实现\n",
    "import numpy as np\n",
    "A = np.array([[1, 1, 0], [0, 0, 1]])\n",
    "B = np.array([[0, 1], [0, 0], [1, 0]])\n",
    "C = np.dot(A, B)"
   ]
  },
  {
   "cell_type": "code",
   "execution_count": 14,
   "id": "c989224a-7ba0-4f0b-8b7e-a605d43f5f17",
   "metadata": {},
   "outputs": [],
   "source": [
    "# 矩阵初等变换\n",
    "# 实现行或列的乘某个数: 左乘对角, 实现行"
   ]
  },
  {
   "cell_type": "code",
   "execution_count": 15,
   "id": "51f87585-ef53-4b0d-a886-055aaee6885d",
   "metadata": {},
   "outputs": [],
   "source": [
    "# 矩阵乘法不满足交换律"
   ]
  },
  {
   "cell_type": "code",
   "execution_count": 16,
   "id": "ab4728ad-b8f9-4f67-b21c-20963fe33314",
   "metadata": {},
   "outputs": [],
   "source": [
    "# 矩阵的分块"
   ]
  },
  {
   "cell_type": "code",
   "execution_count": null,
   "id": "53ca78d2-c510-4b3c-aa5b-3f6257f2e3e1",
   "metadata": {},
   "outputs": [],
   "source": []
  }
 ],
 "metadata": {
  "kernelspec": {
   "display_name": "Python 3",
   "language": "python",
   "name": "python3"
  },
  "language_info": {
   "codemirror_mode": {
    "name": "ipython",
    "version": 3
   },
   "file_extension": ".py",
   "mimetype": "text/x-python",
   "name": "python",
   "nbconvert_exporter": "python",
   "pygments_lexer": "ipython3",
   "version": "3.8.8"
  }
 },
 "nbformat": 4,
 "nbformat_minor": 5
}
