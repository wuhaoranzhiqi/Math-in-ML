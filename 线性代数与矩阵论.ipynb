{
 "cells": [
  {
   "cell_type": "markdown",
   "id": "1346dc97-4817-4577-abfb-85902e0af1ce",
   "metadata": {},
   "source": [
    "# 线性代数与矩阵论"
   ]
  },
  {
   "cell_type": "markdown",
   "id": "180a01ba-7229-4fd9-8a01-97dd494fbb4c",
   "metadata": {},
   "source": [
    "## 向量及其运算"
   ]
  },
  {
   "cell_type": "markdown",
   "id": "08a8c278-8d70-4b51-a317-5b0a65e8d0aa",
   "metadata": {},
   "source": [
    "### 基本概念"
   ]
  },
  {
   "cell_type": "code",
   "execution_count": 1,
   "id": "5e902b93-c803-43d3-a671-07aed38cd19e",
   "metadata": {},
   "outputs": [],
   "source": [
    "# 特征向量"
   ]
  },
  {
   "cell_type": "markdown",
   "id": "f743a50d-676a-4891-aeaf-b638bf6dd212",
   "metadata": {},
   "source": [
    "### 基本运算"
   ]
  },
  {
   "cell_type": "code",
   "execution_count": null,
   "id": "56a9acbb-34b8-4882-8e9f-4c6ce5f545c1",
   "metadata": {},
   "outputs": [],
   "source": [
    "# 向量的内积\n",
    "# 内积为0, 表示正交\n",
    "# 向量的阿达马积, 对应分量相乘"
   ]
  },
  {
   "cell_type": "markdown",
   "id": "fa218909-887a-419b-b474-72fdb1f3ef5b",
   "metadata": {},
   "source": [
    "### 向量的范数"
   ]
  },
  {
   "cell_type": "code",
   "execution_count": 2,
   "id": "61aee70d-a6ac-4a9e-80e2-24f4dfc8a24e",
   "metadata": {},
   "outputs": [],
   "source": [
    "# L1范数\n",
    "# L2范数\n",
    "# L-无穷范数 max|x|\n",
    "# 柯西-施瓦茨不等式, 当且仅当两个向量成比例时, 取等号\n",
    "# 向量内积等于向量模✖️ cos, 向量之间的夹角大于90度, 内积为负数\n",
    "# 范数满足三角不等式"
   ]
  },
  {
   "cell_type": "markdown",
   "id": "95d7e343-efb0-4970-b6c5-25fd54ea799d",
   "metadata": {},
   "source": [
    "### 解析几何"
   ]
  },
  {
   "cell_type": "code",
   "execution_count": 3,
   "id": "1ca4093e-58aa-4686-94d8-1b6d238712ce",
   "metadata": {},
   "outputs": [],
   "source": [
    "# 超平面方程以及他的法向量\n",
    "# 点到超平面的距离"
   ]
  },
  {
   "cell_type": "markdown",
   "id": "8cb2a04e-9c24-403e-818e-f2117cf9de1c",
   "metadata": {},
   "source": [
    "### 线性相关性"
   ]
  },
  {
   "cell_type": "code",
   "execution_count": 4,
   "id": "159d58d5-7006-4187-a26c-b3e11fc44889",
   "metadata": {},
   "outputs": [],
   "source": [
    "# 可以线性表达\n",
    "# 线性相关与线性无关\n",
    "# 极大线性无关组"
   ]
  },
  {
   "cell_type": "markdown",
   "id": "a5991c0a-1ced-40bb-a5e9-380d18586b49",
   "metadata": {},
   "source": [
    "### 向量空间"
   ]
  },
  {
   "cell_type": "code",
   "execution_count": 5,
   "id": "352b1c71-7f2f-4ac5-94f2-6043cb3532f7",
   "metadata": {},
   "outputs": [],
   "source": [
    "# 线性空间\n",
    "# 子空间\n",
    "# 向量的基: 向量空间的极大线性无关组, 基的数量为空间的维数\n",
    "# 正交基, 标准正交基\n",
    "# 空间的基和标准正交基都不是唯一的"
   ]
  },
  {
   "cell_type": "code",
   "execution_count": 6,
   "id": "4513f62a-51c3-45a3-8a2d-b73e83618b7f",
   "metadata": {},
   "outputs": [],
   "source": [
    "# 制造标准正交基: 使用格拉姆-施密特正交化"
   ]
  },
  {
   "cell_type": "markdown",
   "id": "46b29b4d-813a-443b-bc42-5774350f7f18",
   "metadata": {},
   "source": [
    "### 应用举例: 线性回归"
   ]
  },
  {
   "cell_type": "code",
   "execution_count": 7,
   "id": "4da026d3-ec83-448c-83cc-fdce294dba3b",
   "metadata": {},
   "outputs": [],
   "source": [
    "# 最小化均分误差: MSE\n",
    "# 目标函数"
   ]
  },
  {
   "cell_type": "markdown",
   "id": "8f5e1521-956a-49c3-a0cb-a1f649c06d30",
   "metadata": {},
   "source": [
    "### 应用举例: 线性分类器与支持向量机"
   ]
  },
  {
   "cell_type": "code",
   "execution_count": 8,
   "id": "361c42f2-670e-4a2c-a8d5-6a4ab5995a24",
   "metadata": {},
   "outputs": [],
   "source": [
    "# 怎么理解支撑平面"
   ]
  },
  {
   "cell_type": "markdown",
   "id": "8fc1badd-66b9-4044-a13b-e7bd54b732a1",
   "metadata": {},
   "source": [
    "## 矩阵及其运算"
   ]
  },
  {
   "cell_type": "code",
   "execution_count": 9,
   "id": "8947b2de-ec16-4ca4-a821-4fa7b67a7836",
   "metadata": {},
   "outputs": [],
   "source": [
    "# 对称矩阵 PT = P\n",
    "# 对角矩阵 只有对角元素有值\n",
    "# 单位矩阵 \n",
    "# 正交矩阵 PT P = I 行列向量均为单位向量且相互正交, 构成标准正交基 \n",
    "# 格拉姆矩阵: 为转置 与其 向量组按列组成的矩阵乘积"
   ]
  },
  {
   "cell_type": "markdown",
   "id": "58834fa9-c097-4c70-881f-26f850f5cab1",
   "metadata": {},
   "source": [
    "### 基本运算"
   ]
  },
  {
   "cell_type": "code",
   "execution_count": 10,
   "id": "e82a0173-0f6e-4a6c-93c7-01502856de2f",
   "metadata": {},
   "outputs": [],
   "source": [
    "# 转置\n",
    "# 数乘\n",
    "# 矩阵相乘\n",
    "# 矩阵的阿达马积"
   ]
  },
  {
   "cell_type": "code",
   "execution_count": 11,
   "id": "c33ff0d0-777f-4308-8d97-ff7e96301ee1",
   "metadata": {},
   "outputs": [],
   "source": [
    "# 线性方程组的矩阵表示\n",
    "# 系数矩阵\n",
    "# 常数向量\n",
    "# 增广矩阵"
   ]
  },
  {
   "cell_type": "code",
   "execution_count": 12,
   "id": "86ee77df-0e8c-4681-9d12-d682be8f5322",
   "metadata": {},
   "outputs": [],
   "source": [
    "# 矩阵乘法的代码实现\n",
    "import numpy as np\n",
    "A = np.array([[1, 1, 0], [0, 0, 1]])\n",
    "B = np.array([[0, 1], [0, 0], [1, 0]])\n",
    "C = np.dot(A, B)"
   ]
  },
  {
   "cell_type": "code",
   "execution_count": 14,
   "id": "c989224a-7ba0-4f0b-8b7e-a605d43f5f17",
   "metadata": {},
   "outputs": [],
   "source": [
    "# 矩阵初等变换\n",
    "# 实现行或列的乘某个数: 左乘对角, 实现行"
   ]
  },
  {
   "cell_type": "code",
   "execution_count": 15,
   "id": "51f87585-ef53-4b0d-a886-055aaee6885d",
   "metadata": {},
   "outputs": [],
   "source": [
    "# 矩阵乘法不满足交换律"
   ]
  },
  {
   "cell_type": "code",
   "execution_count": 16,
   "id": "ab4728ad-b8f9-4f67-b21c-20963fe33314",
   "metadata": {},
   "outputs": [],
   "source": [
    "# 矩阵的分块"
   ]
  },
  {
   "cell_type": "markdown",
   "id": "b24622a9-934b-409c-85a8-2a00b9f254a5",
   "metadata": {},
   "source": [
    "### 逆矩阵"
   ]
  },
  {
   "cell_type": "code",
   "execution_count": 1,
   "id": "1106893d-61f4-4134-b7eb-4ad0aedc4ffb",
   "metadata": {},
   "outputs": [],
   "source": [
    "# 可逆矩阵也称为非奇异矩阵, 不可逆为奇异\n",
    "# 矩阵可逆, 则其逆矩阵唯一\n",
    "# 对角矩阵的逆矩阵为对角元素的倒数, 但是对角元素不能为0"
   ]
  },
  {
   "cell_type": "code",
   "execution_count": 2,
   "id": "89ba6479-9e24-4854-a2fa-abceaae3aca9",
   "metadata": {},
   "outputs": [],
   "source": [
    "# 矩阵的秩\n",
    "# 定义为线性无关的最大数量\n",
    "# 矩阵可逆的充要条件是满秩"
   ]
  },
  {
   "cell_type": "code",
   "execution_count": 4,
   "id": "d5030492-0fd4-48da-827d-8fdf8a0d0bc8",
   "metadata": {},
   "outputs": [],
   "source": [
    "# 矩阵的初等行变换\n",
    "# 三种初等行变换对应三种初等矩阵, 以及初等矩阵的逆矩阵\n",
    "# 对矩阵做初等行变换, 等价于左乘对应的初等矩阵"
   ]
  },
  {
   "cell_type": "code",
   "execution_count": 5,
   "id": "5922c08a-834e-4d2b-b49d-7adfaed3e293",
   "metadata": {},
   "outputs": [],
   "source": [
    "# 用初等行变换求矩阵的逆矩阵\n",
    "# P[A I] = [I A-1]"
   ]
  },
  {
   "cell_type": "code",
   "execution_count": 7,
   "id": "cbe770ea-c2e4-4885-83bf-8be2b650a1cb",
   "metadata": {},
   "outputs": [
    {
     "name": "stdout",
     "output_type": "stream",
     "text": [
      "[[1.  0.  0. ]\n",
      " [0.  1.  0. ]\n",
      " [0.  0.  0.2]]\n"
     ]
    }
   ],
   "source": [
    "# python实现矩阵的求逆\n",
    "import numpy as np\n",
    "A = np.array([[1, 0, 0], [0, 1, 0], [0, 0, 5]])\n",
    "B = np.linalg.inv(A)\n",
    "print(B)"
   ]
  },
  {
   "cell_type": "code",
   "execution_count": 11,
   "id": "ad925290-b8e2-4544-9b13-d7395dc67260",
   "metadata": {},
   "outputs": [],
   "source": [
    "# 正交矩阵\n",
    "# A AT = AT A = I\n",
    "# A-1 = AT"
   ]
  },
  {
   "cell_type": "code",
   "execution_count": 1,
   "id": "45c10828-f6bc-40a7-a7e8-508d9825c566",
   "metadata": {},
   "outputs": [],
   "source": [
    "# 正交矩阵的行列向量均为单位向量且相互正交, 构成标准正交基\n",
    "# 正交矩阵的乘积仍然是正交矩阵\n",
    "# 正交矩阵的逆矩阵仍然是正交矩阵\n",
    "# 正交矩阵的转置仍然是正交矩阵"
   ]
  },
  {
   "cell_type": "markdown",
   "id": "05adeef9-baf9-4005-9268-71d2747221bd",
   "metadata": {},
   "source": [
    "### 矩阵的范数"
   ]
  },
  {
   "cell_type": "code",
   "execution_count": 14,
   "id": "a6e4538e-fef1-458b-ac87-d0a7d1af6252",
   "metadata": {},
   "outputs": [],
   "source": [
    "# 诱导范数的几何意义是矩阵所代表的线性变换对向量进行变换后, 向量长度的最大拉伸倍数\n",
    "# 如果p=2, 则称为谱范数"
   ]
  },
  {
   "cell_type": "code",
   "execution_count": 15,
   "id": "80bb6b09-5a3f-49e1-8ce7-6d02a5939651",
   "metadata": {},
   "outputs": [],
   "source": [
    "# 矩阵的F范数\n",
    "# F范数是谱范数的一个上界"
   ]
  },
  {
   "cell_type": "markdown",
   "id": "5ac86df7-d532-403e-a5b2-2aae58604fdc",
   "metadata": {},
   "source": [
    "### 应用: 人工神经网络"
   ]
  },
  {
   "cell_type": "code",
   "execution_count": 16,
   "id": "2236f2b3-2d57-4be4-a2bc-7e9c13480979",
   "metadata": {},
   "outputs": [],
   "source": [
    "# 激活函数的作用是什么: \n",
    "# 我感觉是为了标准化数据"
   ]
  },
  {
   "cell_type": "markdown",
   "id": "ac3743a1-07b0-443b-b92a-cbd1ef3712c1",
   "metadata": {},
   "source": [
    "### 线性变换"
   ]
  },
  {
   "cell_type": "code",
   "execution_count": 17,
   "id": "19cee9cd-a24c-4e5f-8ff3-1b472ec72683",
   "metadata": {},
   "outputs": [],
   "source": [
    "# 对于线性空间, 加法和数乘都具有线性关系\n",
    "# 矩阵乘法就是线性变换\n",
    "# 旋转变换也是\n",
    "# 正交变换也是, 它能保持向量的长度不变. 对两个向量变换, 他们之间的角度不变. 对应的矩阵是正交矩阵"
   ]
  },
  {
   "cell_type": "code",
   "execution_count": 18,
   "id": "7a7d4e93-97e4-470d-8790-0c22861e0c9d",
   "metadata": {},
   "outputs": [],
   "source": [
    "# 旋转变换是正交变换, 可以证明旋转变换矩阵是正交矩阵, 所以是正交变换"
   ]
  },
  {
   "cell_type": "code",
   "execution_count": 19,
   "id": "92969fcc-6ccf-4a36-9896-2ccb0ee42a6a",
   "metadata": {},
   "outputs": [],
   "source": [
    "# 缩放变换也是线性变换"
   ]
  },
  {
   "cell_type": "markdown",
   "id": "92f23d82-8876-4c42-a018-af14183d6ef5",
   "metadata": {},
   "source": [
    "## 行列式"
   ]
  },
  {
   "cell_type": "code",
   "execution_count": 21,
   "id": "df1b03a7-b28c-4897-90fb-e6c74775e890",
   "metadata": {},
   "outputs": [],
   "source": [
    "# 二阶和三阶的公式"
   ]
  },
  {
   "cell_type": "code",
   "execution_count": 22,
   "id": "705e4cd4-9722-4f36-a030-6255070585a9",
   "metadata": {},
   "outputs": [],
   "source": [
    "# 行列式的拉普拉斯(laplace expansion)展开\n",
    "# 代数余子式"
   ]
  },
  {
   "cell_type": "code",
   "execution_count": 23,
   "id": "350a6de3-975d-46db-ab08-06c923e5bfb7",
   "metadata": {},
   "outputs": [],
   "source": [
    "# 行列式具有多线性"
   ]
  },
  {
   "cell_type": "code",
   "execution_count": 24,
   "id": "0fc59fe0-c93e-42a7-ae78-46f66a8dd5b4",
   "metadata": {},
   "outputs": [],
   "source": [
    "# 伴随矩阵: 通过代数余子式的转置构成\n",
    "# A A* = |A| I\n",
    "# A-1 = A* / |A| (|A|不等于0)"
   ]
  },
  {
   "cell_type": "code",
   "execution_count": 25,
   "id": "497bf066-cd34-4dcb-9db2-771dff349fdd",
   "metadata": {},
   "outputs": [],
   "source": [
    "# |AB| = |A||B|, 如果是尺寸相同"
   ]
  },
  {
   "cell_type": "code",
   "execution_count": 26,
   "id": "28e9d9f1-aaf8-49b3-9b56-b8af7ef4586d",
   "metadata": {},
   "outputs": [],
   "source": [
    "# 正交矩阵的行列式绝对值为1"
   ]
  },
  {
   "cell_type": "code",
   "execution_count": 30,
   "id": "b38a4c89-0d17-446f-9f93-fdaca8e496d5",
   "metadata": {},
   "outputs": [
    {
     "name": "stdout",
     "output_type": "stream",
     "text": [
      "4.999999999999999\n"
     ]
    }
   ],
   "source": [
    "# python实现行列式的计算\n",
    "import numpy as np\n",
    "A = np.array([[1, 0, 0], [0, 1, 0], [0, 0, 5]])\n",
    "d = np.linalg.det(A)\n",
    "print(d)"
   ]
  },
  {
   "cell_type": "code",
   "execution_count": 32,
   "id": "e62635cb-1f11-41d3-9f31-01f6799310d7",
   "metadata": {},
   "outputs": [
    {
     "name": "stdout",
     "output_type": "stream",
     "text": [
      "-9.51619735392994e-16\n"
     ]
    }
   ],
   "source": [
    "import numpy as np\n",
    "A = np.array([[1, 2, 3], [4, 5, 6], [7, 8, 9]])\n",
    "d = np.linalg.det(A)\n",
    "print(d)"
   ]
  },
  {
   "cell_type": "markdown",
   "id": "13268c59-7a8f-4094-a994-fb777813f061",
   "metadata": {},
   "source": [
    "## 线性方程组"
   ]
  },
  {
   "cell_type": "markdown",
   "id": "d9410641-82d2-48d1-92f4-3b98fa69000a",
   "metadata": {},
   "source": [
    "### 高斯消元法"
   ]
  },
  {
   "cell_type": "code",
   "execution_count": 34,
   "id": "e3c84485-694c-489b-8bf6-09e47a6fdf93",
   "metadata": {},
   "outputs": [],
   "source": [
    "# 交换方程位置\n",
    "# 用非0的常数乘以方程两端\n",
    "# 将一个方程的常数倍加到另一个方程上去"
   ]
  },
  {
   "cell_type": "markdown",
   "id": "80f8520c-7473-4d7e-b549-6a711e400169",
   "metadata": {},
   "source": [
    "### 齐次方程组"
   ]
  },
  {
   "cell_type": "code",
   "execution_count": 35,
   "id": "cc58d95c-5e22-40d4-91e1-d06322aec3dc",
   "metadata": {},
   "outputs": [],
   "source": [
    "# 判断条件:\n",
    "# 如果r(A) = n, 方程组只有0解\n",
    "# 如果r(A) < n, 方程组有非0解, 如果A是方阵, 也就是A不可逆 "
   ]
  },
  {
   "cell_type": "code",
   "execution_count": 37,
   "id": "f60678cd-7995-493a-8a63-96b3c1bba8f0",
   "metadata": {},
   "outputs": [],
   "source": [
    "# 解的性质与结构\n",
    "##基础解系: 线性无关且方程组的任意一个解都可以由这组解线性表示\n",
    "##基础解系包含n-r(A)个解, 他们的线性组合为最终的通解"
   ]
  },
  {
   "cell_type": "markdown",
   "id": "9885dea9-e6f7-4591-98de-9b86e10d960e",
   "metadata": {},
   "source": [
    "### 非齐次方程组"
   ]
  },
  {
   "cell_type": "code",
   "execution_count": 38,
   "id": "cc5ce8a7-9d3a-4c2c-ba23-83d4f8ac9bd4",
   "metadata": {},
   "outputs": [],
   "source": [
    "# 判定条件:\n",
    "# 如果r(A) = r(B), 那么方程组的解存在, 并且如果r(A) = n, 那么有唯一解; 如果r(A) < n, 那么有无穷解\n",
    "# 如果r(A) < r(B), 那么方程组的解不存在"
   ]
  },
  {
   "cell_type": "code",
   "execution_count": 39,
   "id": "6a9a6cf9-3eab-4b33-9191-1eacee9db7ee",
   "metadata": {},
   "outputs": [],
   "source": [
    "# 解的性质与结构\n",
    "##基础解系: 齐次方程组的通解 + 非齐次方程组的一个特解"
   ]
  },
  {
   "cell_type": "code",
   "execution_count": 40,
   "id": "4b9f0703-51db-45e7-a545-106a1cadb1a7",
   "metadata": {},
   "outputs": [
    {
     "name": "stdout",
     "output_type": "stream",
     "text": [
      "[2. 3.]\n"
     ]
    }
   ],
   "source": [
    "# python实现非齐次方程组\n",
    "import numpy as np\n",
    "A = np.array([[3, 1], [1, 2]])\n",
    "b = np.array([9, 8])\n",
    "x = np.linalg.solve(A, b)\n",
    "print(x)"
   ]
  },
  {
   "cell_type": "markdown",
   "id": "8225e41f-dbcb-41ed-b810-747e8be2653c",
   "metadata": {},
   "source": [
    "## 特征值和特征向量"
   ]
  },
  {
   "cell_type": "markdown",
   "id": "98d0382c-10f3-476f-b67e-2d79c4798172",
   "metadata": {},
   "source": [
    "### 特征值和特征向量"
   ]
  },
  {
   "cell_type": "code",
   "execution_count": 42,
   "id": "2ec148c7-0b0a-42cf-a769-bbb8adbf9b98",
   "metadata": {},
   "outputs": [],
   "source": [
    "# 特征向量是 经过这个矩阵的线性变换之后仍然处在同一条直线上的向量\n",
    "# 特征值, 特征向量\n",
    "# 特征矩阵, 特征方程\n",
    "# 矩阵的特征多项式"
   ]
  },
  {
   "cell_type": "code",
   "execution_count": 44,
   "id": "fe3c8289-2f51-4a51-b979-5b167684514a",
   "metadata": {},
   "outputs": [],
   "source": [
    "# 对角矩阵的特征值为其主对角线的元素"
   ]
  },
  {
   "cell_type": "code",
   "execution_count": 45,
   "id": "391fd03e-30f0-4bde-8fca-256dc3c163a2",
   "metadata": {},
   "outputs": [],
   "source": [
    "# 代数重数\n",
    "# 矩阵的谱: 特征值构成的集合\n",
    "# 矩阵的谱半径: 所有特征值绝对值的最大值"
   ]
  },
  {
   "cell_type": "code",
   "execution_count": 46,
   "id": "2f5c0b63-c10a-4e3d-ae68-4cd500152de1",
   "metadata": {},
   "outputs": [],
   "source": [
    "# 矩阵A不可逆, 则0是它的特征值; 矩阵A可逆, 则0不是他的特征值"
   ]
  },
  {
   "cell_type": "code",
   "execution_count": 47,
   "id": "e4784cce-43d6-4e06-99d6-8a2d931ac586",
   "metadata": {},
   "outputs": [],
   "source": [
    "# 几何重数\n",
    "# 特征子空间: 维度为m = n - r(A - xI)"
   ]
  },
  {
   "cell_type": "code",
   "execution_count": 48,
   "id": "eee0fb18-928d-4eb1-9d9e-7a22e756ed11",
   "metadata": {},
   "outputs": [],
   "source": [
    "# 对于超过四阶的矩阵, 求解的是高次方程, 并且没有公式解, 只能求近似解"
   ]
  },
  {
   "cell_type": "code",
   "execution_count": 50,
   "id": "84bdc05d-9b6b-4a15-b317-018178814197",
   "metadata": {},
   "outputs": [
    {
     "name": "stdout",
     "output_type": "stream",
     "text": [
      "[1. 1. 5.]\n",
      "[[1. 0. 0.]\n",
      " [0. 1. 0.]\n",
      " [0. 0. 1.]]\n"
     ]
    }
   ],
   "source": [
    "# python实现矩阵的特征值和特征向量\n",
    "import numpy as np \n",
    "A = np.array([[1, 0, 0], [0, 1, 0], [0, 0, 5]])\n",
    "eigvalues, eigvectors = np.linalg.eig(A)\n",
    "print(eigvalues)\n",
    "print(eigvectors)\n"
   ]
  },
  {
   "cell_type": "code",
   "execution_count": 51,
   "id": "15831103-4455-4bfa-881f-dac949ecbfc7",
   "metadata": {},
   "outputs": [],
   "source": [
    "# 特征值与矩阵的迹以及行列式的关系"
   ]
  },
  {
   "cell_type": "code",
   "execution_count": 52,
   "id": "75aeb97f-fbcb-4acc-ae98-ca1757437546",
   "metadata": {},
   "outputs": [],
   "source": [
    "# 矩阵迹 是 矩阵特征值的和\n",
    "# 矩阵的行列式的结果 是 矩阵特征值的积"
   ]
  },
  {
   "cell_type": "code",
   "execution_count": 53,
   "id": "62b376c8-8086-4ee5-a7d9-d1c82f2c7bd5",
   "metadata": {},
   "outputs": [],
   "source": [
    "# 特征值的重要性质\n",
    "# 1. 矩阵可逆, 逆矩阵的特征值是倒数, 特征向量不变\n",
    "# 2. 矩阵的n次方的特征值是n次方, 特征值的k倍是k倍\n",
    "# 3. 特征值的多项式==A的多项式\n",
    "# 4. A与AT有相同的特征值"
   ]
  },
  {
   "cell_type": "code",
   "execution_count": 54,
   "id": "e7783038-3c03-491f-a3cb-8bcfa487c92d",
   "metadata": {},
   "outputs": [],
   "source": [
    "# 特征向量的重要性质\n",
    "# 1. 同一个特征值的特征向量的非0特征组合仍然是关于特征值的特征向量\n",
    "# 2. 矩阵属于不同特征值的特征向量线性无关\n",
    "# 3. 实对称矩阵的特征值都是实数\n",
    "# 4. 共轭计算\n",
    "# 5. 实对称矩阵属于不同特征值的特征向量相互正交"
   ]
  },
  {
   "cell_type": "markdown",
   "id": "93ad2019-b925-4e5e-aa54-b8ced2ae638e",
   "metadata": {},
   "source": [
    "### 相似变换"
   ]
  },
  {
   "cell_type": "code",
   "execution_count": 55,
   "id": "0b0fb292-7c54-4661-86d1-42b76b22ce52",
   "metadata": {},
   "outputs": [],
   "source": [
    "# 相似变换, 相似变换矩阵"
   ]
  },
  {
   "cell_type": "code",
   "execution_count": 56,
   "id": "2fd842d5-15f8-4e18-b20d-b431e5e14457",
   "metadata": {},
   "outputs": [],
   "source": [
    "# 相似矩阵具有相同的特征值"
   ]
  },
  {
   "cell_type": "code",
   "execution_count": 59,
   "id": "da7d41d5-c14a-4aee-90de-1a6a51d3e3c5",
   "metadata": {},
   "outputs": [],
   "source": [
    "# 矩阵的相似对角化\n",
    "# P-1 A P = 对角矩阵, P为特征向量的排列, 对角矩阵为特征值. 前提是P可逆, 有n个特征值\n",
    "# 实对称矩阵一定可以对角化\n",
    "# n阶实对称矩阵有n个线性无关的特征向量"
   ]
  },
  {
   "cell_type": "markdown",
   "id": "78be00fb-8e9f-4a69-995f-636a1d75306d",
   "metadata": {},
   "source": [
    "### 正交变换"
   ]
  },
  {
   "cell_type": "code",
   "execution_count": 60,
   "id": "1d6bc3ed-70ed-4e23-b65c-b5cc866730cc",
   "metadata": {},
   "outputs": [],
   "source": [
    "# 前提是实对称矩阵\n",
    "# 实对称矩阵的特征向量已经是正交的, 可以让他们再单位化就可以构成正交矩阵\n",
    "# 正交矩阵又有A AT = I, 所以PT A P = 对角矩阵"
   ]
  },
  {
   "cell_type": "code",
   "execution_count": 2,
   "id": "7520d63e-2a42-4f38-a62a-9104250e09f4",
   "metadata": {},
   "outputs": [],
   "source": [
    "# 正交变换可以保证矩阵的对称性, P是正交矩阵, A是对称矩阵y\n",
    "# 两种正交变换, 一种是正交矩阵, 一种是正交以及对称矩阵"
   ]
  },
  {
   "cell_type": "code",
   "execution_count": 4,
   "id": "80b6ba15-da16-4409-8e63-ff9f04d70dac",
   "metadata": {},
   "outputs": [],
   "source": [
    "# HouseHolder变换\n",
    "##Householder矩阵\n",
    "##对称三对角矩阵\n",
    "##上海森堡矩阵"
   ]
  },
  {
   "cell_type": "markdown",
   "id": "4b758dc7-578a-4145-8734-f3bfde2aec42",
   "metadata": {},
   "source": [
    "### QR算法"
   ]
  },
  {
   "cell_type": "code",
   "execution_count": 5,
   "id": "d6a44aa3-7763-4c00-a457-0270aabd0200",
   "metadata": {},
   "outputs": [],
   "source": [
    "# 对于一个矩阵A, QR分解将其化为一个正交矩阵Q与一个上三角矩阵R的乘积"
   ]
  },
  {
   "cell_type": "code",
   "execution_count": 6,
   "id": "ae204aff-4707-4505-8c1b-0dcd36ddf9bc",
   "metadata": {},
   "outputs": [],
   "source": [
    "# A是迭代的, 并且一直是相似变换"
   ]
  },
  {
   "cell_type": "code",
   "execution_count": 7,
   "id": "700d3d41-ebbc-4df8-8868-b0d22d26e8bb",
   "metadata": {},
   "outputs": [],
   "source": [
    "# 因为QR迭代是正交变换, 所以A如果是对称矩阵的话, 保证对称性, 收敛到上三角, 最终为对角矩阵\n",
    "# 并且所有正交矩阵Q的乘积的所有列是A的特征向量"
   ]
  },
  {
   "cell_type": "code",
   "execution_count": 9,
   "id": "53d2fd24-f3ce-4c6b-aa99-b9dc21807342",
   "metadata": {},
   "outputs": [],
   "source": [
    "# 带移位的QR算法\n",
    "# 移位系数\n",
    "# A的迭代仍然的相似的"
   ]
  },
  {
   "cell_type": "markdown",
   "id": "cb8b36c0-04ca-47ed-8a08-422e36b63b02",
   "metadata": {},
   "source": [
    "### 广义特征值"
   ]
  },
  {
   "cell_type": "code",
   "execution_count": 10,
   "id": "f267e4ae-2232-4aee-954c-f7e83e494986",
   "metadata": {},
   "outputs": [],
   "source": [
    "# Ax = 特征值Bx"
   ]
  },
  {
   "cell_type": "markdown",
   "id": "3be608d7-c490-4419-9211-bccb928e4fc9",
   "metadata": {},
   "source": [
    "### 瑞利商"
   ]
  },
  {
   "cell_type": "code",
   "execution_count": 11,
   "id": "98dabeb1-9174-4757-b446-9e0ba7d7489c",
   "metadata": {},
   "outputs": [],
   "source": [
    "# 瑞利商的最小值为最小特征值, 最大值为最大特征值\n",
    "# 当x分别为最小大特征值对应的特征向量的时候取到这两个值"
   ]
  },
  {
   "cell_type": "code",
   "execution_count": 12,
   "id": "879a0f6b-bbb0-42c8-b5f0-82970b1530f3",
   "metadata": {},
   "outputs": [],
   "source": [
    "# 增加x为单位向量之后, 瑞利商变为唯一解\n",
    "# R = xT A x\n",
    "# 瑞利商的所有极值在特征值与特征向量处取到, 且在最大特征值处, 瑞利商有最大值"
   ]
  },
  {
   "cell_type": "code",
   "execution_count": 13,
   "id": "f806b145-94e2-4c91-b311-613e13819c21",
   "metadata": {},
   "outputs": [],
   "source": [
    "# 广义瑞利商\n",
    "##广义瑞利商的所有极值在广义特征值处取到."
   ]
  },
  {
   "cell_type": "markdown",
   "id": "2e67cbb7-f564-4703-9e03-feda36cad23f",
   "metadata": {},
   "source": [
    "### 谱范数与特征值的关系"
   ]
  },
  {
   "cell_type": "code",
   "execution_count": 16,
   "id": "9cdc53e7-db5b-45fa-a270-4fa6f95ceeac",
   "metadata": {},
   "outputs": [],
   "source": [
    "# 矩阵的谱范数等于WT W的最大特征值的平方根, 即W最大的奇异值\n",
    "# 奇异值是WT W特征值的平方根"
   ]
  },
  {
   "cell_type": "code",
   "execution_count": 17,
   "id": "c81f0ef6-980a-467d-bf37-086b336cc516",
   "metadata": {},
   "outputs": [],
   "source": [
    "# 谱范数的平方, 就是求瑞利商的极大值, 于是他的解是矩阵WT W的最大特征值, 于是求他的平方根"
   ]
  },
  {
   "cell_type": "code",
   "execution_count": 18,
   "id": "2993a55c-15eb-474e-a931-f2029ac393c3",
   "metadata": {},
   "outputs": [
    {
     "name": "stdout",
     "output_type": "stream",
     "text": [
      "22.40929816327044\n"
     ]
    }
   ],
   "source": [
    "# python实现求矩阵的范数\n",
    "import numpy as np\n",
    "A = np.array([[0, 1, 2, 3], [4, 5, 6, 7], [8, 9, 10, 11]])\n",
    "n = np.linalg.norm(A, ord=2)\n",
    "print(n)"
   ]
  },
  {
   "cell_type": "markdown",
   "id": "3f6179b2-c3e3-4ee2-8f72-ec2d23c116d1",
   "metadata": {},
   "source": [
    "### 条件数"
   ]
  },
  {
   "cell_type": "code",
   "execution_count": 19,
   "id": "8b20820c-6a51-44d2-9b89-df71a0a442d5",
   "metadata": {},
   "outputs": [],
   "source": [
    "# 定义为它的范数与它的逆矩阵范数的乘积 cond(W) = ||W|| ||W-1||"
   ]
  },
  {
   "cell_type": "code",
   "execution_count": 21,
   "id": "a85ec25a-44de-45f4-8189-5573c0cad04d",
   "metadata": {},
   "outputs": [],
   "source": [
    "# 如果使用的是谱范数, 那么||W||等于W的最大奇异值, ||W-1||等于W的最小奇异值的逆\n",
    "# 也就是说此时条件数为矩阵的最大特征值和最小特征值的比值 cond(W) >= 1"
   ]
  },
  {
   "cell_type": "code",
   "execution_count": 22,
   "id": "71084cf3-d6bf-4498-9772-4de3cdca4c07",
   "metadata": {},
   "outputs": [],
   "source": [
    "# 条件数决定了矩阵的稳定性, 条件数越大, 越接近不可逆矩阵"
   ]
  },
  {
   "cell_type": "code",
   "execution_count": 23,
   "id": "557153a2-d360-4a73-a39c-80a666f7a821",
   "metadata": {},
   "outputs": [
    {
     "name": "stdout",
     "output_type": "stream",
     "text": [
      "5.0\n"
     ]
    }
   ],
   "source": [
    "# python实现求条件数\n",
    "A = np.array([[1, 0, 0], [0, 1, 0], [0, 0, 5]])\n",
    "c = np.linalg.cond(A)\n",
    "print(c)"
   ]
  },
  {
   "cell_type": "markdown",
   "id": "82fa3c01-f3db-4d81-b662-9dd21c18af3c",
   "metadata": {},
   "source": [
    "### 应用: 谱归一化与谱正则化"
   ]
  },
  {
   "cell_type": "code",
   "execution_count": 24,
   "id": "3af232da-782b-4a80-b135-e4ed687f139b",
   "metadata": {},
   "outputs": [],
   "source": [
    "# 正则化: 较少过拟合, 迫使模型的参数值很小, 使模型可以泛化.\n",
    "# 具体的做法: 在目标函数中添加正则化项, 通常为参数向量的L1范数或者L2范数"
   ]
  },
  {
   "cell_type": "code",
   "execution_count": null,
   "id": "e3f868b4-a60f-4d8f-932d-87270c81986d",
   "metadata": {},
   "outputs": [],
   "source": [
    "# 谱正则化: 利用谱范数构造正则化项\n",
    "# 谱归一化: 将权重矩阵除以谱范数, 那么再计算谱范数则等于1\n",
    "# 利用幂迭代法计算谱范数"
   ]
  },
  {
   "cell_type": "code",
   "execution_count": 26,
   "id": "4df9a9d1-cbb3-4a1c-a100-cb739fab2267",
   "metadata": {},
   "outputs": [],
   "source": [
    "# 李普希茨条件: 权重矩阵的谱范数存在一个较小的上界值, 那么该神经网络的映射有较小的利普希茨常数"
   ]
  },
  {
   "cell_type": "code",
   "execution_count": 27,
   "id": "d244f388-01cc-45cf-ac4a-18a9fa21f30e",
   "metadata": {},
   "outputs": [],
   "source": [
    "# 谱正则化\n",
    "##为了使得具有较小的利普希茨常数, 所以需要有较小的谱范数\n",
    "##构建所有权重矩阵的谱范数平方之和"
   ]
  },
  {
   "cell_type": "markdown",
   "id": "cf84ccbf-facf-4872-a907-783c133f0179",
   "metadata": {},
   "source": [
    "## 二次型"
   ]
  },
  {
   "cell_type": "markdown",
   "id": "568f9bc4-04ff-41a2-bf49-8fdd7047123f",
   "metadata": {},
   "source": [
    "### 基本概念"
   ]
  },
  {
   "cell_type": "code",
   "execution_count": null,
   "id": "028c38bd-a52f-4289-a5c5-9499eae95524",
   "metadata": {},
   "outputs": [],
   "source": [
    "# 实对称矩阵与二次型一一对应"
   ]
  },
  {
   "cell_type": "markdown",
   "id": "2f61c185-555c-4c8d-9054-09a1c9e2cb14",
   "metadata": {},
   "source": [
    "### 正定二次型与正定矩阵"
   ]
  },
  {
   "cell_type": "code",
   "execution_count": 29,
   "id": "516336b1-0074-4f1c-8023-e79c185ef31d",
   "metadata": {},
   "outputs": [],
   "source": [
    "# 正定二次型: 一个二次型对于任意非0向量x取值都大于0\n",
    "# 正定矩阵: 使得二次型任意x非0取值都大于0的矩阵"
   ]
  },
  {
   "cell_type": "code",
   "execution_count": 30,
   "id": "5303c774-04a7-47f9-9b22-aa56514cfd0b",
   "metadata": {},
   "outputs": [],
   "source": [
    "# 半正定矩阵: 使得二次型任意x非0取值都大于等于0的矩阵\n",
    "# 负定矩阵\n",
    "# 不定矩阵: 不能保证大于或小于0"
   ]
  },
  {
   "cell_type": "code",
   "execution_count": 31,
   "id": "6f5786a2-a432-4600-9b71-0644e4ca2553",
   "metadata": {},
   "outputs": [],
   "source": [
    "# 正定矩阵的所有主对角线元素都大于0"
   ]
  },
  {
   "cell_type": "code",
   "execution_count": 32,
   "id": "baf8f03f-2a0e-405c-a66d-87831e199ba5",
   "metadata": {},
   "outputs": [],
   "source": [
    "# 除了定义法的证明\n",
    "# 第二种: A的n个特征值大于0\n",
    "        # 存在可逆矩阵P使得A = PT P\n",
    "        # 如果A是正定的, 那么AT也是正定的\n",
    "        # A的所有顺序主子式是均为正        "
   ]
  },
  {
   "cell_type": "code",
   "execution_count": 33,
   "id": "5d1c79d9-595e-4d5c-acec-5e6fca6170bb",
   "metadata": {},
   "outputs": [],
   "source": [
    "# 对于任意的矩阵A, AT A是对称半正定矩阵"
   ]
  },
  {
   "cell_type": "code",
   "execution_count": 34,
   "id": "2ccbaccf-5266-4af1-b369-3e5876e00b8b",
   "metadata": {},
   "outputs": [],
   "source": [
    "# 实对称矩阵负定的证明:\n",
    "##矩阵A的n个特征值都小于0\n",
    "##存在可逆矩阵P使得A = -PT P\n",
    "##矩阵A的所有奇数阶顺序主子式均为负, 偶数阶顺序主子式均为正"
   ]
  },
  {
   "cell_type": "markdown",
   "id": "23453631-5b81-4ca2-b968-6ee728199376",
   "metadata": {},
   "source": [
    "### 标准型"
   ]
  },
  {
   "cell_type": "code",
   "execution_count": 35,
   "id": "6a965340-afc4-4409-94c5-8eb305e6a269",
   "metadata": {},
   "outputs": [],
   "source": [
    "# 就是二次型由纯平方项构成"
   ]
  },
  {
   "cell_type": "code",
   "execution_count": 37,
   "id": "7a54652b-1aee-4930-b79b-2de722c888b2",
   "metadata": {},
   "outputs": [],
   "source": [
    "# 标准型对应的矩阵是对角矩阵\n",
    "# 正平方项的数量为正惯性指数 负的是负惯性指数"
   ]
  },
  {
   "cell_type": "code",
   "execution_count": 38,
   "id": "0056bb15-bfbd-402f-af73-3727159e34d9",
   "metadata": {},
   "outputs": [],
   "source": [
    "# 二次型的矩阵是对称矩阵, 一定可以对角化, 标准化"
   ]
  },
  {
   "cell_type": "code",
   "execution_count": 39,
   "id": "2ff1f32b-9add-497e-9f57-d1e50a9df5af",
   "metadata": {},
   "outputs": [],
   "source": [
    "# A = P 对角矩阵 PT\n",
    "# 如果矩阵A的n个特征值都是大于0, 则对角矩阵一定正定"
   ]
  },
  {
   "cell_type": "markdown",
   "id": "ce18e08b-356c-44ab-ad94-3f7f4e71e085",
   "metadata": {},
   "source": [
    "## 矩阵分解"
   ]
  },
  {
   "cell_type": "markdown",
   "id": "ad3606a6-1eaf-4d89-a9cb-ae65851e719d",
   "metadata": {},
   "source": [
    "### 楚列斯基分解"
   ]
  },
  {
   "cell_type": "code",
   "execution_count": 40,
   "id": "673c1924-d4ec-4bbf-9987-e2325c54b180",
   "metadata": {},
   "outputs": [],
   "source": [
    "# n阶对称半正定矩阵A, Cholesky分解 A = L LT, L为下三角矩阵\n",
    "# 如果是正定矩阵, 则分解唯一"
   ]
  },
  {
   "cell_type": "code",
   "execution_count": 43,
   "id": "2f8de5ab-f215-462e-bfce-bf6cf8a9cf7d",
   "metadata": {},
   "outputs": [],
   "source": [
    "# 利用Cholesky矩阵进行线性方程组求解\n",
    "# Ax = b, 如果A是正定矩阵\n",
    "# L LTx = b \n",
    "# L y = b 和 LT x = y"
   ]
  },
  {
   "cell_type": "code",
   "execution_count": 44,
   "id": "dfcda63f-0e6f-414e-a53d-5663c17420b1",
   "metadata": {},
   "outputs": [],
   "source": [
    "# 楚列斯基分解可以检测矩阵的半正定性\n",
    "# 楚列斯基的计算公式"
   ]
  },
  {
   "cell_type": "code",
   "execution_count": 51,
   "id": "ef2c7662-601f-46d3-b8ca-ab739bdadbe5",
   "metadata": {},
   "outputs": [
    {
     "name": "stdout",
     "output_type": "stream",
     "text": [
      "[[ 2.44948974  0.          0.          0.        ]\n",
      " [ 1.22474487  2.12132034  0.          0.        ]\n",
      " [ 1.63299316  1.41421356  2.30940108  0.        ]\n",
      " [ 3.26598632 -1.41421356  1.58771324  3.13249102]]\n"
     ]
    }
   ],
   "source": [
    "# python实现楚列斯基分解\n",
    "import numpy as np \n",
    "A = np.array([[6, 3, 4, 8], [3, 6, 5, 1], [4, 5, 10, 7], [8, 1, 7, 25]])\n",
    "L = np.linalg.cholesky(A)\n",
    "print(L)\n",
    "B = np.dot(L, L.T)"
   ]
  },
  {
   "cell_type": "markdown",
   "id": "69ecf62f-50bc-4ed1-9d2d-333e4e83cf50",
   "metadata": {},
   "source": [
    "### QR分解"
   ]
  },
  {
   "cell_type": "code",
   "execution_count": 1,
   "id": "35cdd751-7178-490f-9307-2c8b654c4aac",
   "metadata": {},
   "outputs": [],
   "source": [
    "# A = QR"
   ]
  },
  {
   "cell_type": "code",
   "execution_count": 2,
   "id": "6368847f-8f56-416d-9d87-33c62acb4879",
   "metadata": {},
   "outputs": [],
   "source": [
    "# A是方阵\n",
    "# 如果矩阵A可逆且要求矩阵R的主对角元素为正的\n",
    "# 如果A有m个线性无关的列, 则Q的前m个列构成A的列空间的标准正交基"
   ]
  },
  {
   "cell_type": "code",
   "execution_count": 4,
   "id": "1705ac19-a8f3-4e6a-b385-c43a19b31499",
   "metadata": {},
   "outputs": [],
   "source": [
    "# A不是方阵"
   ]
  },
  {
   "cell_type": "code",
   "execution_count": 6,
   "id": "7a46e2ca-d67c-4663-9243-b88801579ae2",
   "metadata": {},
   "outputs": [],
   "source": [
    "# QR分解的三种方式: 格拉姆-施密特正交化, 豪斯霍尔德变换, 吉文斯旋转"
   ]
  },
  {
   "cell_type": "code",
   "execution_count": 8,
   "id": "762cdd20-f990-4ecb-bd63-e484dd2a8e95",
   "metadata": {},
   "outputs": [],
   "source": [
    "# 格拉姆-施密特正交化\n",
    "# 1. 使用施密特正交化将矩阵A列正交化单位化\n",
    "# 2. 再求得上三角矩阵"
   ]
  },
  {
   "cell_type": "code",
   "execution_count": 9,
   "id": "9183c342-2f7e-4731-a996-9b0157963157",
   "metadata": {},
   "outputs": [],
   "source": [
    "# HouseHolder变换"
   ]
  },
  {
   "cell_type": "code",
   "execution_count": 11,
   "id": "c6de0dea-4718-4a6f-8377-05fef2c5aafe",
   "metadata": {},
   "outputs": [
    {
     "name": "stdout",
     "output_type": "stream",
     "text": [
      "[[-0.12309149  0.90453403  0.40824829]\n",
      " [-0.49236596  0.30151134 -0.81649658]\n",
      " [-0.86164044 -0.30151134  0.40824829]]\n",
      "[[-8.12403840e+00 -9.60113630e+00 -1.10782342e+01]\n",
      " [ 0.00000000e+00  9.04534034e-01  1.80906807e+00]\n",
      " [ 0.00000000e+00  0.00000000e+00 -1.11164740e-15]]\n"
     ]
    }
   ],
   "source": [
    "# 利用python实现QR分解\n",
    "import numpy as np\n",
    "A = np.array([[1, 2, 3], [4, 5, 6], [7, 8, 9]])\n",
    "Q, R = np.linalg.qr(A)\n",
    "print(Q)\n",
    "print(R)"
   ]
  },
  {
   "cell_type": "code",
   "execution_count": 13,
   "id": "51bac35c-5ef6-48e1-ac27-7ce3f5068de4",
   "metadata": {},
   "outputs": [
    {
     "name": "stdout",
     "output_type": "stream",
     "text": [
      "[[-0.24253563 -0.9701425 ]\n",
      " [-0.9701425   0.24253563]]\n",
      "[[-4.12310563 -5.33578375 -6.54846188]\n",
      " [ 0.         -0.72760688 -1.45521375]]\n"
     ]
    }
   ],
   "source": [
    "import numpy as np \n",
    "A = np.array([[1, 2, 3], [4, 5, 6]])\n",
    "Q, R = np.linalg.qr(A)\n",
    "print(Q)\n",
    "print(R)"
   ]
  },
  {
   "cell_type": "markdown",
   "id": "b050d688-6438-43e1-9363-443fd5e8916c",
   "metadata": {},
   "source": [
    "### 特征值分解"
   ]
  },
  {
   "cell_type": "code",
   "execution_count": null,
   "id": "c5ed9264-5c48-4871-9d60-927f4e44c3ec",
   "metadata": {},
   "outputs": [],
   "source": [
    "# n阶矩阵可以特征值分解的充要条件是, 他有n个线性无关的特征向量"
   ]
  },
  {
   "cell_type": "code",
   "execution_count": 14,
   "id": "c9c37470-2f7f-49be-86f8-28abb7d94fdc",
   "metadata": {},
   "outputs": [],
   "source": [
    "# 特征值分解可以用来求解矩阵的逆矩阵\n",
    "# A-1 = Q V-1 Q-1"
   ]
  },
  {
   "cell_type": "code",
   "execution_count": 15,
   "id": "d79ad6dc-735f-4226-a4ba-5ddc57b08fcd",
   "metadata": {},
   "outputs": [],
   "source": [
    "# 特征值分解可以用来计算矩阵的多项式或者幂\n",
    "# 对角矩阵的幂仍然是对角矩阵, 是主对角线元素分别求幂"
   ]
  },
  {
   "cell_type": "code",
   "execution_count": null,
   "id": "7092f116-b423-467a-8e6c-f03f6b8fddd5",
   "metadata": {},
   "outputs": [],
   "source": [
    "# 如果A是实对称矩阵\n",
    "## 那么特征向量可以正交化\n",
    "## 特征值分解为  A = Q V QT, Q是正交矩阵, 他的列是正交化特征向量"
   ]
  },
  {
   "cell_type": "code",
   "execution_count": 16,
   "id": "cc3771db-a5bf-444c-be73-9cf9edca5239",
   "metadata": {},
   "outputs": [
    {
     "name": "stdout",
     "output_type": "stream",
     "text": [
      "[ 1.61168440e+01 -1.11684397e+00 -3.38433605e-16]\n",
      "[[-0.23197069 -0.78583024  0.40824829]\n",
      " [-0.52532209 -0.08675134 -0.81649658]\n",
      " [-0.8186735   0.61232756  0.40824829]]\n"
     ]
    }
   ],
   "source": [
    "# 使用python实现特征值分解\n",
    "import numpy as np\n",
    "A = np.array([[1, 2, 3], [4, 5, 6], [7, 8, 9]])\n",
    "V, U = np.linalg.eig(A)\n",
    "print(V)  # 特征值\n",
    "print(U)  # 特征向量"
   ]
  },
  {
   "cell_type": "markdown",
   "id": "bead091a-1ae8-4ca3-98eb-dfc6cdac10a9",
   "metadata": {},
   "source": [
    "### 奇异值分解"
   ]
  },
  {
   "cell_type": "code",
   "execution_count": 17,
   "id": "d4d94004-9450-435d-b58e-ca6364955082",
   "metadata": {},
   "outputs": [],
   "source": [
    "# 奇异值分解(SVD)是对特征值分解的推广\n",
    "# SVD是对A AT和AT A进行特征值分解, 因为A AT是对称半正定矩阵, 一定可以特征值分解(对称矩阵)\n",
    "# UT A V = E\n",
    "# U的列为A的左奇异向量, AAT的特征向量; V的行为A的右奇异向量, ATA的特征向量\n",
    "# U, V都是正交矩阵, 因为是实对称矩阵的特征向量"
   ]
  },
  {
   "cell_type": "code",
   "execution_count": null,
   "id": "25f4f8b3-60a9-4f54-803f-5fee3cb50da4",
   "metadata": {},
   "outputs": [],
   "source": [
    "# 矩阵的奇异值分解: A = U E VT"
   ]
  },
  {
   "cell_type": "code",
   "execution_count": 18,
   "id": "279b0ed6-1718-4cb6-b712-142eb0085b47",
   "metadata": {},
   "outputs": [],
   "source": [
    "# AAT和ATA有相同的非0特征值, 但有不同的特征向量\n",
    "# AAT的特征向量是x, ATA的特征向量是ATx\n",
    "# ATA的特征向量是x, AAT的特征向量是Ax\n",
    "# AAT的0特征值不一定是ATA的0特征值"
   ]
  },
  {
   "cell_type": "code",
   "execution_count": 19,
   "id": "5b2c2ec8-d59f-4527-8b9d-d27320d3fb71",
   "metadata": {},
   "outputs": [],
   "source": [
    "# 奇异值: AAT的特征值的非负平方根是A的奇异值"
   ]
  },
  {
   "cell_type": "code",
   "execution_count": 20,
   "id": "9f38c3d9-1a01-409e-a4d6-c1b18683481e",
   "metadata": {},
   "outputs": [],
   "source": [
    "# ATA的特征值分解: AAT = V ET E VT = V E2 VT\n",
    "# AAT也是类似的"
   ]
  },
  {
   "cell_type": "code",
   "execution_count": 21,
   "id": "02747240-acb1-4a36-a3e2-061d054f0f44",
   "metadata": {},
   "outputs": [],
   "source": [
    "# 如果A的对称矩阵, 那么AAT = ATA = AA\n",
    "# 并且AA的特征值是A特征值的平方, A的奇异值为其特征值的绝对值"
   ]
  },
  {
   "cell_type": "code",
   "execution_count": 25,
   "id": "023c53aa-ec2b-498a-894b-c28e24769ad7",
   "metadata": {},
   "outputs": [
    {
     "name": "stdout",
     "output_type": "stream",
     "text": [
      "[[-0.3863177   0.92236578]\n",
      " [-0.92236578 -0.3863177 ]]\n",
      "[9.508032   0.77286964]\n",
      "[[-0.42866713 -0.56630692 -0.7039467 ]\n",
      " [-0.80596391 -0.11238241  0.58119908]\n",
      " [ 0.40824829 -0.81649658  0.40824829]]\n"
     ]
    }
   ],
   "source": [
    "# python实现SVD分解\n",
    "import numpy as np \n",
    "data = np.array([[1, 2, 3], [4, 5, 6]])\n",
    "u, sigma, vt = np.linalg.svd(data)\n",
    "print(u)  # A = u xx vt\n",
    "print(sigma) # sigma是所有的非0奇异值\n",
    "print(vt)"
   ]
  },
  {
   "cell_type": "code",
   "execution_count": 28,
   "id": "230474e7-1627-4c3c-8d78-172d670bb248",
   "metadata": {},
   "outputs": [],
   "source": [
    "# 奇异值分解的几何意义\n",
    "## 对矩阵A的线性变换其实是先旋转变换, 后拉伸变换, 再旋转变换"
   ]
  },
  {
   "cell_type": "code",
   "execution_count": null,
   "id": "dab6b3b5-f83c-458a-a442-55262fa20fe9",
   "metadata": {},
   "outputs": [],
   "source": []
  }
 ],
 "metadata": {
  "kernelspec": {
   "display_name": "Python 3",
   "language": "python",
   "name": "python3"
  },
  "language_info": {
   "codemirror_mode": {
    "name": "ipython",
    "version": 3
   },
   "file_extension": ".py",
   "mimetype": "text/x-python",
   "name": "python",
   "nbconvert_exporter": "python",
   "pygments_lexer": "ipython3",
   "version": "3.7.6"
  },
  "toc-autonumbering": true
 },
 "nbformat": 4,
 "nbformat_minor": 5
}
