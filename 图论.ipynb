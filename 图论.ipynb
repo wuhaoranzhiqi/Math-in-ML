{
 "cells": [
  {
   "cell_type": "markdown",
   "id": "f5f578cf-a551-45e7-a73d-7d5d5c29f38c",
   "metadata": {},
   "source": [
    "# 图论"
   ]
  },
  {
   "cell_type": "markdown",
   "id": "488de7cd-24e1-4129-bf5c-ba78c51a1e2b",
   "metadata": {},
   "source": [
    "## 图的基本概念"
   ]
  },
  {
   "cell_type": "markdown",
   "id": "bcdf8812-eec7-43ee-9d0e-44e296458344",
   "metadata": {},
   "source": [
    "### 图定义及相关术语"
   ]
  },
  {
   "cell_type": "code",
   "execution_count": 2,
   "id": "57c3f3e1-0a51-47ad-8e60-566f5a76fc1e",
   "metadata": {},
   "outputs": [],
   "source": [
    "# 无向图: 所有顶点的度之和 对于 边的数量的两倍\n",
    "# 有向图: 所有顶点的入度之和 + 出度之和 = 边的数量"
   ]
  },
  {
   "cell_type": "markdown",
   "id": "509c3a24-aae0-4b49-825e-67f41d12aff5",
   "metadata": {},
   "source": [
    "### 应用: 计算图与自动微分"
   ]
  },
  {
   "cell_type": "code",
   "execution_count": 1,
   "id": "720e02eb-ce4d-44b9-900c-863bb7251c8c",
   "metadata": {},
   "outputs": [],
   "source": [
    "# 自动微分(前向, 反向)\n",
    "# 前向只能计算对一个自变量的偏导数, 所以对于n元函数, 需要运行n次算法才能求出结果\n",
    "# 反向微分"
   ]
  },
  {
   "cell_type": "markdown",
   "id": "9890e1b9-042f-440f-ab28-e711dc97a985",
   "metadata": {},
   "source": [
    "### 应用: 概率图模型"
   ]
  },
  {
   "cell_type": "markdown",
   "id": "48efe20d-1579-41e7-bf91-fbe0f06df89b",
   "metadata": {},
   "source": [
    "### 邻接矩阵与加权度矩阵"
   ]
  },
  {
   "cell_type": "code",
   "execution_count": 4,
   "id": "9b6c24b9-0de3-401a-b34f-97df85bd7096",
   "metadata": {},
   "outputs": [],
   "source": [
    "# 无向图的邻接矩阵是对称矩阵, wij的值为边与边直角的权重\n",
    "# 对于不带权重的图, 他们相连则为1, 否则为0"
   ]
  },
  {
   "cell_type": "code",
   "execution_count": 5,
   "id": "dfe2caa5-2d93-4d80-8a7b-7a23f1f7d289",
   "metadata": {},
   "outputs": [],
   "source": [
    "# 加权度: 定义为与其相关的边的权重之和\n",
    "# 加权度矩阵: 是一个对角矩阵, 如果存在孤立节点, 那么其是一个奇异矩阵."
   ]
  },
  {
   "cell_type": "markdown",
   "id": "1d5330d7-611f-4aa2-8813-6850c64072ea",
   "metadata": {},
   "source": [
    "### 应用: 样本集的相似度图"
   ]
  },
  {
   "cell_type": "code",
   "execution_count": 1,
   "id": "aab77c21-8a02-4a14-862f-20326b53bd8e",
   "metadata": {},
   "outputs": [],
   "source": [
    "# 相似度图: 图的顶点对应于每个样本点, 边为样本点之间的相似度\n",
    "## 计算两个样本点是否接近的方法: 1.计算二者的欧氏距离, 如果距离小于某个值, 则认为其接近. 2.近邻规则, KNN类似\n",
    "## 计算权重的方法: 1.设置公式 2.连通为1, 不连通为0"
   ]
  },
  {
   "cell_type": "markdown",
   "id": "669c6dbf-2f73-4fdb-bd25-21a75d5db384",
   "metadata": {},
   "source": [
    "## 若干特殊的图"
   ]
  },
  {
   "cell_type": "markdown",
   "id": "078607a7-0ba5-4e00-bfd0-379c52e038f6",
   "metadata": {},
   "source": [
    "### 连通图"
   ]
  },
  {
   "cell_type": "code",
   "execution_count": 2,
   "id": "d65ea537-24b2-4cb6-b0ed-9b32923d7833",
   "metadata": {},
   "outputs": [],
   "source": [
    "# 路径, 如果顶点不重复, 称为简单路径\n",
    "# 路径长度\n",
    "# 连通图: 对于无向图, 任意两个顶点是连通的\n",
    "# 连通分量\n",
    "# 强连通图: 对于有向图, 任意两个顶点都有路径\n",
    "# 强连通分量"
   ]
  },
  {
   "cell_type": "markdown",
   "id": "a6d89eed-f644-40f9-874f-cc3b6048e1ae",
   "metadata": {},
   "source": [
    "### 二部图"
   ]
  },
  {
   "cell_type": "code",
   "execution_count": 3,
   "id": "63ac49a9-a169-41f1-a86e-27859a0b8dcd",
   "metadata": {},
   "outputs": [],
   "source": [
    "# 1. 图的顶点分为两个没有交集的子集A和B\n",
    "# 2. 子集A和B的内部没有边存在"
   ]
  },
  {
   "cell_type": "code",
   "execution_count": 4,
   "id": "ae928d25-5cd1-45be-a645-883087b10488",
   "metadata": {},
   "outputs": [],
   "source": [
    "# 二部图的判定准则: 1.至少两个顶点 2.所有回路的长度均为偶数 3.没有回路的图"
   ]
  },
  {
   "cell_type": "markdown",
   "id": "316a92c5-998d-4321-9463-1c8b25f90a27",
   "metadata": {},
   "source": [
    "### 应用: 受限玻尔兹曼机"
   ]
  },
  {
   "cell_type": "code",
   "execution_count": 6,
   "id": "613c0c47-a0f3-4ce8-8ef7-8b924151d115",
   "metadata": {},
   "outputs": [],
   "source": [
    "# 玻尔兹曼分布"
   ]
  },
  {
   "cell_type": "markdown",
   "id": "0e2d4a52-8f25-42c4-a9db-713f4f3fcb91",
   "metadata": {},
   "source": [
    "### 有向无环图"
   ]
  },
  {
   "cell_type": "code",
   "execution_count": null,
   "id": "e2882d35-e99e-424b-a62e-8680b9fedbb9",
   "metadata": {},
   "outputs": [],
   "source": [
    "# 没有回路存在\n",
    "# 可以通过拓扑排序算法识别"
   ]
  },
  {
   "cell_type": "markdown",
   "id": "82a3ad90-b18c-4ead-a0d5-ad7c8427f7f7",
   "metadata": {},
   "source": [
    "### 应用: 神经结构搜索"
   ]
  },
  {
   "cell_type": "code",
   "execution_count": 7,
   "id": "330e8c0e-6804-480a-815c-d7af4e9d5a7c",
   "metadata": {},
   "outputs": [],
   "source": [
    "# 如何将网络结构编码成固定长度的二进制串"
   ]
  },
  {
   "cell_type": "markdown",
   "id": "9027c23c-25e6-4495-9965-448611c7e471",
   "metadata": {},
   "source": [
    "## 重要的算法"
   ]
  },
  {
   "cell_type": "markdown",
   "id": "19eca942-682f-44aa-b34d-9e6113ae9890",
   "metadata": {},
   "source": [
    "### 遍历算法"
   ]
  },
  {
   "cell_type": "code",
   "execution_count": 1,
   "id": "245ecd75-86e9-4603-9404-a1cfde75bc9d",
   "metadata": {},
   "outputs": [],
   "source": [
    "# 深度优先搜索: 不断访问, 和回退\n",
    "# 可以使用栈来实现"
   ]
  },
  {
   "cell_type": "code",
   "execution_count": 3,
   "id": "e1fd428a-4b41-49d8-8452-9e8de3662301",
   "metadata": {},
   "outputs": [],
   "source": [
    "# 广度优先搜索: 访问完毕所有临近顶点\n",
    "# 可以使用队列来实现"
   ]
  },
  {
   "cell_type": "markdown",
   "id": "26fe6e30-b7bf-4b13-b693-0182b2f2f339",
   "metadata": {},
   "source": [
    "### 最短路径算法"
   ]
  },
  {
   "cell_type": "code",
   "execution_count": 4,
   "id": "2b54577a-d951-4b7c-9c0b-dcbdb992e278",
   "metadata": {},
   "outputs": [],
   "source": [
    "# dijkstra算法"
   ]
  },
  {
   "cell_type": "markdown",
   "id": "99fc9198-bf35-44e8-b53e-5f32d13093c9",
   "metadata": {},
   "source": [
    "### 拓扑排序算法"
   ]
  },
  {
   "cell_type": "code",
   "execution_count": 5,
   "id": "04ddf34e-5bde-4295-9302-60d42bcb08d2",
   "metadata": {},
   "outputs": [],
   "source": [
    "# 图能够进行拓扑排序的充要条件是它是有向无环图"
   ]
  },
  {
   "cell_type": "code",
   "execution_count": 6,
   "id": "f501cfb6-4d9d-47a2-a7ba-c5f68cef9427",
   "metadata": {},
   "outputs": [],
   "source": [
    "# 基于贪心策略的方法\n",
    "# 基于深度优先搜索的方法"
   ]
  },
  {
   "cell_type": "markdown",
   "id": "8adb052a-8ea6-4b12-905d-d6558f784011",
   "metadata": {},
   "source": [
    "## 谱图理论"
   ]
  },
  {
   "cell_type": "code",
   "execution_count": null,
   "id": "0bfdabf2-13d5-43af-af4a-9f4662fed91a",
   "metadata": {},
   "outputs": [],
   "source": [
    "# 借助图的拉普拉斯矩阵的特征值和特征向量来研究图, 称为谱图理论"
   ]
  },
  {
   "cell_type": "markdown",
   "id": "3dfb11a6-b86e-4246-92d5-ea982595abe1",
   "metadata": {},
   "source": [
    "### 拉普拉斯矩阵"
   ]
  },
  {
   "cell_type": "code",
   "execution_count": null,
   "id": "a356f492-9d16-413d-b17e-77a30b16e8ef",
   "metadata": {},
   "outputs": [],
   "source": [
    "# 拉布拉斯矩阵定义为: 加权度矩阵与邻接矩阵之差"
   ]
  },
  {
   "cell_type": "code",
   "execution_count": 1,
   "id": "68491474-f70c-45f6-9773-2e8c9ec63468",
   "metadata": {},
   "outputs": [],
   "source": [
    "# 性质1: fT L f\n",
    "# 性质2: 拉普拉斯矩阵是半正定的\n",
    "# 性质3: 拉普拉斯矩阵的最小特征值为0, 其对应的特征向量为常向量1\n",
    "# 性质4: 拉布拉斯矩阵有n个非负实数特征值\n",
    "## 图中的自环不影响图的拉布拉斯矩阵"
   ]
  },
  {
   "cell_type": "code",
   "execution_count": null,
   "id": "89824451-b12f-41c6-9429-a4b1905fea37",
   "metadata": {},
   "outputs": [],
   "source": [
    "# 拉普拉斯矩阵与图\n",
    "## 拉普拉斯矩阵L的特征值0的重数k等于图的连通分量的个数"
   ]
  },
  {
   "cell_type": "markdown",
   "id": "b3371834-3a9e-4024-8f7a-885999e6fb47",
   "metadata": {},
   "source": [
    "### 归一化拉普拉斯矩阵"
   ]
  },
  {
   "cell_type": "code",
   "execution_count": 1,
   "id": "9a49ff89-0f9a-446e-8843-9f7036b128a9",
   "metadata": {},
   "outputs": [],
   "source": [
    "# 对称归一化\n",
    "# 随机漫步归一化"
   ]
  },
  {
   "cell_type": "code",
   "execution_count": null,
   "id": "fc197d31-0c33-4a0b-b05a-61d331aee5ea",
   "metadata": {},
   "outputs": [],
   "source": [
    "# 几个重要性质"
   ]
  },
  {
   "cell_type": "code",
   "execution_count": null,
   "id": "ae461a52-9297-47a5-b625-d7b651e5e347",
   "metadata": {},
   "outputs": [],
   "source": [
    "# 归一化拉普拉斯矩阵的特征值0的重数k等于图的连通分量的个数\n",
    "# 特征值0的特征空间由这些连通分量所对应的向量所组成"
   ]
  },
  {
   "cell_type": "markdown",
   "id": "cb9e170b-4f84-48c6-850c-6e5eb4d2c87a",
   "metadata": {},
   "source": [
    "### 应用: 流形降维"
   ]
  },
  {
   "cell_type": "code",
   "execution_count": null,
   "id": "eda822ff-bf42-4ccd-a6d8-84298d5bbe0d",
   "metadata": {},
   "outputs": [],
   "source": [
    "# 拉普拉斯特征映射"
   ]
  },
  {
   "cell_type": "code",
   "execution_count": 2,
   "id": "2087d8d5-7e37-42f5-ac39-acef5d2da706",
   "metadata": {},
   "outputs": [],
   "source": [
    "# 最优投影结果是第二种归一化拉普拉斯矩阵的特征值的特征矩阵"
   ]
  },
  {
   "cell_type": "code",
   "execution_count": null,
   "id": "b54ec46e-fd53-43a1-831e-dff91d3bb16e",
   "metadata": {},
   "outputs": [],
   "source": [
    "# 降维算法的步骤:\n",
    "## 1.为样本点构造加权图\n",
    "## 2.计算图的拉布拉斯矩阵和邻接矩阵\n",
    "## 3.特征映射, 求解广义特征值和特征向量\n",
    "## 4.向量xi是投影结果为这d个特征向量的第i个分量构成的向量"
   ]
  }
 ],
 "metadata": {
  "kernelspec": {
   "display_name": "Python 3",
   "language": "python",
   "name": "python3"
  },
  "language_info": {
   "codemirror_mode": {
    "name": "ipython",
    "version": 3
   },
   "file_extension": ".py",
   "mimetype": "text/x-python",
   "name": "python",
   "nbconvert_exporter": "python",
   "pygments_lexer": "ipython3",
   "version": "3.7.6"
  },
  "toc-autonumbering": true
 },
 "nbformat": 4,
 "nbformat_minor": 5
}
