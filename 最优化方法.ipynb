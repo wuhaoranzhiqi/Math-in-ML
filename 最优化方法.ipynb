{
 "cells": [
  {
   "cell_type": "markdown",
   "id": "f115b3d9-5b1c-40c2-97e0-9b1fafab8e25",
   "metadata": {},
   "source": [
    "# 最优化算法"
   ]
  },
  {
   "cell_type": "markdown",
   "id": "215b770b-89c9-4f08-b0b1-e53a3aca36d6",
   "metadata": {},
   "source": [
    "## 基本概念"
   ]
  },
  {
   "cell_type": "markdown",
   "id": "2b769166-fb99-4253-b634-ef6a090901e3",
   "metadata": {},
   "source": [
    "### 问题定义"
   ]
  },
  {
   "cell_type": "code",
   "execution_count": 1,
   "id": "21966725-5e1e-44d5-a8a2-616e96e8f5e3",
   "metadata": {},
   "outputs": [],
   "source": [
    "# 目标函数 优化变量\n",
    "# 可行域: 由目标函数的定义域, 等式, 以及不等式约束"
   ]
  },
  {
   "cell_type": "code",
   "execution_count": 2,
   "id": "74bad976-e984-42c7-b744-15f389a56446",
   "metadata": {},
   "outputs": [],
   "source": [
    "# 如果目标函数为一次函数, 则称为线性规划\n",
    "# 如果不是非线性函数, 则称为非线性规划. 一种特例是二次函数, 称为二次规划"
   ]
  },
  {
   "cell_type": "code",
   "execution_count": null,
   "id": "0af2c124-0f90-4989-8d43-9942ac15f497",
   "metadata": {},
   "outputs": [],
   "source": []
  }
 ],
 "metadata": {
  "kernelspec": {
   "display_name": "Python 3",
   "language": "python",
   "name": "python3"
  },
  "language_info": {
   "codemirror_mode": {
    "name": "ipython",
    "version": 3
   },
   "file_extension": ".py",
   "mimetype": "text/x-python",
   "name": "python",
   "nbconvert_exporter": "python",
   "pygments_lexer": "ipython3",
   "version": "3.7.6"
  }
 },
 "nbformat": 4,
 "nbformat_minor": 5
}
